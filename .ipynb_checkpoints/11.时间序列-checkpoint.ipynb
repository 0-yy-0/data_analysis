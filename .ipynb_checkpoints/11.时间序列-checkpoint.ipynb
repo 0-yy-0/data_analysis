{
 "cells": [
  {
   "cell_type": "markdown",
   "metadata": {},
   "source": [
    "## 11.1日期和时间数据的类型及工具"
   ]
  },
  {
   "cell_type": "code",
   "execution_count": 2,
   "metadata": {},
   "outputs": [],
   "source": [
    "from datetime import datetime\n",
    "import pandas as pd\n",
    "import numpy as np\n",
    "import matplotlib.pyplot as plot"
   ]
  },
  {
   "cell_type": "code",
   "execution_count": 145,
   "metadata": {},
   "outputs": [],
   "source": [
    "%matplotlib notebook"
   ]
  },
  {
   "cell_type": "code",
   "execution_count": 3,
   "metadata": {},
   "outputs": [],
   "source": [
    "now = datetime.now()"
   ]
  },
  {
   "cell_type": "code",
   "execution_count": 4,
   "metadata": {},
   "outputs": [
    {
     "data": {
      "text/plain": [
       "datetime.datetime(2019, 7, 23, 19, 56, 29, 456415)"
      ]
     },
     "execution_count": 4,
     "metadata": {},
     "output_type": "execute_result"
    }
   ],
   "source": [
    "now"
   ]
  },
  {
   "cell_type": "code",
   "execution_count": 5,
   "metadata": {},
   "outputs": [
    {
     "data": {
      "text/plain": [
       "(2019, 7, 23)"
      ]
     },
     "execution_count": 5,
     "metadata": {},
     "output_type": "execute_result"
    }
   ],
   "source": [
    "now.year, now.month, now.day"
   ]
  },
  {
   "cell_type": "code",
   "execution_count": 6,
   "metadata": {},
   "outputs": [],
   "source": [
    "delta = datetime(2011, 1, 7) - datetime(2008, 6, 24, 8, 15)"
   ]
  },
  {
   "cell_type": "code",
   "execution_count": 7,
   "metadata": {},
   "outputs": [
    {
     "data": {
      "text/plain": [
       "datetime.timedelta(days=926, seconds=56700)"
      ]
     },
     "execution_count": 7,
     "metadata": {},
     "output_type": "execute_result"
    }
   ],
   "source": [
    "delta"
   ]
  },
  {
   "cell_type": "code",
   "execution_count": 8,
   "metadata": {},
   "outputs": [
    {
     "data": {
      "text/plain": [
       "926"
      ]
     },
     "execution_count": 8,
     "metadata": {},
     "output_type": "execute_result"
    }
   ],
   "source": [
    "delta.days"
   ]
  },
  {
   "cell_type": "code",
   "execution_count": 9,
   "metadata": {},
   "outputs": [
    {
     "data": {
      "text/plain": [
       "56700"
      ]
     },
     "execution_count": 9,
     "metadata": {},
     "output_type": "execute_result"
    }
   ],
   "source": [
    "delta.seconds"
   ]
  },
  {
   "cell_type": "code",
   "execution_count": 10,
   "metadata": {},
   "outputs": [],
   "source": [
    "from datetime import timedelta"
   ]
  },
  {
   "cell_type": "code",
   "execution_count": 11,
   "metadata": {},
   "outputs": [],
   "source": [
    "start = datetime(2011, 1, 7)"
   ]
  },
  {
   "cell_type": "code",
   "execution_count": 12,
   "metadata": {},
   "outputs": [
    {
     "data": {
      "text/plain": [
       "datetime.datetime(2011, 1, 19, 0, 0)"
      ]
     },
     "execution_count": 12,
     "metadata": {},
     "output_type": "execute_result"
    }
   ],
   "source": [
    "start + timedelta(12)"
   ]
  },
  {
   "cell_type": "code",
   "execution_count": 13,
   "metadata": {},
   "outputs": [
    {
     "data": {
      "text/plain": [
       "datetime.datetime(2010, 12, 14, 0, 0)"
      ]
     },
     "execution_count": 13,
     "metadata": {},
     "output_type": "execute_result"
    }
   ],
   "source": [
    "start - 2 * timedelta(12)"
   ]
  },
  {
   "cell_type": "markdown",
   "metadata": {},
   "source": [
    "### 11.1.1字符串与datetime互相转换"
   ]
  },
  {
   "cell_type": "code",
   "execution_count": 14,
   "metadata": {},
   "outputs": [],
   "source": [
    "stamp = datetime(2011, 1, 3)"
   ]
  },
  {
   "cell_type": "code",
   "execution_count": 15,
   "metadata": {},
   "outputs": [
    {
     "data": {
      "text/plain": [
       "'2011-01-03 00:00:00'"
      ]
     },
     "execution_count": 15,
     "metadata": {},
     "output_type": "execute_result"
    }
   ],
   "source": [
    "str(stamp)"
   ]
  },
  {
   "cell_type": "code",
   "execution_count": 16,
   "metadata": {},
   "outputs": [
    {
     "data": {
      "text/plain": [
       "'2011-01-03'"
      ]
     },
     "execution_count": 16,
     "metadata": {},
     "output_type": "execute_result"
    }
   ],
   "source": [
    "stamp.strftime('%Y-%m-%d')"
   ]
  },
  {
   "cell_type": "code",
   "execution_count": 17,
   "metadata": {},
   "outputs": [
    {
     "data": {
      "text/plain": [
       "datetime.datetime(2011, 1, 3, 0, 0)"
      ]
     },
     "execution_count": 17,
     "metadata": {},
     "output_type": "execute_result"
    }
   ],
   "source": [
    "stamp"
   ]
  },
  {
   "cell_type": "code",
   "execution_count": 18,
   "metadata": {},
   "outputs": [],
   "source": [
    "value = '2011-01-03'"
   ]
  },
  {
   "cell_type": "code",
   "execution_count": 19,
   "metadata": {},
   "outputs": [
    {
     "data": {
      "text/plain": [
       "datetime.datetime(2011, 1, 3, 0, 0)"
      ]
     },
     "execution_count": 19,
     "metadata": {},
     "output_type": "execute_result"
    }
   ],
   "source": [
    "datetime.strptime(value, '%Y-%m-%d')"
   ]
  },
  {
   "cell_type": "code",
   "execution_count": 20,
   "metadata": {},
   "outputs": [],
   "source": [
    "datestrs = ['7/6/2011', '8/6/2011']"
   ]
  },
  {
   "cell_type": "code",
   "execution_count": 21,
   "metadata": {},
   "outputs": [
    {
     "data": {
      "text/plain": [
       "[datetime.datetime(2011, 7, 6, 0, 0), datetime.datetime(2011, 8, 6, 0, 0)]"
      ]
     },
     "execution_count": 21,
     "metadata": {},
     "output_type": "execute_result"
    }
   ],
   "source": [
    "[datetime.strptime(x, '%m/%d/%Y') for x in datestrs]"
   ]
  },
  {
   "cell_type": "code",
   "execution_count": 22,
   "metadata": {},
   "outputs": [],
   "source": [
    "from dateutil.parser import parse"
   ]
  },
  {
   "cell_type": "code",
   "execution_count": 23,
   "metadata": {},
   "outputs": [
    {
     "data": {
      "text/plain": [
       "datetime.datetime(2011, 1, 3, 0, 0)"
      ]
     },
     "execution_count": 23,
     "metadata": {},
     "output_type": "execute_result"
    }
   ],
   "source": [
    "parse('2011-01-03')"
   ]
  },
  {
   "cell_type": "code",
   "execution_count": 24,
   "metadata": {},
   "outputs": [
    {
     "data": {
      "text/plain": [
       "datetime.datetime(1997, 1, 31, 22, 45)"
      ]
     },
     "execution_count": 24,
     "metadata": {},
     "output_type": "execute_result"
    }
   ],
   "source": [
    "parse('Jan 31, 1997 10:45 PM')"
   ]
  },
  {
   "cell_type": "code",
   "execution_count": 25,
   "metadata": {},
   "outputs": [
    {
     "data": {
      "text/plain": [
       "datetime.datetime(2011, 12, 6, 0, 0)"
      ]
     },
     "execution_count": 25,
     "metadata": {},
     "output_type": "execute_result"
    }
   ],
   "source": [
    "parse('6/12/2011', dayfirst=True)"
   ]
  },
  {
   "cell_type": "code",
   "execution_count": 26,
   "metadata": {},
   "outputs": [
    {
     "data": {
      "text/plain": [
       "DatetimeIndex(['2011-07-06 12:00:00', '2011-08-06 00:00:00'], dtype='datetime64[ns]', freq=None)"
      ]
     },
     "execution_count": 26,
     "metadata": {},
     "output_type": "execute_result"
    }
   ],
   "source": [
    "datestrs = ['2011-07-06 12:00:00', '2011-08-06 00:00:00']\n",
    "pd.to_datetime(datestrs)"
   ]
  },
  {
   "cell_type": "code",
   "execution_count": 27,
   "metadata": {},
   "outputs": [],
   "source": [
    "idx = pd.to_datetime(datestrs + [None])"
   ]
  },
  {
   "cell_type": "code",
   "execution_count": 28,
   "metadata": {},
   "outputs": [
    {
     "data": {
      "text/plain": [
       "DatetimeIndex(['2011-07-06 12:00:00', '2011-08-06 00:00:00', 'NaT'], dtype='datetime64[ns]', freq=None)"
      ]
     },
     "execution_count": 28,
     "metadata": {},
     "output_type": "execute_result"
    }
   ],
   "source": [
    "idx"
   ]
  },
  {
   "cell_type": "code",
   "execution_count": 29,
   "metadata": {},
   "outputs": [
    {
     "data": {
      "text/plain": [
       "NaT"
      ]
     },
     "execution_count": 29,
     "metadata": {},
     "output_type": "execute_result"
    }
   ],
   "source": [
    "idx[2]"
   ]
  },
  {
   "cell_type": "code",
   "execution_count": 30,
   "metadata": {},
   "outputs": [
    {
     "data": {
      "text/plain": [
       "array([False, False,  True])"
      ]
     },
     "execution_count": 30,
     "metadata": {},
     "output_type": "execute_result"
    }
   ],
   "source": [
    "pd.isnull(idx)"
   ]
  },
  {
   "cell_type": "markdown",
   "metadata": {},
   "source": [
    "## 11.2 时间序列基础"
   ]
  },
  {
   "cell_type": "code",
   "execution_count": 31,
   "metadata": {},
   "outputs": [],
   "source": [
    "from datetime import datetime"
   ]
  },
  {
   "cell_type": "code",
   "execution_count": 32,
   "metadata": {},
   "outputs": [],
   "source": [
    "dates = [datetime(2011, 1, 2), datetime(2011, 1, 5),\n",
    "         datetime(2011, 1, 7), datetime(2011, 1, 8),\n",
    "         datetime(2011, 1, 10), datetime(2011, 1, 12)]"
   ]
  },
  {
   "cell_type": "code",
   "execution_count": 33,
   "metadata": {},
   "outputs": [],
   "source": [
    "ts = pd.Series(np.random.randn(6), index=dates)"
   ]
  },
  {
   "cell_type": "code",
   "execution_count": 34,
   "metadata": {},
   "outputs": [
    {
     "data": {
      "text/plain": [
       "2011-01-02    1.486917\n",
       "2011-01-05   -0.198226\n",
       "2011-01-07    0.622262\n",
       "2011-01-08   -0.646358\n",
       "2011-01-10    0.297262\n",
       "2011-01-12    0.746172\n",
       "dtype: float64"
      ]
     },
     "execution_count": 34,
     "metadata": {},
     "output_type": "execute_result"
    }
   ],
   "source": [
    "ts"
   ]
  },
  {
   "cell_type": "code",
   "execution_count": 35,
   "metadata": {},
   "outputs": [
    {
     "data": {
      "text/plain": [
       "DatetimeIndex(['2011-01-02', '2011-01-05', '2011-01-07', '2011-01-08',\n",
       "               '2011-01-10', '2011-01-12'],\n",
       "              dtype='datetime64[ns]', freq=None)"
      ]
     },
     "execution_count": 35,
     "metadata": {},
     "output_type": "execute_result"
    }
   ],
   "source": [
    "ts.index"
   ]
  },
  {
   "cell_type": "code",
   "execution_count": 36,
   "metadata": {},
   "outputs": [
    {
     "data": {
      "text/plain": [
       "2011-01-02    2.973834\n",
       "2011-01-05         NaN\n",
       "2011-01-07    1.244523\n",
       "2011-01-08         NaN\n",
       "2011-01-10    0.594524\n",
       "2011-01-12         NaN\n",
       "dtype: float64"
      ]
     },
     "execution_count": 36,
     "metadata": {},
     "output_type": "execute_result"
    }
   ],
   "source": [
    "ts + ts[::2]"
   ]
  },
  {
   "cell_type": "code",
   "execution_count": 37,
   "metadata": {},
   "outputs": [
    {
     "data": {
      "text/plain": [
       "dtype('<M8[ns]')"
      ]
     },
     "execution_count": 37,
     "metadata": {},
     "output_type": "execute_result"
    }
   ],
   "source": [
    "ts.index.dtype"
   ]
  },
  {
   "cell_type": "code",
   "execution_count": 38,
   "metadata": {},
   "outputs": [],
   "source": [
    "stamp = ts.index[0]"
   ]
  },
  {
   "cell_type": "code",
   "execution_count": 39,
   "metadata": {},
   "outputs": [
    {
     "data": {
      "text/plain": [
       "Timestamp('2011-01-02 00:00:00')"
      ]
     },
     "execution_count": 39,
     "metadata": {},
     "output_type": "execute_result"
    }
   ],
   "source": [
    "stamp"
   ]
  },
  {
   "cell_type": "markdown",
   "metadata": {},
   "source": [
    "### 11.2.1索引、选择、子集"
   ]
  },
  {
   "cell_type": "code",
   "execution_count": 40,
   "metadata": {},
   "outputs": [],
   "source": [
    "stamp = ts.index[2]"
   ]
  },
  {
   "cell_type": "code",
   "execution_count": 41,
   "metadata": {},
   "outputs": [
    {
     "data": {
      "text/plain": [
       "0.622261563382475"
      ]
     },
     "execution_count": 41,
     "metadata": {},
     "output_type": "execute_result"
    }
   ],
   "source": [
    "ts[stamp]"
   ]
  },
  {
   "cell_type": "code",
   "execution_count": 42,
   "metadata": {},
   "outputs": [
    {
     "data": {
      "text/plain": [
       "0.29726178041163054"
      ]
     },
     "execution_count": 42,
     "metadata": {},
     "output_type": "execute_result"
    }
   ],
   "source": [
    "ts['1/10/2011']\n",
    "ts['20110110']"
   ]
  },
  {
   "cell_type": "code",
   "execution_count": 43,
   "metadata": {},
   "outputs": [],
   "source": [
    "longer_ts = pd.Series(np.random.randn(1000), index=pd.date_range('1/1/2000', periods=1000))"
   ]
  },
  {
   "cell_type": "code",
   "execution_count": 44,
   "metadata": {
    "scrolled": true
   },
   "outputs": [
    {
     "data": {
      "text/plain": [
       "2000-01-01    0.611465\n",
       "2000-01-02   -1.329154\n",
       "2000-01-03   -1.396379\n",
       "2000-01-04   -0.816676\n",
       "2000-01-05   -0.422118\n",
       "2000-01-06   -0.934370\n",
       "2000-01-07   -0.236977\n",
       "2000-01-08    1.493763\n",
       "2000-01-09   -1.055091\n",
       "2000-01-10   -1.312292\n",
       "2000-01-11   -0.795536\n",
       "2000-01-12    0.095638\n",
       "2000-01-13    0.690730\n",
       "2000-01-14   -3.137296\n",
       "2000-01-15   -0.554137\n",
       "2000-01-16   -0.554225\n",
       "2000-01-17    0.671325\n",
       "2000-01-18   -1.463740\n",
       "2000-01-19    0.681967\n",
       "2000-01-20    0.642628\n",
       "2000-01-21   -0.801447\n",
       "2000-01-22    1.544432\n",
       "2000-01-23    1.325113\n",
       "2000-01-24   -1.925434\n",
       "2000-01-25    0.182233\n",
       "2000-01-26    0.064371\n",
       "2000-01-27    0.770810\n",
       "2000-01-28    1.657825\n",
       "2000-01-29   -0.404982\n",
       "2000-01-30    1.010795\n",
       "                ...   \n",
       "2002-08-28    1.260326\n",
       "2002-08-29    0.184093\n",
       "2002-08-30    1.896096\n",
       "2002-08-31   -0.036133\n",
       "2002-09-01    0.084620\n",
       "2002-09-02    1.702814\n",
       "2002-09-03   -1.826269\n",
       "2002-09-04    0.215625\n",
       "2002-09-05    0.599814\n",
       "2002-09-06   -1.348432\n",
       "2002-09-07   -0.623443\n",
       "2002-09-08    0.884826\n",
       "2002-09-09   -0.232857\n",
       "2002-09-10   -0.299455\n",
       "2002-09-11   -0.158487\n",
       "2002-09-12    2.509340\n",
       "2002-09-13    0.638899\n",
       "2002-09-14   -0.976033\n",
       "2002-09-15   -0.494466\n",
       "2002-09-16    1.561264\n",
       "2002-09-17   -1.143122\n",
       "2002-09-18   -0.749919\n",
       "2002-09-19   -1.076653\n",
       "2002-09-20    0.952329\n",
       "2002-09-21    0.140945\n",
       "2002-09-22    0.170652\n",
       "2002-09-23    0.464498\n",
       "2002-09-24    0.264412\n",
       "2002-09-25    0.732642\n",
       "2002-09-26    1.234993\n",
       "Freq: D, Length: 1000, dtype: float64"
      ]
     },
     "execution_count": 44,
     "metadata": {},
     "output_type": "execute_result"
    }
   ],
   "source": [
    "longer_ts"
   ]
  },
  {
   "cell_type": "code",
   "execution_count": 45,
   "metadata": {
    "scrolled": true
   },
   "outputs": [
    {
     "data": {
      "text/plain": [
       "2001-01-01   -0.590376\n",
       "2001-01-02   -1.199279\n",
       "2001-01-03    2.829700\n",
       "2001-01-04   -0.037902\n",
       "2001-01-05    1.800448\n",
       "2001-01-06   -0.373972\n",
       "2001-01-07   -0.705620\n",
       "2001-01-08    0.565595\n",
       "2001-01-09    0.518488\n",
       "2001-01-10    0.360056\n",
       "2001-01-11    0.358565\n",
       "2001-01-12   -0.481934\n",
       "2001-01-13   -0.234283\n",
       "2001-01-14    0.597619\n",
       "2001-01-15   -0.908656\n",
       "2001-01-16    0.236660\n",
       "2001-01-17    0.568996\n",
       "2001-01-18    0.145395\n",
       "2001-01-19    1.332764\n",
       "2001-01-20   -2.043378\n",
       "2001-01-21    1.304530\n",
       "2001-01-22    0.523120\n",
       "2001-01-23   -1.460186\n",
       "2001-01-24   -0.785343\n",
       "2001-01-25    0.808690\n",
       "2001-01-26   -0.445602\n",
       "2001-01-27   -0.584604\n",
       "2001-01-28   -0.245254\n",
       "2001-01-29   -0.619066\n",
       "2001-01-30   -0.787958\n",
       "                ...   \n",
       "2001-12-02    0.872643\n",
       "2001-12-03   -1.088650\n",
       "2001-12-04    1.686930\n",
       "2001-12-05   -0.849824\n",
       "2001-12-06   -0.152167\n",
       "2001-12-07   -1.643799\n",
       "2001-12-08   -0.307979\n",
       "2001-12-09   -0.676493\n",
       "2001-12-10    0.000350\n",
       "2001-12-11    1.106354\n",
       "2001-12-12   -0.957877\n",
       "2001-12-13    0.567809\n",
       "2001-12-14   -0.957869\n",
       "2001-12-15    1.099928\n",
       "2001-12-16   -0.406783\n",
       "2001-12-17    0.003411\n",
       "2001-12-18    0.119536\n",
       "2001-12-19    1.988042\n",
       "2001-12-20    0.086485\n",
       "2001-12-21   -0.070464\n",
       "2001-12-22   -0.949171\n",
       "2001-12-23   -0.982282\n",
       "2001-12-24    0.802073\n",
       "2001-12-25    1.095342\n",
       "2001-12-26    0.328291\n",
       "2001-12-27   -0.333417\n",
       "2001-12-28   -0.707053\n",
       "2001-12-29   -1.485802\n",
       "2001-12-30    1.508547\n",
       "2001-12-31    0.791982\n",
       "Freq: D, Length: 365, dtype: float64"
      ]
     },
     "execution_count": 45,
     "metadata": {},
     "output_type": "execute_result"
    }
   ],
   "source": [
    "longer_ts['2001']"
   ]
  },
  {
   "cell_type": "code",
   "execution_count": 46,
   "metadata": {
    "scrolled": true
   },
   "outputs": [
    {
     "data": {
      "text/plain": [
       "2001-05-01   -0.414007\n",
       "2001-05-02    1.617114\n",
       "2001-05-03   -0.031140\n",
       "2001-05-04   -0.087393\n",
       "2001-05-05   -1.179491\n",
       "2001-05-06   -0.321355\n",
       "2001-05-07    0.437703\n",
       "2001-05-08   -0.872066\n",
       "2001-05-09    1.177012\n",
       "2001-05-10   -0.814741\n",
       "2001-05-11    0.538156\n",
       "2001-05-12   -0.396129\n",
       "2001-05-13   -0.978912\n",
       "2001-05-14    0.195229\n",
       "2001-05-15   -0.346523\n",
       "2001-05-16   -1.358526\n",
       "2001-05-17    0.256750\n",
       "2001-05-18    0.323314\n",
       "2001-05-19   -0.235183\n",
       "2001-05-20   -0.289332\n",
       "2001-05-21   -0.817043\n",
       "2001-05-22   -1.739140\n",
       "2001-05-23    0.220082\n",
       "2001-05-24   -0.151287\n",
       "2001-05-25    1.563240\n",
       "2001-05-26    0.368903\n",
       "2001-05-27    0.292468\n",
       "2001-05-28   -1.351355\n",
       "2001-05-29   -0.236612\n",
       "2001-05-30    1.638539\n",
       "2001-05-31    0.004864\n",
       "Freq: D, dtype: float64"
      ]
     },
     "execution_count": 46,
     "metadata": {},
     "output_type": "execute_result"
    }
   ],
   "source": [
    "longer_ts['2001-05']"
   ]
  },
  {
   "cell_type": "code",
   "execution_count": 47,
   "metadata": {},
   "outputs": [
    {
     "data": {
      "text/plain": [
       "2011-01-07    0.622262\n",
       "2011-01-08   -0.646358\n",
       "2011-01-10    0.297262\n",
       "2011-01-12    0.746172\n",
       "dtype: float64"
      ]
     },
     "execution_count": 47,
     "metadata": {},
     "output_type": "execute_result"
    }
   ],
   "source": [
    "ts[datetime(2011, 1, 7):]"
   ]
  },
  {
   "cell_type": "code",
   "execution_count": 48,
   "metadata": {},
   "outputs": [
    {
     "data": {
      "text/plain": [
       "2011-01-02    1.486917\n",
       "2011-01-05   -0.198226\n",
       "2011-01-07    0.622262\n",
       "2011-01-08   -0.646358\n",
       "2011-01-10    0.297262\n",
       "2011-01-12    0.746172\n",
       "dtype: float64"
      ]
     },
     "execution_count": 48,
     "metadata": {},
     "output_type": "execute_result"
    }
   ],
   "source": [
    "ts"
   ]
  },
  {
   "cell_type": "code",
   "execution_count": 49,
   "metadata": {},
   "outputs": [
    {
     "data": {
      "text/plain": [
       "2011-01-07    0.622262\n",
       "2011-01-08   -0.646358\n",
       "2011-01-10    0.297262\n",
       "dtype: float64"
      ]
     },
     "execution_count": 49,
     "metadata": {},
     "output_type": "execute_result"
    }
   ],
   "source": [
    "ts['1/6/2011': '1/11/2011']"
   ]
  },
  {
   "cell_type": "code",
   "execution_count": 50,
   "metadata": {},
   "outputs": [
    {
     "data": {
      "text/plain": [
       "2011-01-02    1.486917\n",
       "2011-01-05   -0.198226\n",
       "2011-01-07    0.622262\n",
       "2011-01-08   -0.646358\n",
       "dtype: float64"
      ]
     },
     "execution_count": 50,
     "metadata": {},
     "output_type": "execute_result"
    }
   ],
   "source": [
    "ts.truncate(after='1/9/2011')"
   ]
  },
  {
   "cell_type": "code",
   "execution_count": 51,
   "metadata": {},
   "outputs": [],
   "source": [
    "dates = pd.date_range('1/1/2000', periods=100, freq='W-WED')"
   ]
  },
  {
   "cell_type": "code",
   "execution_count": 52,
   "metadata": {},
   "outputs": [],
   "source": [
    "long_df = pd.DataFrame(np.random.randn(100, 4),\n",
    "                      index=dates,\n",
    "                      columns=['Colorado', 'Texas',\n",
    "                                'New York', 'Ohio'])"
   ]
  },
  {
   "cell_type": "code",
   "execution_count": 53,
   "metadata": {},
   "outputs": [
    {
     "data": {
      "text/html": [
       "<div>\n",
       "<style scoped>\n",
       "    .dataframe tbody tr th:only-of-type {\n",
       "        vertical-align: middle;\n",
       "    }\n",
       "\n",
       "    .dataframe tbody tr th {\n",
       "        vertical-align: top;\n",
       "    }\n",
       "\n",
       "    .dataframe thead th {\n",
       "        text-align: right;\n",
       "    }\n",
       "</style>\n",
       "<table border=\"1\" class=\"dataframe\">\n",
       "  <thead>\n",
       "    <tr style=\"text-align: right;\">\n",
       "      <th></th>\n",
       "      <th>Colorado</th>\n",
       "      <th>Texas</th>\n",
       "      <th>New York</th>\n",
       "      <th>Ohio</th>\n",
       "    </tr>\n",
       "  </thead>\n",
       "  <tbody>\n",
       "    <tr>\n",
       "      <th>2001-05-02</th>\n",
       "      <td>-0.964538</td>\n",
       "      <td>-0.016122</td>\n",
       "      <td>1.743095</td>\n",
       "      <td>0.223120</td>\n",
       "    </tr>\n",
       "    <tr>\n",
       "      <th>2001-05-09</th>\n",
       "      <td>-0.076744</td>\n",
       "      <td>0.920027</td>\n",
       "      <td>-0.093278</td>\n",
       "      <td>-0.346078</td>\n",
       "    </tr>\n",
       "    <tr>\n",
       "      <th>2001-05-16</th>\n",
       "      <td>-0.217292</td>\n",
       "      <td>-0.987543</td>\n",
       "      <td>0.474577</td>\n",
       "      <td>1.684659</td>\n",
       "    </tr>\n",
       "    <tr>\n",
       "      <th>2001-05-23</th>\n",
       "      <td>-0.698395</td>\n",
       "      <td>1.277841</td>\n",
       "      <td>-0.401400</td>\n",
       "      <td>0.583833</td>\n",
       "    </tr>\n",
       "    <tr>\n",
       "      <th>2001-05-30</th>\n",
       "      <td>-0.363749</td>\n",
       "      <td>0.104785</td>\n",
       "      <td>0.517413</td>\n",
       "      <td>1.318219</td>\n",
       "    </tr>\n",
       "  </tbody>\n",
       "</table>\n",
       "</div>"
      ],
      "text/plain": [
       "            Colorado     Texas  New York      Ohio\n",
       "2001-05-02 -0.964538 -0.016122  1.743095  0.223120\n",
       "2001-05-09 -0.076744  0.920027 -0.093278 -0.346078\n",
       "2001-05-16 -0.217292 -0.987543  0.474577  1.684659\n",
       "2001-05-23 -0.698395  1.277841 -0.401400  0.583833\n",
       "2001-05-30 -0.363749  0.104785  0.517413  1.318219"
      ]
     },
     "execution_count": 53,
     "metadata": {},
     "output_type": "execute_result"
    }
   ],
   "source": [
    "long_df.loc['5-2001']"
   ]
  },
  {
   "cell_type": "code",
   "execution_count": 54,
   "metadata": {},
   "outputs": [],
   "source": [
    "dates = pd.DatetimeIndex(['1/1/2000', '1/2/2000', '1/2/2000',\n",
    "                          '1/2/2000', '1/3/2000'])"
   ]
  },
  {
   "cell_type": "code",
   "execution_count": 55,
   "metadata": {},
   "outputs": [],
   "source": [
    "dup_ts = pd.Series(np.arange(5), index=dates)"
   ]
  },
  {
   "cell_type": "code",
   "execution_count": 56,
   "metadata": {},
   "outputs": [
    {
     "data": {
      "text/plain": [
       "2000-01-01    0\n",
       "2000-01-02    1\n",
       "2000-01-02    2\n",
       "2000-01-02    3\n",
       "2000-01-03    4\n",
       "dtype: int32"
      ]
     },
     "execution_count": 56,
     "metadata": {},
     "output_type": "execute_result"
    }
   ],
   "source": [
    "dup_ts"
   ]
  },
  {
   "cell_type": "code",
   "execution_count": 57,
   "metadata": {},
   "outputs": [
    {
     "data": {
      "text/plain": [
       "False"
      ]
     },
     "execution_count": 57,
     "metadata": {},
     "output_type": "execute_result"
    }
   ],
   "source": [
    "dup_ts.index.is_unique"
   ]
  },
  {
   "cell_type": "code",
   "execution_count": 58,
   "metadata": {},
   "outputs": [
    {
     "data": {
      "text/plain": [
       "4"
      ]
     },
     "execution_count": 58,
     "metadata": {},
     "output_type": "execute_result"
    }
   ],
   "source": [
    "dup_ts['1/3/2000']"
   ]
  },
  {
   "cell_type": "code",
   "execution_count": 59,
   "metadata": {},
   "outputs": [
    {
     "data": {
      "text/plain": [
       "2000-01-02    1\n",
       "2000-01-02    2\n",
       "2000-01-02    3\n",
       "dtype: int32"
      ]
     },
     "execution_count": 59,
     "metadata": {},
     "output_type": "execute_result"
    }
   ],
   "source": [
    "dup_ts['1/2/2000']"
   ]
  },
  {
   "cell_type": "code",
   "execution_count": 60,
   "metadata": {},
   "outputs": [],
   "source": [
    "grouped = dup_ts.groupby(level=0)"
   ]
  },
  {
   "cell_type": "code",
   "execution_count": 61,
   "metadata": {},
   "outputs": [
    {
     "data": {
      "text/plain": [
       "2000-01-01    0\n",
       "2000-01-02    2\n",
       "2000-01-03    4\n",
       "dtype: int32"
      ]
     },
     "execution_count": 61,
     "metadata": {},
     "output_type": "execute_result"
    }
   ],
   "source": [
    "grouped.mean()"
   ]
  },
  {
   "cell_type": "code",
   "execution_count": 62,
   "metadata": {},
   "outputs": [
    {
     "data": {
      "text/plain": [
       "2000-01-01    1\n",
       "2000-01-02    3\n",
       "2000-01-03    1\n",
       "dtype: int64"
      ]
     },
     "execution_count": 62,
     "metadata": {},
     "output_type": "execute_result"
    }
   ],
   "source": [
    "grouped.count()"
   ]
  },
  {
   "cell_type": "markdown",
   "metadata": {},
   "source": [
    "## 11.3日期范围、频率和位移"
   ]
  },
  {
   "cell_type": "code",
   "execution_count": 63,
   "metadata": {},
   "outputs": [
    {
     "data": {
      "text/plain": [
       "2011-01-02    1.486917\n",
       "2011-01-05   -0.198226\n",
       "2011-01-07    0.622262\n",
       "2011-01-08   -0.646358\n",
       "2011-01-10    0.297262\n",
       "2011-01-12    0.746172\n",
       "dtype: float64"
      ]
     },
     "execution_count": 63,
     "metadata": {},
     "output_type": "execute_result"
    }
   ],
   "source": [
    "ts"
   ]
  },
  {
   "cell_type": "code",
   "execution_count": 64,
   "metadata": {},
   "outputs": [],
   "source": [
    "resampler = ts.resample('D')"
   ]
  },
  {
   "cell_type": "markdown",
   "metadata": {},
   "source": [
    "### 11.3.1生成日期范围"
   ]
  },
  {
   "cell_type": "code",
   "execution_count": 65,
   "metadata": {},
   "outputs": [],
   "source": [
    "index = pd.date_range('2012-04-01', '2012-06-01')"
   ]
  },
  {
   "cell_type": "code",
   "execution_count": 66,
   "metadata": {},
   "outputs": [
    {
     "data": {
      "text/plain": [
       "DatetimeIndex(['2012-04-01', '2012-04-02', '2012-04-03', '2012-04-04',\n",
       "               '2012-04-05', '2012-04-06', '2012-04-07', '2012-04-08',\n",
       "               '2012-04-09', '2012-04-10', '2012-04-11', '2012-04-12',\n",
       "               '2012-04-13', '2012-04-14', '2012-04-15', '2012-04-16',\n",
       "               '2012-04-17', '2012-04-18', '2012-04-19', '2012-04-20',\n",
       "               '2012-04-21', '2012-04-22', '2012-04-23', '2012-04-24',\n",
       "               '2012-04-25', '2012-04-26', '2012-04-27', '2012-04-28',\n",
       "               '2012-04-29', '2012-04-30', '2012-05-01', '2012-05-02',\n",
       "               '2012-05-03', '2012-05-04', '2012-05-05', '2012-05-06',\n",
       "               '2012-05-07', '2012-05-08', '2012-05-09', '2012-05-10',\n",
       "               '2012-05-11', '2012-05-12', '2012-05-13', '2012-05-14',\n",
       "               '2012-05-15', '2012-05-16', '2012-05-17', '2012-05-18',\n",
       "               '2012-05-19', '2012-05-20', '2012-05-21', '2012-05-22',\n",
       "               '2012-05-23', '2012-05-24', '2012-05-25', '2012-05-26',\n",
       "               '2012-05-27', '2012-05-28', '2012-05-29', '2012-05-30',\n",
       "               '2012-05-31', '2012-06-01'],\n",
       "              dtype='datetime64[ns]', freq='D')"
      ]
     },
     "execution_count": 66,
     "metadata": {},
     "output_type": "execute_result"
    }
   ],
   "source": [
    "index"
   ]
  },
  {
   "cell_type": "code",
   "execution_count": 67,
   "metadata": {},
   "outputs": [
    {
     "data": {
      "text/plain": [
       "DatetimeIndex(['2012-04-01', '2012-04-02', '2012-04-03', '2012-04-04',\n",
       "               '2012-04-05', '2012-04-06', '2012-04-07', '2012-04-08',\n",
       "               '2012-04-09', '2012-04-10', '2012-04-11', '2012-04-12',\n",
       "               '2012-04-13', '2012-04-14', '2012-04-15', '2012-04-16',\n",
       "               '2012-04-17', '2012-04-18', '2012-04-19', '2012-04-20'],\n",
       "              dtype='datetime64[ns]', freq='D')"
      ]
     },
     "execution_count": 67,
     "metadata": {},
     "output_type": "execute_result"
    }
   ],
   "source": [
    "pd.date_range(start='2012-04-01', periods=20)"
   ]
  },
  {
   "cell_type": "code",
   "execution_count": 68,
   "metadata": {},
   "outputs": [
    {
     "data": {
      "text/plain": [
       "DatetimeIndex(['2012-05-13', '2012-05-14', '2012-05-15', '2012-05-16',\n",
       "               '2012-05-17', '2012-05-18', '2012-05-19', '2012-05-20',\n",
       "               '2012-05-21', '2012-05-22', '2012-05-23', '2012-05-24',\n",
       "               '2012-05-25', '2012-05-26', '2012-05-27', '2012-05-28',\n",
       "               '2012-05-29', '2012-05-30', '2012-05-31', '2012-06-01'],\n",
       "              dtype='datetime64[ns]', freq='D')"
      ]
     },
     "execution_count": 68,
     "metadata": {},
     "output_type": "execute_result"
    }
   ],
   "source": [
    "pd.date_range(end='2012-06-01',periods=20)"
   ]
  },
  {
   "cell_type": "code",
   "execution_count": 69,
   "metadata": {},
   "outputs": [
    {
     "data": {
      "text/plain": [
       "DatetimeIndex(['2000-01-31', '2000-02-29', '2000-03-31', '2000-04-28',\n",
       "               '2000-05-31', '2000-06-30', '2000-07-31', '2000-08-31',\n",
       "               '2000-09-29', '2000-10-31', '2000-11-30'],\n",
       "              dtype='datetime64[ns]', freq='BM')"
      ]
     },
     "execution_count": 69,
     "metadata": {},
     "output_type": "execute_result"
    }
   ],
   "source": [
    "pd.date_range('2000-01-01', '2000-12-01', freq='BM')"
   ]
  },
  {
   "cell_type": "code",
   "execution_count": 70,
   "metadata": {},
   "outputs": [
    {
     "data": {
      "text/plain": [
       "DatetimeIndex(['2012-05-02 12:56:31', '2012-05-03 12:56:31',\n",
       "               '2012-05-04 12:56:31', '2012-05-05 12:56:31',\n",
       "               '2012-05-06 12:56:31'],\n",
       "              dtype='datetime64[ns]', freq='D')"
      ]
     },
     "execution_count": 70,
     "metadata": {},
     "output_type": "execute_result"
    }
   ],
   "source": [
    "pd.date_range('2012-05-02 12:56:31', periods=5)"
   ]
  },
  {
   "cell_type": "code",
   "execution_count": 71,
   "metadata": {},
   "outputs": [
    {
     "data": {
      "text/plain": [
       "DatetimeIndex(['2012-05-02', '2012-05-03', '2012-05-04', '2012-05-05',\n",
       "               '2012-05-06'],\n",
       "              dtype='datetime64[ns]', freq='D')"
      ]
     },
     "execution_count": 71,
     "metadata": {},
     "output_type": "execute_result"
    }
   ],
   "source": [
    "pd.date_range('2012-05-02 12:56:31', periods=5, normalize=True)"
   ]
  },
  {
   "cell_type": "markdown",
   "metadata": {},
   "source": [
    "### 11.3.2频率和日期偏置"
   ]
  },
  {
   "cell_type": "code",
   "execution_count": 72,
   "metadata": {},
   "outputs": [],
   "source": [
    "from pandas.tseries.offsets import Hour, Minute"
   ]
  },
  {
   "cell_type": "code",
   "execution_count": 73,
   "metadata": {},
   "outputs": [],
   "source": [
    "hour = Hour()"
   ]
  },
  {
   "cell_type": "code",
   "execution_count": 74,
   "metadata": {},
   "outputs": [
    {
     "data": {
      "text/plain": [
       "<Hour>"
      ]
     },
     "execution_count": 74,
     "metadata": {},
     "output_type": "execute_result"
    }
   ],
   "source": [
    "hour"
   ]
  },
  {
   "cell_type": "code",
   "execution_count": 75,
   "metadata": {},
   "outputs": [],
   "source": [
    "four_hours = Hour(4)"
   ]
  },
  {
   "cell_type": "code",
   "execution_count": 76,
   "metadata": {},
   "outputs": [
    {
     "data": {
      "text/plain": [
       "<4 * Hours>"
      ]
     },
     "execution_count": 76,
     "metadata": {},
     "output_type": "execute_result"
    }
   ],
   "source": [
    "four_hours"
   ]
  },
  {
   "cell_type": "code",
   "execution_count": 77,
   "metadata": {},
   "outputs": [
    {
     "data": {
      "text/plain": [
       "DatetimeIndex(['2000-01-01 00:00:00', '2000-01-01 04:00:00',\n",
       "               '2000-01-01 08:00:00', '2000-01-01 12:00:00',\n",
       "               '2000-01-01 16:00:00', '2000-01-01 20:00:00',\n",
       "               '2000-01-02 00:00:00', '2000-01-02 04:00:00',\n",
       "               '2000-01-02 08:00:00', '2000-01-02 12:00:00',\n",
       "               '2000-01-02 16:00:00', '2000-01-02 20:00:00',\n",
       "               '2000-01-03 00:00:00', '2000-01-03 04:00:00',\n",
       "               '2000-01-03 08:00:00', '2000-01-03 12:00:00',\n",
       "               '2000-01-03 16:00:00', '2000-01-03 20:00:00'],\n",
       "              dtype='datetime64[ns]', freq='4H')"
      ]
     },
     "execution_count": 77,
     "metadata": {},
     "output_type": "execute_result"
    }
   ],
   "source": [
    "pd.date_range('2000-01-01', '2000-01-03 23:59', freq='4h')"
   ]
  },
  {
   "cell_type": "code",
   "execution_count": 78,
   "metadata": {},
   "outputs": [
    {
     "data": {
      "text/plain": [
       "<150 * Minutes>"
      ]
     },
     "execution_count": 78,
     "metadata": {},
     "output_type": "execute_result"
    }
   ],
   "source": [
    "Hour(2) + Minute(30)"
   ]
  },
  {
   "cell_type": "code",
   "execution_count": 79,
   "metadata": {},
   "outputs": [
    {
     "data": {
      "text/plain": [
       "DatetimeIndex(['2000-01-01 00:00:00', '2000-01-01 01:30:00',\n",
       "               '2000-01-01 03:00:00', '2000-01-01 04:30:00',\n",
       "               '2000-01-01 06:00:00', '2000-01-01 07:30:00',\n",
       "               '2000-01-01 09:00:00', '2000-01-01 10:30:00',\n",
       "               '2000-01-01 12:00:00', '2000-01-01 13:30:00'],\n",
       "              dtype='datetime64[ns]', freq='90T')"
      ]
     },
     "execution_count": 79,
     "metadata": {},
     "output_type": "execute_result"
    }
   ],
   "source": [
    "pd.date_range('2000-01-01', periods=10, freq='1h30min')"
   ]
  },
  {
   "cell_type": "code",
   "execution_count": 80,
   "metadata": {},
   "outputs": [],
   "source": [
    "rng = pd.date_range('2012-01-01', '2012-09-01', freq='WOM-3FRI')"
   ]
  },
  {
   "cell_type": "code",
   "execution_count": 81,
   "metadata": {},
   "outputs": [
    {
     "data": {
      "text/plain": [
       "DatetimeIndex(['2012-01-20', '2012-02-17', '2012-03-16', '2012-04-20',\n",
       "               '2012-05-18', '2012-06-15', '2012-07-20', '2012-08-17'],\n",
       "              dtype='datetime64[ns]', freq='WOM-3FRI')"
      ]
     },
     "execution_count": 81,
     "metadata": {},
     "output_type": "execute_result"
    }
   ],
   "source": [
    "rng"
   ]
  },
  {
   "cell_type": "code",
   "execution_count": 82,
   "metadata": {},
   "outputs": [
    {
     "data": {
      "text/plain": [
       "[Timestamp('2012-01-20 00:00:00', freq='WOM-3FRI'),\n",
       " Timestamp('2012-02-17 00:00:00', freq='WOM-3FRI'),\n",
       " Timestamp('2012-03-16 00:00:00', freq='WOM-3FRI'),\n",
       " Timestamp('2012-04-20 00:00:00', freq='WOM-3FRI'),\n",
       " Timestamp('2012-05-18 00:00:00', freq='WOM-3FRI'),\n",
       " Timestamp('2012-06-15 00:00:00', freq='WOM-3FRI'),\n",
       " Timestamp('2012-07-20 00:00:00', freq='WOM-3FRI'),\n",
       " Timestamp('2012-08-17 00:00:00', freq='WOM-3FRI')]"
      ]
     },
     "execution_count": 82,
     "metadata": {},
     "output_type": "execute_result"
    }
   ],
   "source": [
    "list(rng)"
   ]
  },
  {
   "cell_type": "markdown",
   "metadata": {},
   "source": [
    "### 11.3.3 位移（前向和后向）日期"
   ]
  },
  {
   "cell_type": "code",
   "execution_count": 83,
   "metadata": {},
   "outputs": [],
   "source": [
    "ts = pd.Series(np.random.randn(4),\n",
    "              index=pd.date_range('1/1/2000', periods=4, freq='M'))"
   ]
  },
  {
   "cell_type": "code",
   "execution_count": 84,
   "metadata": {},
   "outputs": [
    {
     "data": {
      "text/plain": [
       "2000-01-31    0.036298\n",
       "2000-02-29    1.102338\n",
       "2000-03-31    1.040362\n",
       "2000-04-30    0.174633\n",
       "Freq: M, dtype: float64"
      ]
     },
     "execution_count": 84,
     "metadata": {},
     "output_type": "execute_result"
    }
   ],
   "source": [
    "ts"
   ]
  },
  {
   "cell_type": "code",
   "execution_count": 85,
   "metadata": {},
   "outputs": [
    {
     "data": {
      "text/plain": [
       "2000-01-31         NaN\n",
       "2000-02-29         NaN\n",
       "2000-03-31    0.036298\n",
       "2000-04-30    1.102338\n",
       "Freq: M, dtype: float64"
      ]
     },
     "execution_count": 85,
     "metadata": {},
     "output_type": "execute_result"
    }
   ],
   "source": [
    "ts.shift(2)"
   ]
  },
  {
   "cell_type": "code",
   "execution_count": 86,
   "metadata": {},
   "outputs": [
    {
     "data": {
      "text/plain": [
       "2000-01-31    1.040362\n",
       "2000-02-29    0.174633\n",
       "2000-03-31         NaN\n",
       "2000-04-30         NaN\n",
       "Freq: M, dtype: float64"
      ]
     },
     "execution_count": 86,
     "metadata": {},
     "output_type": "execute_result"
    }
   ],
   "source": [
    "ts.shift(-2)"
   ]
  },
  {
   "cell_type": "code",
   "execution_count": 87,
   "metadata": {},
   "outputs": [
    {
     "data": {
      "text/plain": [
       "2000-01-31          NaN\n",
       "2000-02-29    29.368908\n",
       "2000-03-31    -0.056222\n",
       "2000-04-30    -0.832142\n",
       "Freq: M, dtype: float64"
      ]
     },
     "execution_count": 87,
     "metadata": {},
     "output_type": "execute_result"
    }
   ],
   "source": [
    "ts / ts.shift(1)  - 1"
   ]
  },
  {
   "cell_type": "code",
   "execution_count": 88,
   "metadata": {},
   "outputs": [
    {
     "data": {
      "text/plain": [
       "2000-03-31    0.036298\n",
       "2000-04-30    1.102338\n",
       "2000-05-31    1.040362\n",
       "2000-06-30    0.174633\n",
       "Freq: M, dtype: float64"
      ]
     },
     "execution_count": 88,
     "metadata": {},
     "output_type": "execute_result"
    }
   ],
   "source": [
    "ts.shift(2, freq='M')"
   ]
  },
  {
   "cell_type": "code",
   "execution_count": 89,
   "metadata": {},
   "outputs": [
    {
     "data": {
      "text/plain": [
       "2000-02-03    0.036298\n",
       "2000-03-03    1.102338\n",
       "2000-04-03    1.040362\n",
       "2000-05-03    0.174633\n",
       "dtype: float64"
      ]
     },
     "execution_count": 89,
     "metadata": {},
     "output_type": "execute_result"
    }
   ],
   "source": [
    "ts.shift(3, freq='D')"
   ]
  },
  {
   "cell_type": "code",
   "execution_count": 90,
   "metadata": {},
   "outputs": [
    {
     "data": {
      "text/plain": [
       "2000-01-31 01:30:00    0.036298\n",
       "2000-02-29 01:30:00    1.102338\n",
       "2000-03-31 01:30:00    1.040362\n",
       "2000-04-30 01:30:00    0.174633\n",
       "Freq: M, dtype: float64"
      ]
     },
     "execution_count": 90,
     "metadata": {},
     "output_type": "execute_result"
    }
   ],
   "source": [
    "ts.shift(1, freq='90T')"
   ]
  },
  {
   "cell_type": "markdown",
   "metadata": {},
   "source": [
    "#### 11.3.3.1使用偏置进行位移日期"
   ]
  },
  {
   "cell_type": "code",
   "execution_count": 91,
   "metadata": {},
   "outputs": [],
   "source": [
    "from pandas.tseries.offsets import Day, MonthEnd"
   ]
  },
  {
   "cell_type": "code",
   "execution_count": 92,
   "metadata": {},
   "outputs": [
    {
     "data": {
      "text/plain": [
       "datetime.datetime(2019, 7, 23, 19, 56, 30, 476473)"
      ]
     },
     "execution_count": 92,
     "metadata": {},
     "output_type": "execute_result"
    }
   ],
   "source": [
    "datetime.now()"
   ]
  },
  {
   "cell_type": "code",
   "execution_count": 93,
   "metadata": {},
   "outputs": [],
   "source": [
    "now = datetime(2011, 11, 17)"
   ]
  },
  {
   "cell_type": "code",
   "execution_count": 94,
   "metadata": {},
   "outputs": [
    {
     "data": {
      "text/plain": [
       "Timestamp('2011-11-20 00:00:00')"
      ]
     },
     "execution_count": 94,
     "metadata": {},
     "output_type": "execute_result"
    }
   ],
   "source": [
    "now + 3 * Day()"
   ]
  },
  {
   "cell_type": "code",
   "execution_count": 95,
   "metadata": {},
   "outputs": [
    {
     "data": {
      "text/plain": [
       "Timestamp('2011-11-30 00:00:00')"
      ]
     },
     "execution_count": 95,
     "metadata": {},
     "output_type": "execute_result"
    }
   ],
   "source": [
    "now + MonthEnd()"
   ]
  },
  {
   "cell_type": "code",
   "execution_count": 96,
   "metadata": {},
   "outputs": [
    {
     "data": {
      "text/plain": [
       "Timestamp('2011-12-31 00:00:00')"
      ]
     },
     "execution_count": 96,
     "metadata": {},
     "output_type": "execute_result"
    }
   ],
   "source": [
    "now + MonthEnd(2)"
   ]
  },
  {
   "cell_type": "code",
   "execution_count": 97,
   "metadata": {},
   "outputs": [],
   "source": [
    "offset = MonthEnd()"
   ]
  },
  {
   "cell_type": "code",
   "execution_count": 98,
   "metadata": {},
   "outputs": [
    {
     "data": {
      "text/plain": [
       "Timestamp('2011-11-30 00:00:00')"
      ]
     },
     "execution_count": 98,
     "metadata": {},
     "output_type": "execute_result"
    }
   ],
   "source": [
    "offset.rollforward(now)"
   ]
  },
  {
   "cell_type": "code",
   "execution_count": 99,
   "metadata": {},
   "outputs": [
    {
     "data": {
      "text/plain": [
       "Timestamp('2011-10-31 00:00:00')"
      ]
     },
     "execution_count": 99,
     "metadata": {},
     "output_type": "execute_result"
    }
   ],
   "source": [
    "offset.rollback(now)"
   ]
  },
  {
   "cell_type": "code",
   "execution_count": 100,
   "metadata": {},
   "outputs": [],
   "source": [
    "ts = pd.Series(np.random.randn(20),\n",
    "              index=pd.date_range('1/15/2000', periods=20, freq='4d'))"
   ]
  },
  {
   "cell_type": "code",
   "execution_count": 101,
   "metadata": {},
   "outputs": [
    {
     "data": {
      "text/plain": [
       "2000-01-15   -1.251510\n",
       "2000-01-19    1.395809\n",
       "2000-01-23   -0.924417\n",
       "2000-01-27    1.252330\n",
       "2000-01-31   -1.325059\n",
       "2000-02-04    0.823110\n",
       "2000-02-08   -1.223092\n",
       "2000-02-12    0.628314\n",
       "2000-02-16   -0.584278\n",
       "2000-02-20    0.532229\n",
       "2000-02-24   -1.948946\n",
       "2000-02-28    0.321869\n",
       "2000-03-03   -0.959390\n",
       "2000-03-07    0.883131\n",
       "2000-03-11    0.694559\n",
       "2000-03-15    0.251946\n",
       "2000-03-19    0.540023\n",
       "2000-03-23    0.077857\n",
       "2000-03-27    0.380557\n",
       "2000-03-31   -1.217128\n",
       "Freq: 4D, dtype: float64"
      ]
     },
     "execution_count": 101,
     "metadata": {},
     "output_type": "execute_result"
    }
   ],
   "source": [
    "ts"
   ]
  },
  {
   "cell_type": "code",
   "execution_count": 102,
   "metadata": {},
   "outputs": [
    {
     "data": {
      "text/plain": [
       "2000-01-31   -0.170569\n",
       "2000-02-29   -0.207256\n",
       "2000-03-31    0.081444\n",
       "dtype: float64"
      ]
     },
     "execution_count": 102,
     "metadata": {},
     "output_type": "execute_result"
    }
   ],
   "source": [
    "ts.groupby(offset.rollforward).mean()"
   ]
  },
  {
   "cell_type": "code",
   "execution_count": 103,
   "metadata": {},
   "outputs": [
    {
     "data": {
      "text/plain": [
       "2000-01-31   -0.170569\n",
       "2000-02-29   -0.207256\n",
       "2000-03-31    0.081444\n",
       "Freq: M, dtype: float64"
      ]
     },
     "execution_count": 103,
     "metadata": {},
     "output_type": "execute_result"
    }
   ],
   "source": [
    "ts.resample('M').mean()"
   ]
  },
  {
   "cell_type": "markdown",
   "metadata": {},
   "source": [
    "## 11.4时区处理"
   ]
  },
  {
   "cell_type": "code",
   "execution_count": 104,
   "metadata": {},
   "outputs": [
    {
     "name": "stdout",
     "output_type": "stream",
     "text": [
      "Collecting package metadata (current_repodata.json): ...working... failed\n",
      "\n",
      "Note: you may need to restart the kernel to use updated packages.\n"
     ]
    },
    {
     "name": "stderr",
     "output_type": "stream",
     "text": [
      "\n",
      "CondaHTTPError: HTTP 000 CONNECTION FAILED for url <https://repo.anaconda.com/pkgs/main/win-64/current_repodata.json>\n",
      "Elapsed: -\n",
      "\n",
      "An HTTP error occurred when trying to retrieve this URL.\n",
      "HTTP errors are often intermittent, and a simple retry will get you on your way.\n",
      "\n",
      "If your current network has https://www.anaconda.com blocked, please file\n",
      "a support request with your network engineering team.\n",
      "\n",
      "ConnectionError(MaxRetryError(\"HTTPSConnectionPool(host='repo.anaconda.com', port=443): Max retries exceeded with url: /pkgs/main/win-64/current_repodata.json (Caused by NewConnectionError('<urllib3.connection.VerifiedHTTPSConnection object at 0x000000000593AB38>: Failed to establish a new connection: [Errno 11004] getaddrinfo failed'))\"))\n",
      "\n",
      "\n"
     ]
    }
   ],
   "source": [
    "conda install pytz"
   ]
  },
  {
   "cell_type": "code",
   "execution_count": 105,
   "metadata": {},
   "outputs": [],
   "source": [
    "import pytz"
   ]
  },
  {
   "cell_type": "code",
   "execution_count": 106,
   "metadata": {},
   "outputs": [
    {
     "data": {
      "text/plain": [
       "['US/Eastern', 'US/Hawaii', 'US/Mountain', 'US/Pacific', 'UTC']"
      ]
     },
     "execution_count": 106,
     "metadata": {},
     "output_type": "execute_result"
    }
   ],
   "source": [
    "pytz.common_timezones[-5:]"
   ]
  },
  {
   "cell_type": "code",
   "execution_count": 107,
   "metadata": {},
   "outputs": [],
   "source": [
    "tz = pytz.timezone('America/New_York')"
   ]
  },
  {
   "cell_type": "code",
   "execution_count": 108,
   "metadata": {},
   "outputs": [
    {
     "data": {
      "text/plain": [
       "<DstTzInfo 'America/New_York' LMT-1 day, 19:04:00 STD>"
      ]
     },
     "execution_count": 108,
     "metadata": {},
     "output_type": "execute_result"
    }
   ],
   "source": [
    "tz"
   ]
  },
  {
   "cell_type": "markdown",
   "metadata": {},
   "source": [
    "### 11.4.1时区的本地化和转换"
   ]
  },
  {
   "cell_type": "code",
   "execution_count": 109,
   "metadata": {},
   "outputs": [],
   "source": [
    "rng = pd.date_range('3/9/2012 9:30', periods=6, freq='D')"
   ]
  },
  {
   "cell_type": "code",
   "execution_count": 110,
   "metadata": {},
   "outputs": [],
   "source": [
    "ts = pd.Series(np.random.randn(len(rng)), index=rng)"
   ]
  },
  {
   "cell_type": "code",
   "execution_count": 111,
   "metadata": {},
   "outputs": [
    {
     "data": {
      "text/plain": [
       "2012-03-09 09:30:00   -0.162245\n",
       "2012-03-10 09:30:00    1.047906\n",
       "2012-03-11 09:30:00   -0.638365\n",
       "2012-03-12 09:30:00   -0.805345\n",
       "2012-03-13 09:30:00    1.363989\n",
       "2012-03-14 09:30:00    1.307529\n",
       "Freq: D, dtype: float64"
      ]
     },
     "execution_count": 111,
     "metadata": {},
     "output_type": "execute_result"
    }
   ],
   "source": [
    "ts"
   ]
  },
  {
   "cell_type": "code",
   "execution_count": 112,
   "metadata": {},
   "outputs": [
    {
     "name": "stdout",
     "output_type": "stream",
     "text": [
      "None\n"
     ]
    }
   ],
   "source": [
    "print(ts.index.tz)"
   ]
  },
  {
   "cell_type": "code",
   "execution_count": 113,
   "metadata": {},
   "outputs": [],
   "source": [
    "rng = pd.date_range('3/9/2012 9:30', periods=6, freq='D', tz='UTC')"
   ]
  },
  {
   "cell_type": "code",
   "execution_count": 114,
   "metadata": {},
   "outputs": [
    {
     "data": {
      "text/plain": [
       "DatetimeIndex(['2012-03-09 09:30:00+00:00', '2012-03-10 09:30:00+00:00',\n",
       "               '2012-03-11 09:30:00+00:00', '2012-03-12 09:30:00+00:00',\n",
       "               '2012-03-13 09:30:00+00:00', '2012-03-14 09:30:00+00:00'],\n",
       "              dtype='datetime64[ns, UTC]', freq='D')"
      ]
     },
     "execution_count": 114,
     "metadata": {},
     "output_type": "execute_result"
    }
   ],
   "source": [
    "rng"
   ]
  },
  {
   "cell_type": "code",
   "execution_count": 115,
   "metadata": {},
   "outputs": [
    {
     "data": {
      "text/plain": [
       "2012-03-09 09:30:00   -0.162245\n",
       "2012-03-10 09:30:00    1.047906\n",
       "2012-03-11 09:30:00   -0.638365\n",
       "2012-03-12 09:30:00   -0.805345\n",
       "2012-03-13 09:30:00    1.363989\n",
       "2012-03-14 09:30:00    1.307529\n",
       "Freq: D, dtype: float64"
      ]
     },
     "execution_count": 115,
     "metadata": {},
     "output_type": "execute_result"
    }
   ],
   "source": [
    "ts"
   ]
  },
  {
   "cell_type": "code",
   "execution_count": 116,
   "metadata": {},
   "outputs": [],
   "source": [
    "ts_utc = ts.tz_localize('UTC')"
   ]
  },
  {
   "cell_type": "code",
   "execution_count": 117,
   "metadata": {},
   "outputs": [
    {
     "data": {
      "text/plain": [
       "2012-03-09 09:30:00+00:00   -0.162245\n",
       "2012-03-10 09:30:00+00:00    1.047906\n",
       "2012-03-11 09:30:00+00:00   -0.638365\n",
       "2012-03-12 09:30:00+00:00   -0.805345\n",
       "2012-03-13 09:30:00+00:00    1.363989\n",
       "2012-03-14 09:30:00+00:00    1.307529\n",
       "Freq: D, dtype: float64"
      ]
     },
     "execution_count": 117,
     "metadata": {},
     "output_type": "execute_result"
    }
   ],
   "source": [
    "ts_utc"
   ]
  },
  {
   "cell_type": "code",
   "execution_count": 118,
   "metadata": {},
   "outputs": [
    {
     "data": {
      "text/plain": [
       "2012-03-09 04:30:00-05:00   -0.162245\n",
       "2012-03-10 04:30:00-05:00    1.047906\n",
       "2012-03-11 05:30:00-04:00   -0.638365\n",
       "2012-03-12 05:30:00-04:00   -0.805345\n",
       "2012-03-13 05:30:00-04:00    1.363989\n",
       "2012-03-14 05:30:00-04:00    1.307529\n",
       "Freq: D, dtype: float64"
      ]
     },
     "execution_count": 118,
     "metadata": {},
     "output_type": "execute_result"
    }
   ],
   "source": [
    "ts_utc.tz_convert('America/New_York')"
   ]
  },
  {
   "cell_type": "code",
   "execution_count": 119,
   "metadata": {},
   "outputs": [],
   "source": [
    "ts_eastern = ts.tz_localize('America/New_York')"
   ]
  },
  {
   "cell_type": "code",
   "execution_count": 120,
   "metadata": {},
   "outputs": [
    {
     "data": {
      "text/plain": [
       "2012-03-09 14:30:00+00:00   -0.162245\n",
       "2012-03-10 14:30:00+00:00    1.047906\n",
       "2012-03-11 13:30:00+00:00   -0.638365\n",
       "2012-03-12 13:30:00+00:00   -0.805345\n",
       "2012-03-13 13:30:00+00:00    1.363989\n",
       "2012-03-14 13:30:00+00:00    1.307529\n",
       "Freq: D, dtype: float64"
      ]
     },
     "execution_count": 120,
     "metadata": {},
     "output_type": "execute_result"
    }
   ],
   "source": [
    "ts_eastern.tz_convert('UTC')"
   ]
  },
  {
   "cell_type": "code",
   "execution_count": 121,
   "metadata": {},
   "outputs": [
    {
     "data": {
      "text/plain": [
       "2012-03-09 09:30:00-05:00   -0.162245\n",
       "2012-03-10 09:30:00-05:00    1.047906\n",
       "2012-03-11 09:30:00-04:00   -0.638365\n",
       "2012-03-12 09:30:00-04:00   -0.805345\n",
       "2012-03-13 09:30:00-04:00    1.363989\n",
       "2012-03-14 09:30:00-04:00    1.307529\n",
       "Freq: D, dtype: float64"
      ]
     },
     "execution_count": 121,
     "metadata": {},
     "output_type": "execute_result"
    }
   ],
   "source": [
    "ts_eastern"
   ]
  },
  {
   "cell_type": "code",
   "execution_count": 122,
   "metadata": {},
   "outputs": [
    {
     "data": {
      "text/plain": [
       "DatetimeIndex(['2012-03-09 09:30:00+08:00', '2012-03-10 09:30:00+08:00',\n",
       "               '2012-03-11 09:30:00+08:00', '2012-03-12 09:30:00+08:00',\n",
       "               '2012-03-13 09:30:00+08:00', '2012-03-14 09:30:00+08:00'],\n",
       "              dtype='datetime64[ns, Asia/Shanghai]', freq='D')"
      ]
     },
     "execution_count": 122,
     "metadata": {},
     "output_type": "execute_result"
    }
   ],
   "source": [
    "ts.index.tz_localize('Asia/Shanghai')"
   ]
  },
  {
   "cell_type": "markdown",
   "metadata": {},
   "source": [
    "### 11.7移动窗口函数"
   ]
  },
  {
   "cell_type": "code",
   "execution_count": 123,
   "metadata": {},
   "outputs": [],
   "source": [
    "close_px_all = pd.read_csv('G:/python/pydata-book-2nd-edition/examples/stock_px_2.csv',\n",
    "                           parse_dates=True, index_col=0)"
   ]
  },
  {
   "cell_type": "code",
   "execution_count": 124,
   "metadata": {
    "scrolled": true
   },
   "outputs": [
    {
     "data": {
      "text/html": [
       "<div>\n",
       "<style scoped>\n",
       "    .dataframe tbody tr th:only-of-type {\n",
       "        vertical-align: middle;\n",
       "    }\n",
       "\n",
       "    .dataframe tbody tr th {\n",
       "        vertical-align: top;\n",
       "    }\n",
       "\n",
       "    .dataframe thead th {\n",
       "        text-align: right;\n",
       "    }\n",
       "</style>\n",
       "<table border=\"1\" class=\"dataframe\">\n",
       "  <thead>\n",
       "    <tr style=\"text-align: right;\">\n",
       "      <th></th>\n",
       "      <th>AAPL</th>\n",
       "      <th>MSFT</th>\n",
       "      <th>XOM</th>\n",
       "      <th>SPX</th>\n",
       "    </tr>\n",
       "  </thead>\n",
       "  <tbody>\n",
       "    <tr>\n",
       "      <th>2003-01-02</th>\n",
       "      <td>7.40</td>\n",
       "      <td>21.11</td>\n",
       "      <td>29.22</td>\n",
       "      <td>909.03</td>\n",
       "    </tr>\n",
       "    <tr>\n",
       "      <th>2003-01-03</th>\n",
       "      <td>7.45</td>\n",
       "      <td>21.14</td>\n",
       "      <td>29.24</td>\n",
       "      <td>908.59</td>\n",
       "    </tr>\n",
       "    <tr>\n",
       "      <th>2003-01-06</th>\n",
       "      <td>7.45</td>\n",
       "      <td>21.52</td>\n",
       "      <td>29.96</td>\n",
       "      <td>929.01</td>\n",
       "    </tr>\n",
       "    <tr>\n",
       "      <th>2003-01-07</th>\n",
       "      <td>7.43</td>\n",
       "      <td>21.93</td>\n",
       "      <td>28.95</td>\n",
       "      <td>922.93</td>\n",
       "    </tr>\n",
       "    <tr>\n",
       "      <th>2003-01-08</th>\n",
       "      <td>7.28</td>\n",
       "      <td>21.31</td>\n",
       "      <td>28.83</td>\n",
       "      <td>909.93</td>\n",
       "    </tr>\n",
       "    <tr>\n",
       "      <th>2003-01-09</th>\n",
       "      <td>7.34</td>\n",
       "      <td>21.93</td>\n",
       "      <td>29.44</td>\n",
       "      <td>927.57</td>\n",
       "    </tr>\n",
       "    <tr>\n",
       "      <th>2003-01-10</th>\n",
       "      <td>7.36</td>\n",
       "      <td>21.97</td>\n",
       "      <td>29.03</td>\n",
       "      <td>927.57</td>\n",
       "    </tr>\n",
       "    <tr>\n",
       "      <th>2003-01-13</th>\n",
       "      <td>7.32</td>\n",
       "      <td>22.16</td>\n",
       "      <td>28.91</td>\n",
       "      <td>926.26</td>\n",
       "    </tr>\n",
       "    <tr>\n",
       "      <th>2003-01-14</th>\n",
       "      <td>7.30</td>\n",
       "      <td>22.39</td>\n",
       "      <td>29.17</td>\n",
       "      <td>931.66</td>\n",
       "    </tr>\n",
       "    <tr>\n",
       "      <th>2003-01-15</th>\n",
       "      <td>7.22</td>\n",
       "      <td>22.11</td>\n",
       "      <td>28.77</td>\n",
       "      <td>918.22</td>\n",
       "    </tr>\n",
       "    <tr>\n",
       "      <th>2003-01-16</th>\n",
       "      <td>7.31</td>\n",
       "      <td>21.75</td>\n",
       "      <td>28.90</td>\n",
       "      <td>914.60</td>\n",
       "    </tr>\n",
       "    <tr>\n",
       "      <th>2003-01-17</th>\n",
       "      <td>7.05</td>\n",
       "      <td>20.22</td>\n",
       "      <td>28.60</td>\n",
       "      <td>901.78</td>\n",
       "    </tr>\n",
       "    <tr>\n",
       "      <th>2003-01-21</th>\n",
       "      <td>7.01</td>\n",
       "      <td>20.17</td>\n",
       "      <td>27.94</td>\n",
       "      <td>887.62</td>\n",
       "    </tr>\n",
       "    <tr>\n",
       "      <th>2003-01-22</th>\n",
       "      <td>6.94</td>\n",
       "      <td>20.04</td>\n",
       "      <td>27.58</td>\n",
       "      <td>878.36</td>\n",
       "    </tr>\n",
       "    <tr>\n",
       "      <th>2003-01-23</th>\n",
       "      <td>7.09</td>\n",
       "      <td>20.54</td>\n",
       "      <td>27.52</td>\n",
       "      <td>887.34</td>\n",
       "    </tr>\n",
       "    <tr>\n",
       "      <th>2003-01-24</th>\n",
       "      <td>6.90</td>\n",
       "      <td>19.59</td>\n",
       "      <td>26.93</td>\n",
       "      <td>861.40</td>\n",
       "    </tr>\n",
       "    <tr>\n",
       "      <th>2003-01-27</th>\n",
       "      <td>7.07</td>\n",
       "      <td>19.32</td>\n",
       "      <td>26.21</td>\n",
       "      <td>847.48</td>\n",
       "    </tr>\n",
       "    <tr>\n",
       "      <th>2003-01-28</th>\n",
       "      <td>7.29</td>\n",
       "      <td>19.18</td>\n",
       "      <td>26.90</td>\n",
       "      <td>858.54</td>\n",
       "    </tr>\n",
       "    <tr>\n",
       "      <th>2003-01-29</th>\n",
       "      <td>7.47</td>\n",
       "      <td>19.61</td>\n",
       "      <td>27.88</td>\n",
       "      <td>864.36</td>\n",
       "    </tr>\n",
       "    <tr>\n",
       "      <th>2003-01-30</th>\n",
       "      <td>7.16</td>\n",
       "      <td>18.95</td>\n",
       "      <td>27.37</td>\n",
       "      <td>844.61</td>\n",
       "    </tr>\n",
       "    <tr>\n",
       "      <th>2003-01-31</th>\n",
       "      <td>7.18</td>\n",
       "      <td>18.65</td>\n",
       "      <td>28.13</td>\n",
       "      <td>855.70</td>\n",
       "    </tr>\n",
       "    <tr>\n",
       "      <th>2003-02-03</th>\n",
       "      <td>7.33</td>\n",
       "      <td>19.08</td>\n",
       "      <td>28.52</td>\n",
       "      <td>860.32</td>\n",
       "    </tr>\n",
       "    <tr>\n",
       "      <th>2003-02-04</th>\n",
       "      <td>7.30</td>\n",
       "      <td>18.59</td>\n",
       "      <td>28.52</td>\n",
       "      <td>848.20</td>\n",
       "    </tr>\n",
       "    <tr>\n",
       "      <th>2003-02-05</th>\n",
       "      <td>7.22</td>\n",
       "      <td>18.45</td>\n",
       "      <td>28.11</td>\n",
       "      <td>843.59</td>\n",
       "    </tr>\n",
       "    <tr>\n",
       "      <th>2003-02-06</th>\n",
       "      <td>7.22</td>\n",
       "      <td>18.63</td>\n",
       "      <td>27.87</td>\n",
       "      <td>838.15</td>\n",
       "    </tr>\n",
       "    <tr>\n",
       "      <th>2003-02-07</th>\n",
       "      <td>7.07</td>\n",
       "      <td>18.30</td>\n",
       "      <td>27.66</td>\n",
       "      <td>829.69</td>\n",
       "    </tr>\n",
       "    <tr>\n",
       "      <th>2003-02-10</th>\n",
       "      <td>7.18</td>\n",
       "      <td>18.62</td>\n",
       "      <td>27.87</td>\n",
       "      <td>835.97</td>\n",
       "    </tr>\n",
       "    <tr>\n",
       "      <th>2003-02-11</th>\n",
       "      <td>7.18</td>\n",
       "      <td>18.25</td>\n",
       "      <td>27.67</td>\n",
       "      <td>829.20</td>\n",
       "    </tr>\n",
       "    <tr>\n",
       "      <th>2003-02-12</th>\n",
       "      <td>7.20</td>\n",
       "      <td>18.25</td>\n",
       "      <td>27.12</td>\n",
       "      <td>818.68</td>\n",
       "    </tr>\n",
       "    <tr>\n",
       "      <th>2003-02-13</th>\n",
       "      <td>7.27</td>\n",
       "      <td>18.46</td>\n",
       "      <td>27.47</td>\n",
       "      <td>817.37</td>\n",
       "    </tr>\n",
       "    <tr>\n",
       "      <th>...</th>\n",
       "      <td>...</td>\n",
       "      <td>...</td>\n",
       "      <td>...</td>\n",
       "      <td>...</td>\n",
       "    </tr>\n",
       "    <tr>\n",
       "      <th>2011-09-02</th>\n",
       "      <td>374.05</td>\n",
       "      <td>25.80</td>\n",
       "      <td>72.14</td>\n",
       "      <td>1173.97</td>\n",
       "    </tr>\n",
       "    <tr>\n",
       "      <th>2011-09-06</th>\n",
       "      <td>379.74</td>\n",
       "      <td>25.51</td>\n",
       "      <td>71.15</td>\n",
       "      <td>1165.24</td>\n",
       "    </tr>\n",
       "    <tr>\n",
       "      <th>2011-09-07</th>\n",
       "      <td>383.93</td>\n",
       "      <td>26.00</td>\n",
       "      <td>73.65</td>\n",
       "      <td>1198.62</td>\n",
       "    </tr>\n",
       "    <tr>\n",
       "      <th>2011-09-08</th>\n",
       "      <td>384.14</td>\n",
       "      <td>26.22</td>\n",
       "      <td>72.82</td>\n",
       "      <td>1185.90</td>\n",
       "    </tr>\n",
       "    <tr>\n",
       "      <th>2011-09-09</th>\n",
       "      <td>377.48</td>\n",
       "      <td>25.74</td>\n",
       "      <td>71.01</td>\n",
       "      <td>1154.23</td>\n",
       "    </tr>\n",
       "    <tr>\n",
       "      <th>2011-09-12</th>\n",
       "      <td>379.94</td>\n",
       "      <td>25.89</td>\n",
       "      <td>71.84</td>\n",
       "      <td>1162.27</td>\n",
       "    </tr>\n",
       "    <tr>\n",
       "      <th>2011-09-13</th>\n",
       "      <td>384.62</td>\n",
       "      <td>26.04</td>\n",
       "      <td>71.65</td>\n",
       "      <td>1172.87</td>\n",
       "    </tr>\n",
       "    <tr>\n",
       "      <th>2011-09-14</th>\n",
       "      <td>389.30</td>\n",
       "      <td>26.50</td>\n",
       "      <td>72.64</td>\n",
       "      <td>1188.68</td>\n",
       "    </tr>\n",
       "    <tr>\n",
       "      <th>2011-09-15</th>\n",
       "      <td>392.96</td>\n",
       "      <td>26.99</td>\n",
       "      <td>74.01</td>\n",
       "      <td>1209.11</td>\n",
       "    </tr>\n",
       "    <tr>\n",
       "      <th>2011-09-16</th>\n",
       "      <td>400.50</td>\n",
       "      <td>27.12</td>\n",
       "      <td>74.55</td>\n",
       "      <td>1216.01</td>\n",
       "    </tr>\n",
       "    <tr>\n",
       "      <th>2011-09-19</th>\n",
       "      <td>411.63</td>\n",
       "      <td>27.21</td>\n",
       "      <td>73.70</td>\n",
       "      <td>1204.09</td>\n",
       "    </tr>\n",
       "    <tr>\n",
       "      <th>2011-09-20</th>\n",
       "      <td>413.45</td>\n",
       "      <td>26.98</td>\n",
       "      <td>74.01</td>\n",
       "      <td>1202.09</td>\n",
       "    </tr>\n",
       "    <tr>\n",
       "      <th>2011-09-21</th>\n",
       "      <td>412.14</td>\n",
       "      <td>25.99</td>\n",
       "      <td>71.97</td>\n",
       "      <td>1166.76</td>\n",
       "    </tr>\n",
       "    <tr>\n",
       "      <th>2011-09-22</th>\n",
       "      <td>401.82</td>\n",
       "      <td>25.06</td>\n",
       "      <td>69.24</td>\n",
       "      <td>1129.56</td>\n",
       "    </tr>\n",
       "    <tr>\n",
       "      <th>2011-09-23</th>\n",
       "      <td>404.30</td>\n",
       "      <td>25.06</td>\n",
       "      <td>69.31</td>\n",
       "      <td>1136.43</td>\n",
       "    </tr>\n",
       "    <tr>\n",
       "      <th>2011-09-26</th>\n",
       "      <td>403.17</td>\n",
       "      <td>25.44</td>\n",
       "      <td>71.72</td>\n",
       "      <td>1162.95</td>\n",
       "    </tr>\n",
       "    <tr>\n",
       "      <th>2011-09-27</th>\n",
       "      <td>399.26</td>\n",
       "      <td>25.67</td>\n",
       "      <td>72.91</td>\n",
       "      <td>1175.38</td>\n",
       "    </tr>\n",
       "    <tr>\n",
       "      <th>2011-09-28</th>\n",
       "      <td>397.01</td>\n",
       "      <td>25.58</td>\n",
       "      <td>72.07</td>\n",
       "      <td>1151.06</td>\n",
       "    </tr>\n",
       "    <tr>\n",
       "      <th>2011-09-29</th>\n",
       "      <td>390.57</td>\n",
       "      <td>25.45</td>\n",
       "      <td>73.88</td>\n",
       "      <td>1160.40</td>\n",
       "    </tr>\n",
       "    <tr>\n",
       "      <th>2011-09-30</th>\n",
       "      <td>381.32</td>\n",
       "      <td>24.89</td>\n",
       "      <td>72.63</td>\n",
       "      <td>1131.42</td>\n",
       "    </tr>\n",
       "    <tr>\n",
       "      <th>2011-10-03</th>\n",
       "      <td>374.60</td>\n",
       "      <td>24.53</td>\n",
       "      <td>71.15</td>\n",
       "      <td>1099.23</td>\n",
       "    </tr>\n",
       "    <tr>\n",
       "      <th>2011-10-04</th>\n",
       "      <td>372.50</td>\n",
       "      <td>25.34</td>\n",
       "      <td>72.83</td>\n",
       "      <td>1123.95</td>\n",
       "    </tr>\n",
       "    <tr>\n",
       "      <th>2011-10-05</th>\n",
       "      <td>378.25</td>\n",
       "      <td>25.89</td>\n",
       "      <td>73.95</td>\n",
       "      <td>1144.03</td>\n",
       "    </tr>\n",
       "    <tr>\n",
       "      <th>2011-10-06</th>\n",
       "      <td>377.37</td>\n",
       "      <td>26.34</td>\n",
       "      <td>73.89</td>\n",
       "      <td>1164.97</td>\n",
       "    </tr>\n",
       "    <tr>\n",
       "      <th>2011-10-07</th>\n",
       "      <td>369.80</td>\n",
       "      <td>26.25</td>\n",
       "      <td>73.56</td>\n",
       "      <td>1155.46</td>\n",
       "    </tr>\n",
       "    <tr>\n",
       "      <th>2011-10-10</th>\n",
       "      <td>388.81</td>\n",
       "      <td>26.94</td>\n",
       "      <td>76.28</td>\n",
       "      <td>1194.89</td>\n",
       "    </tr>\n",
       "    <tr>\n",
       "      <th>2011-10-11</th>\n",
       "      <td>400.29</td>\n",
       "      <td>27.00</td>\n",
       "      <td>76.27</td>\n",
       "      <td>1195.54</td>\n",
       "    </tr>\n",
       "    <tr>\n",
       "      <th>2011-10-12</th>\n",
       "      <td>402.19</td>\n",
       "      <td>26.96</td>\n",
       "      <td>77.16</td>\n",
       "      <td>1207.25</td>\n",
       "    </tr>\n",
       "    <tr>\n",
       "      <th>2011-10-13</th>\n",
       "      <td>408.43</td>\n",
       "      <td>27.18</td>\n",
       "      <td>76.37</td>\n",
       "      <td>1203.66</td>\n",
       "    </tr>\n",
       "    <tr>\n",
       "      <th>2011-10-14</th>\n",
       "      <td>422.00</td>\n",
       "      <td>27.27</td>\n",
       "      <td>78.11</td>\n",
       "      <td>1224.58</td>\n",
       "    </tr>\n",
       "  </tbody>\n",
       "</table>\n",
       "<p>2214 rows × 4 columns</p>\n",
       "</div>"
      ],
      "text/plain": [
       "              AAPL   MSFT    XOM      SPX\n",
       "2003-01-02    7.40  21.11  29.22   909.03\n",
       "2003-01-03    7.45  21.14  29.24   908.59\n",
       "2003-01-06    7.45  21.52  29.96   929.01\n",
       "2003-01-07    7.43  21.93  28.95   922.93\n",
       "2003-01-08    7.28  21.31  28.83   909.93\n",
       "2003-01-09    7.34  21.93  29.44   927.57\n",
       "2003-01-10    7.36  21.97  29.03   927.57\n",
       "2003-01-13    7.32  22.16  28.91   926.26\n",
       "2003-01-14    7.30  22.39  29.17   931.66\n",
       "2003-01-15    7.22  22.11  28.77   918.22\n",
       "2003-01-16    7.31  21.75  28.90   914.60\n",
       "2003-01-17    7.05  20.22  28.60   901.78\n",
       "2003-01-21    7.01  20.17  27.94   887.62\n",
       "2003-01-22    6.94  20.04  27.58   878.36\n",
       "2003-01-23    7.09  20.54  27.52   887.34\n",
       "2003-01-24    6.90  19.59  26.93   861.40\n",
       "2003-01-27    7.07  19.32  26.21   847.48\n",
       "2003-01-28    7.29  19.18  26.90   858.54\n",
       "2003-01-29    7.47  19.61  27.88   864.36\n",
       "2003-01-30    7.16  18.95  27.37   844.61\n",
       "2003-01-31    7.18  18.65  28.13   855.70\n",
       "2003-02-03    7.33  19.08  28.52   860.32\n",
       "2003-02-04    7.30  18.59  28.52   848.20\n",
       "2003-02-05    7.22  18.45  28.11   843.59\n",
       "2003-02-06    7.22  18.63  27.87   838.15\n",
       "2003-02-07    7.07  18.30  27.66   829.69\n",
       "2003-02-10    7.18  18.62  27.87   835.97\n",
       "2003-02-11    7.18  18.25  27.67   829.20\n",
       "2003-02-12    7.20  18.25  27.12   818.68\n",
       "2003-02-13    7.27  18.46  27.47   817.37\n",
       "...            ...    ...    ...      ...\n",
       "2011-09-02  374.05  25.80  72.14  1173.97\n",
       "2011-09-06  379.74  25.51  71.15  1165.24\n",
       "2011-09-07  383.93  26.00  73.65  1198.62\n",
       "2011-09-08  384.14  26.22  72.82  1185.90\n",
       "2011-09-09  377.48  25.74  71.01  1154.23\n",
       "2011-09-12  379.94  25.89  71.84  1162.27\n",
       "2011-09-13  384.62  26.04  71.65  1172.87\n",
       "2011-09-14  389.30  26.50  72.64  1188.68\n",
       "2011-09-15  392.96  26.99  74.01  1209.11\n",
       "2011-09-16  400.50  27.12  74.55  1216.01\n",
       "2011-09-19  411.63  27.21  73.70  1204.09\n",
       "2011-09-20  413.45  26.98  74.01  1202.09\n",
       "2011-09-21  412.14  25.99  71.97  1166.76\n",
       "2011-09-22  401.82  25.06  69.24  1129.56\n",
       "2011-09-23  404.30  25.06  69.31  1136.43\n",
       "2011-09-26  403.17  25.44  71.72  1162.95\n",
       "2011-09-27  399.26  25.67  72.91  1175.38\n",
       "2011-09-28  397.01  25.58  72.07  1151.06\n",
       "2011-09-29  390.57  25.45  73.88  1160.40\n",
       "2011-09-30  381.32  24.89  72.63  1131.42\n",
       "2011-10-03  374.60  24.53  71.15  1099.23\n",
       "2011-10-04  372.50  25.34  72.83  1123.95\n",
       "2011-10-05  378.25  25.89  73.95  1144.03\n",
       "2011-10-06  377.37  26.34  73.89  1164.97\n",
       "2011-10-07  369.80  26.25  73.56  1155.46\n",
       "2011-10-10  388.81  26.94  76.28  1194.89\n",
       "2011-10-11  400.29  27.00  76.27  1195.54\n",
       "2011-10-12  402.19  26.96  77.16  1207.25\n",
       "2011-10-13  408.43  27.18  76.37  1203.66\n",
       "2011-10-14  422.00  27.27  78.11  1224.58\n",
       "\n",
       "[2214 rows x 4 columns]"
      ]
     },
     "execution_count": 124,
     "metadata": {},
     "output_type": "execute_result"
    }
   ],
   "source": [
    "close_px_all"
   ]
  },
  {
   "cell_type": "code",
   "execution_count": 125,
   "metadata": {},
   "outputs": [],
   "source": [
    "close_px = close_px_all[['AAPL', 'MSFT', 'XOM']]"
   ]
  },
  {
   "cell_type": "code",
   "execution_count": 126,
   "metadata": {
    "scrolled": true
   },
   "outputs": [
    {
     "data": {
      "text/html": [
       "<div>\n",
       "<style scoped>\n",
       "    .dataframe tbody tr th:only-of-type {\n",
       "        vertical-align: middle;\n",
       "    }\n",
       "\n",
       "    .dataframe tbody tr th {\n",
       "        vertical-align: top;\n",
       "    }\n",
       "\n",
       "    .dataframe thead th {\n",
       "        text-align: right;\n",
       "    }\n",
       "</style>\n",
       "<table border=\"1\" class=\"dataframe\">\n",
       "  <thead>\n",
       "    <tr style=\"text-align: right;\">\n",
       "      <th></th>\n",
       "      <th>AAPL</th>\n",
       "      <th>MSFT</th>\n",
       "      <th>XOM</th>\n",
       "    </tr>\n",
       "  </thead>\n",
       "  <tbody>\n",
       "    <tr>\n",
       "      <th>2003-01-02</th>\n",
       "      <td>7.40</td>\n",
       "      <td>21.11</td>\n",
       "      <td>29.22</td>\n",
       "    </tr>\n",
       "    <tr>\n",
       "      <th>2003-01-03</th>\n",
       "      <td>7.45</td>\n",
       "      <td>21.14</td>\n",
       "      <td>29.24</td>\n",
       "    </tr>\n",
       "    <tr>\n",
       "      <th>2003-01-06</th>\n",
       "      <td>7.45</td>\n",
       "      <td>21.52</td>\n",
       "      <td>29.96</td>\n",
       "    </tr>\n",
       "    <tr>\n",
       "      <th>2003-01-07</th>\n",
       "      <td>7.43</td>\n",
       "      <td>21.93</td>\n",
       "      <td>28.95</td>\n",
       "    </tr>\n",
       "    <tr>\n",
       "      <th>2003-01-08</th>\n",
       "      <td>7.28</td>\n",
       "      <td>21.31</td>\n",
       "      <td>28.83</td>\n",
       "    </tr>\n",
       "    <tr>\n",
       "      <th>2003-01-09</th>\n",
       "      <td>7.34</td>\n",
       "      <td>21.93</td>\n",
       "      <td>29.44</td>\n",
       "    </tr>\n",
       "    <tr>\n",
       "      <th>2003-01-10</th>\n",
       "      <td>7.36</td>\n",
       "      <td>21.97</td>\n",
       "      <td>29.03</td>\n",
       "    </tr>\n",
       "    <tr>\n",
       "      <th>2003-01-13</th>\n",
       "      <td>7.32</td>\n",
       "      <td>22.16</td>\n",
       "      <td>28.91</td>\n",
       "    </tr>\n",
       "    <tr>\n",
       "      <th>2003-01-14</th>\n",
       "      <td>7.30</td>\n",
       "      <td>22.39</td>\n",
       "      <td>29.17</td>\n",
       "    </tr>\n",
       "    <tr>\n",
       "      <th>2003-01-15</th>\n",
       "      <td>7.22</td>\n",
       "      <td>22.11</td>\n",
       "      <td>28.77</td>\n",
       "    </tr>\n",
       "    <tr>\n",
       "      <th>2003-01-16</th>\n",
       "      <td>7.31</td>\n",
       "      <td>21.75</td>\n",
       "      <td>28.90</td>\n",
       "    </tr>\n",
       "    <tr>\n",
       "      <th>2003-01-17</th>\n",
       "      <td>7.05</td>\n",
       "      <td>20.22</td>\n",
       "      <td>28.60</td>\n",
       "    </tr>\n",
       "    <tr>\n",
       "      <th>2003-01-21</th>\n",
       "      <td>7.01</td>\n",
       "      <td>20.17</td>\n",
       "      <td>27.94</td>\n",
       "    </tr>\n",
       "    <tr>\n",
       "      <th>2003-01-22</th>\n",
       "      <td>6.94</td>\n",
       "      <td>20.04</td>\n",
       "      <td>27.58</td>\n",
       "    </tr>\n",
       "    <tr>\n",
       "      <th>2003-01-23</th>\n",
       "      <td>7.09</td>\n",
       "      <td>20.54</td>\n",
       "      <td>27.52</td>\n",
       "    </tr>\n",
       "    <tr>\n",
       "      <th>2003-01-24</th>\n",
       "      <td>6.90</td>\n",
       "      <td>19.59</td>\n",
       "      <td>26.93</td>\n",
       "    </tr>\n",
       "    <tr>\n",
       "      <th>2003-01-27</th>\n",
       "      <td>7.07</td>\n",
       "      <td>19.32</td>\n",
       "      <td>26.21</td>\n",
       "    </tr>\n",
       "    <tr>\n",
       "      <th>2003-01-28</th>\n",
       "      <td>7.29</td>\n",
       "      <td>19.18</td>\n",
       "      <td>26.90</td>\n",
       "    </tr>\n",
       "    <tr>\n",
       "      <th>2003-01-29</th>\n",
       "      <td>7.47</td>\n",
       "      <td>19.61</td>\n",
       "      <td>27.88</td>\n",
       "    </tr>\n",
       "    <tr>\n",
       "      <th>2003-01-30</th>\n",
       "      <td>7.16</td>\n",
       "      <td>18.95</td>\n",
       "      <td>27.37</td>\n",
       "    </tr>\n",
       "    <tr>\n",
       "      <th>2003-01-31</th>\n",
       "      <td>7.18</td>\n",
       "      <td>18.65</td>\n",
       "      <td>28.13</td>\n",
       "    </tr>\n",
       "    <tr>\n",
       "      <th>2003-02-03</th>\n",
       "      <td>7.33</td>\n",
       "      <td>19.08</td>\n",
       "      <td>28.52</td>\n",
       "    </tr>\n",
       "    <tr>\n",
       "      <th>2003-02-04</th>\n",
       "      <td>7.30</td>\n",
       "      <td>18.59</td>\n",
       "      <td>28.52</td>\n",
       "    </tr>\n",
       "    <tr>\n",
       "      <th>2003-02-05</th>\n",
       "      <td>7.22</td>\n",
       "      <td>18.45</td>\n",
       "      <td>28.11</td>\n",
       "    </tr>\n",
       "    <tr>\n",
       "      <th>2003-02-06</th>\n",
       "      <td>7.22</td>\n",
       "      <td>18.63</td>\n",
       "      <td>27.87</td>\n",
       "    </tr>\n",
       "    <tr>\n",
       "      <th>2003-02-07</th>\n",
       "      <td>7.07</td>\n",
       "      <td>18.30</td>\n",
       "      <td>27.66</td>\n",
       "    </tr>\n",
       "    <tr>\n",
       "      <th>2003-02-10</th>\n",
       "      <td>7.18</td>\n",
       "      <td>18.62</td>\n",
       "      <td>27.87</td>\n",
       "    </tr>\n",
       "    <tr>\n",
       "      <th>2003-02-11</th>\n",
       "      <td>7.18</td>\n",
       "      <td>18.25</td>\n",
       "      <td>27.67</td>\n",
       "    </tr>\n",
       "    <tr>\n",
       "      <th>2003-02-12</th>\n",
       "      <td>7.20</td>\n",
       "      <td>18.25</td>\n",
       "      <td>27.12</td>\n",
       "    </tr>\n",
       "    <tr>\n",
       "      <th>2003-02-13</th>\n",
       "      <td>7.27</td>\n",
       "      <td>18.46</td>\n",
       "      <td>27.47</td>\n",
       "    </tr>\n",
       "    <tr>\n",
       "      <th>...</th>\n",
       "      <td>...</td>\n",
       "      <td>...</td>\n",
       "      <td>...</td>\n",
       "    </tr>\n",
       "    <tr>\n",
       "      <th>2011-09-02</th>\n",
       "      <td>374.05</td>\n",
       "      <td>25.80</td>\n",
       "      <td>72.14</td>\n",
       "    </tr>\n",
       "    <tr>\n",
       "      <th>2011-09-06</th>\n",
       "      <td>379.74</td>\n",
       "      <td>25.51</td>\n",
       "      <td>71.15</td>\n",
       "    </tr>\n",
       "    <tr>\n",
       "      <th>2011-09-07</th>\n",
       "      <td>383.93</td>\n",
       "      <td>26.00</td>\n",
       "      <td>73.65</td>\n",
       "    </tr>\n",
       "    <tr>\n",
       "      <th>2011-09-08</th>\n",
       "      <td>384.14</td>\n",
       "      <td>26.22</td>\n",
       "      <td>72.82</td>\n",
       "    </tr>\n",
       "    <tr>\n",
       "      <th>2011-09-09</th>\n",
       "      <td>377.48</td>\n",
       "      <td>25.74</td>\n",
       "      <td>71.01</td>\n",
       "    </tr>\n",
       "    <tr>\n",
       "      <th>2011-09-12</th>\n",
       "      <td>379.94</td>\n",
       "      <td>25.89</td>\n",
       "      <td>71.84</td>\n",
       "    </tr>\n",
       "    <tr>\n",
       "      <th>2011-09-13</th>\n",
       "      <td>384.62</td>\n",
       "      <td>26.04</td>\n",
       "      <td>71.65</td>\n",
       "    </tr>\n",
       "    <tr>\n",
       "      <th>2011-09-14</th>\n",
       "      <td>389.30</td>\n",
       "      <td>26.50</td>\n",
       "      <td>72.64</td>\n",
       "    </tr>\n",
       "    <tr>\n",
       "      <th>2011-09-15</th>\n",
       "      <td>392.96</td>\n",
       "      <td>26.99</td>\n",
       "      <td>74.01</td>\n",
       "    </tr>\n",
       "    <tr>\n",
       "      <th>2011-09-16</th>\n",
       "      <td>400.50</td>\n",
       "      <td>27.12</td>\n",
       "      <td>74.55</td>\n",
       "    </tr>\n",
       "    <tr>\n",
       "      <th>2011-09-19</th>\n",
       "      <td>411.63</td>\n",
       "      <td>27.21</td>\n",
       "      <td>73.70</td>\n",
       "    </tr>\n",
       "    <tr>\n",
       "      <th>2011-09-20</th>\n",
       "      <td>413.45</td>\n",
       "      <td>26.98</td>\n",
       "      <td>74.01</td>\n",
       "    </tr>\n",
       "    <tr>\n",
       "      <th>2011-09-21</th>\n",
       "      <td>412.14</td>\n",
       "      <td>25.99</td>\n",
       "      <td>71.97</td>\n",
       "    </tr>\n",
       "    <tr>\n",
       "      <th>2011-09-22</th>\n",
       "      <td>401.82</td>\n",
       "      <td>25.06</td>\n",
       "      <td>69.24</td>\n",
       "    </tr>\n",
       "    <tr>\n",
       "      <th>2011-09-23</th>\n",
       "      <td>404.30</td>\n",
       "      <td>25.06</td>\n",
       "      <td>69.31</td>\n",
       "    </tr>\n",
       "    <tr>\n",
       "      <th>2011-09-26</th>\n",
       "      <td>403.17</td>\n",
       "      <td>25.44</td>\n",
       "      <td>71.72</td>\n",
       "    </tr>\n",
       "    <tr>\n",
       "      <th>2011-09-27</th>\n",
       "      <td>399.26</td>\n",
       "      <td>25.67</td>\n",
       "      <td>72.91</td>\n",
       "    </tr>\n",
       "    <tr>\n",
       "      <th>2011-09-28</th>\n",
       "      <td>397.01</td>\n",
       "      <td>25.58</td>\n",
       "      <td>72.07</td>\n",
       "    </tr>\n",
       "    <tr>\n",
       "      <th>2011-09-29</th>\n",
       "      <td>390.57</td>\n",
       "      <td>25.45</td>\n",
       "      <td>73.88</td>\n",
       "    </tr>\n",
       "    <tr>\n",
       "      <th>2011-09-30</th>\n",
       "      <td>381.32</td>\n",
       "      <td>24.89</td>\n",
       "      <td>72.63</td>\n",
       "    </tr>\n",
       "    <tr>\n",
       "      <th>2011-10-03</th>\n",
       "      <td>374.60</td>\n",
       "      <td>24.53</td>\n",
       "      <td>71.15</td>\n",
       "    </tr>\n",
       "    <tr>\n",
       "      <th>2011-10-04</th>\n",
       "      <td>372.50</td>\n",
       "      <td>25.34</td>\n",
       "      <td>72.83</td>\n",
       "    </tr>\n",
       "    <tr>\n",
       "      <th>2011-10-05</th>\n",
       "      <td>378.25</td>\n",
       "      <td>25.89</td>\n",
       "      <td>73.95</td>\n",
       "    </tr>\n",
       "    <tr>\n",
       "      <th>2011-10-06</th>\n",
       "      <td>377.37</td>\n",
       "      <td>26.34</td>\n",
       "      <td>73.89</td>\n",
       "    </tr>\n",
       "    <tr>\n",
       "      <th>2011-10-07</th>\n",
       "      <td>369.80</td>\n",
       "      <td>26.25</td>\n",
       "      <td>73.56</td>\n",
       "    </tr>\n",
       "    <tr>\n",
       "      <th>2011-10-10</th>\n",
       "      <td>388.81</td>\n",
       "      <td>26.94</td>\n",
       "      <td>76.28</td>\n",
       "    </tr>\n",
       "    <tr>\n",
       "      <th>2011-10-11</th>\n",
       "      <td>400.29</td>\n",
       "      <td>27.00</td>\n",
       "      <td>76.27</td>\n",
       "    </tr>\n",
       "    <tr>\n",
       "      <th>2011-10-12</th>\n",
       "      <td>402.19</td>\n",
       "      <td>26.96</td>\n",
       "      <td>77.16</td>\n",
       "    </tr>\n",
       "    <tr>\n",
       "      <th>2011-10-13</th>\n",
       "      <td>408.43</td>\n",
       "      <td>27.18</td>\n",
       "      <td>76.37</td>\n",
       "    </tr>\n",
       "    <tr>\n",
       "      <th>2011-10-14</th>\n",
       "      <td>422.00</td>\n",
       "      <td>27.27</td>\n",
       "      <td>78.11</td>\n",
       "    </tr>\n",
       "  </tbody>\n",
       "</table>\n",
       "<p>2214 rows × 3 columns</p>\n",
       "</div>"
      ],
      "text/plain": [
       "              AAPL   MSFT    XOM\n",
       "2003-01-02    7.40  21.11  29.22\n",
       "2003-01-03    7.45  21.14  29.24\n",
       "2003-01-06    7.45  21.52  29.96\n",
       "2003-01-07    7.43  21.93  28.95\n",
       "2003-01-08    7.28  21.31  28.83\n",
       "2003-01-09    7.34  21.93  29.44\n",
       "2003-01-10    7.36  21.97  29.03\n",
       "2003-01-13    7.32  22.16  28.91\n",
       "2003-01-14    7.30  22.39  29.17\n",
       "2003-01-15    7.22  22.11  28.77\n",
       "2003-01-16    7.31  21.75  28.90\n",
       "2003-01-17    7.05  20.22  28.60\n",
       "2003-01-21    7.01  20.17  27.94\n",
       "2003-01-22    6.94  20.04  27.58\n",
       "2003-01-23    7.09  20.54  27.52\n",
       "2003-01-24    6.90  19.59  26.93\n",
       "2003-01-27    7.07  19.32  26.21\n",
       "2003-01-28    7.29  19.18  26.90\n",
       "2003-01-29    7.47  19.61  27.88\n",
       "2003-01-30    7.16  18.95  27.37\n",
       "2003-01-31    7.18  18.65  28.13\n",
       "2003-02-03    7.33  19.08  28.52\n",
       "2003-02-04    7.30  18.59  28.52\n",
       "2003-02-05    7.22  18.45  28.11\n",
       "2003-02-06    7.22  18.63  27.87\n",
       "2003-02-07    7.07  18.30  27.66\n",
       "2003-02-10    7.18  18.62  27.87\n",
       "2003-02-11    7.18  18.25  27.67\n",
       "2003-02-12    7.20  18.25  27.12\n",
       "2003-02-13    7.27  18.46  27.47\n",
       "...            ...    ...    ...\n",
       "2011-09-02  374.05  25.80  72.14\n",
       "2011-09-06  379.74  25.51  71.15\n",
       "2011-09-07  383.93  26.00  73.65\n",
       "2011-09-08  384.14  26.22  72.82\n",
       "2011-09-09  377.48  25.74  71.01\n",
       "2011-09-12  379.94  25.89  71.84\n",
       "2011-09-13  384.62  26.04  71.65\n",
       "2011-09-14  389.30  26.50  72.64\n",
       "2011-09-15  392.96  26.99  74.01\n",
       "2011-09-16  400.50  27.12  74.55\n",
       "2011-09-19  411.63  27.21  73.70\n",
       "2011-09-20  413.45  26.98  74.01\n",
       "2011-09-21  412.14  25.99  71.97\n",
       "2011-09-22  401.82  25.06  69.24\n",
       "2011-09-23  404.30  25.06  69.31\n",
       "2011-09-26  403.17  25.44  71.72\n",
       "2011-09-27  399.26  25.67  72.91\n",
       "2011-09-28  397.01  25.58  72.07\n",
       "2011-09-29  390.57  25.45  73.88\n",
       "2011-09-30  381.32  24.89  72.63\n",
       "2011-10-03  374.60  24.53  71.15\n",
       "2011-10-04  372.50  25.34  72.83\n",
       "2011-10-05  378.25  25.89  73.95\n",
       "2011-10-06  377.37  26.34  73.89\n",
       "2011-10-07  369.80  26.25  73.56\n",
       "2011-10-10  388.81  26.94  76.28\n",
       "2011-10-11  400.29  27.00  76.27\n",
       "2011-10-12  402.19  26.96  77.16\n",
       "2011-10-13  408.43  27.18  76.37\n",
       "2011-10-14  422.00  27.27  78.11\n",
       "\n",
       "[2214 rows x 3 columns]"
      ]
     },
     "execution_count": 126,
     "metadata": {},
     "output_type": "execute_result"
    }
   ],
   "source": [
    "close_px"
   ]
  },
  {
   "cell_type": "code",
   "execution_count": 127,
   "metadata": {},
   "outputs": [],
   "source": [
    "close_px = close_px.resample('B').ffill()"
   ]
  },
  {
   "cell_type": "code",
   "execution_count": 128,
   "metadata": {
    "scrolled": true
   },
   "outputs": [
    {
     "data": {
      "text/html": [
       "<div>\n",
       "<style scoped>\n",
       "    .dataframe tbody tr th:only-of-type {\n",
       "        vertical-align: middle;\n",
       "    }\n",
       "\n",
       "    .dataframe tbody tr th {\n",
       "        vertical-align: top;\n",
       "    }\n",
       "\n",
       "    .dataframe thead th {\n",
       "        text-align: right;\n",
       "    }\n",
       "</style>\n",
       "<table border=\"1\" class=\"dataframe\">\n",
       "  <thead>\n",
       "    <tr style=\"text-align: right;\">\n",
       "      <th></th>\n",
       "      <th>AAPL</th>\n",
       "      <th>MSFT</th>\n",
       "      <th>XOM</th>\n",
       "    </tr>\n",
       "  </thead>\n",
       "  <tbody>\n",
       "    <tr>\n",
       "      <th>2003-01-02</th>\n",
       "      <td>7.40</td>\n",
       "      <td>21.11</td>\n",
       "      <td>29.22</td>\n",
       "    </tr>\n",
       "    <tr>\n",
       "      <th>2003-01-03</th>\n",
       "      <td>7.45</td>\n",
       "      <td>21.14</td>\n",
       "      <td>29.24</td>\n",
       "    </tr>\n",
       "    <tr>\n",
       "      <th>2003-01-06</th>\n",
       "      <td>7.45</td>\n",
       "      <td>21.52</td>\n",
       "      <td>29.96</td>\n",
       "    </tr>\n",
       "    <tr>\n",
       "      <th>2003-01-07</th>\n",
       "      <td>7.43</td>\n",
       "      <td>21.93</td>\n",
       "      <td>28.95</td>\n",
       "    </tr>\n",
       "    <tr>\n",
       "      <th>2003-01-08</th>\n",
       "      <td>7.28</td>\n",
       "      <td>21.31</td>\n",
       "      <td>28.83</td>\n",
       "    </tr>\n",
       "    <tr>\n",
       "      <th>2003-01-09</th>\n",
       "      <td>7.34</td>\n",
       "      <td>21.93</td>\n",
       "      <td>29.44</td>\n",
       "    </tr>\n",
       "    <tr>\n",
       "      <th>2003-01-10</th>\n",
       "      <td>7.36</td>\n",
       "      <td>21.97</td>\n",
       "      <td>29.03</td>\n",
       "    </tr>\n",
       "    <tr>\n",
       "      <th>2003-01-13</th>\n",
       "      <td>7.32</td>\n",
       "      <td>22.16</td>\n",
       "      <td>28.91</td>\n",
       "    </tr>\n",
       "    <tr>\n",
       "      <th>2003-01-14</th>\n",
       "      <td>7.30</td>\n",
       "      <td>22.39</td>\n",
       "      <td>29.17</td>\n",
       "    </tr>\n",
       "    <tr>\n",
       "      <th>2003-01-15</th>\n",
       "      <td>7.22</td>\n",
       "      <td>22.11</td>\n",
       "      <td>28.77</td>\n",
       "    </tr>\n",
       "    <tr>\n",
       "      <th>2003-01-16</th>\n",
       "      <td>7.31</td>\n",
       "      <td>21.75</td>\n",
       "      <td>28.90</td>\n",
       "    </tr>\n",
       "    <tr>\n",
       "      <th>2003-01-17</th>\n",
       "      <td>7.05</td>\n",
       "      <td>20.22</td>\n",
       "      <td>28.60</td>\n",
       "    </tr>\n",
       "    <tr>\n",
       "      <th>2003-01-20</th>\n",
       "      <td>7.05</td>\n",
       "      <td>20.22</td>\n",
       "      <td>28.60</td>\n",
       "    </tr>\n",
       "    <tr>\n",
       "      <th>2003-01-21</th>\n",
       "      <td>7.01</td>\n",
       "      <td>20.17</td>\n",
       "      <td>27.94</td>\n",
       "    </tr>\n",
       "    <tr>\n",
       "      <th>2003-01-22</th>\n",
       "      <td>6.94</td>\n",
       "      <td>20.04</td>\n",
       "      <td>27.58</td>\n",
       "    </tr>\n",
       "    <tr>\n",
       "      <th>2003-01-23</th>\n",
       "      <td>7.09</td>\n",
       "      <td>20.54</td>\n",
       "      <td>27.52</td>\n",
       "    </tr>\n",
       "    <tr>\n",
       "      <th>2003-01-24</th>\n",
       "      <td>6.90</td>\n",
       "      <td>19.59</td>\n",
       "      <td>26.93</td>\n",
       "    </tr>\n",
       "    <tr>\n",
       "      <th>2003-01-27</th>\n",
       "      <td>7.07</td>\n",
       "      <td>19.32</td>\n",
       "      <td>26.21</td>\n",
       "    </tr>\n",
       "    <tr>\n",
       "      <th>2003-01-28</th>\n",
       "      <td>7.29</td>\n",
       "      <td>19.18</td>\n",
       "      <td>26.90</td>\n",
       "    </tr>\n",
       "    <tr>\n",
       "      <th>2003-01-29</th>\n",
       "      <td>7.47</td>\n",
       "      <td>19.61</td>\n",
       "      <td>27.88</td>\n",
       "    </tr>\n",
       "    <tr>\n",
       "      <th>2003-01-30</th>\n",
       "      <td>7.16</td>\n",
       "      <td>18.95</td>\n",
       "      <td>27.37</td>\n",
       "    </tr>\n",
       "    <tr>\n",
       "      <th>2003-01-31</th>\n",
       "      <td>7.18</td>\n",
       "      <td>18.65</td>\n",
       "      <td>28.13</td>\n",
       "    </tr>\n",
       "    <tr>\n",
       "      <th>2003-02-03</th>\n",
       "      <td>7.33</td>\n",
       "      <td>19.08</td>\n",
       "      <td>28.52</td>\n",
       "    </tr>\n",
       "    <tr>\n",
       "      <th>2003-02-04</th>\n",
       "      <td>7.30</td>\n",
       "      <td>18.59</td>\n",
       "      <td>28.52</td>\n",
       "    </tr>\n",
       "    <tr>\n",
       "      <th>2003-02-05</th>\n",
       "      <td>7.22</td>\n",
       "      <td>18.45</td>\n",
       "      <td>28.11</td>\n",
       "    </tr>\n",
       "    <tr>\n",
       "      <th>2003-02-06</th>\n",
       "      <td>7.22</td>\n",
       "      <td>18.63</td>\n",
       "      <td>27.87</td>\n",
       "    </tr>\n",
       "    <tr>\n",
       "      <th>2003-02-07</th>\n",
       "      <td>7.07</td>\n",
       "      <td>18.30</td>\n",
       "      <td>27.66</td>\n",
       "    </tr>\n",
       "    <tr>\n",
       "      <th>2003-02-10</th>\n",
       "      <td>7.18</td>\n",
       "      <td>18.62</td>\n",
       "      <td>27.87</td>\n",
       "    </tr>\n",
       "    <tr>\n",
       "      <th>2003-02-11</th>\n",
       "      <td>7.18</td>\n",
       "      <td>18.25</td>\n",
       "      <td>27.67</td>\n",
       "    </tr>\n",
       "    <tr>\n",
       "      <th>2003-02-12</th>\n",
       "      <td>7.20</td>\n",
       "      <td>18.25</td>\n",
       "      <td>27.12</td>\n",
       "    </tr>\n",
       "    <tr>\n",
       "      <th>...</th>\n",
       "      <td>...</td>\n",
       "      <td>...</td>\n",
       "      <td>...</td>\n",
       "    </tr>\n",
       "    <tr>\n",
       "      <th>2011-09-05</th>\n",
       "      <td>374.05</td>\n",
       "      <td>25.80</td>\n",
       "      <td>72.14</td>\n",
       "    </tr>\n",
       "    <tr>\n",
       "      <th>2011-09-06</th>\n",
       "      <td>379.74</td>\n",
       "      <td>25.51</td>\n",
       "      <td>71.15</td>\n",
       "    </tr>\n",
       "    <tr>\n",
       "      <th>2011-09-07</th>\n",
       "      <td>383.93</td>\n",
       "      <td>26.00</td>\n",
       "      <td>73.65</td>\n",
       "    </tr>\n",
       "    <tr>\n",
       "      <th>2011-09-08</th>\n",
       "      <td>384.14</td>\n",
       "      <td>26.22</td>\n",
       "      <td>72.82</td>\n",
       "    </tr>\n",
       "    <tr>\n",
       "      <th>2011-09-09</th>\n",
       "      <td>377.48</td>\n",
       "      <td>25.74</td>\n",
       "      <td>71.01</td>\n",
       "    </tr>\n",
       "    <tr>\n",
       "      <th>2011-09-12</th>\n",
       "      <td>379.94</td>\n",
       "      <td>25.89</td>\n",
       "      <td>71.84</td>\n",
       "    </tr>\n",
       "    <tr>\n",
       "      <th>2011-09-13</th>\n",
       "      <td>384.62</td>\n",
       "      <td>26.04</td>\n",
       "      <td>71.65</td>\n",
       "    </tr>\n",
       "    <tr>\n",
       "      <th>2011-09-14</th>\n",
       "      <td>389.30</td>\n",
       "      <td>26.50</td>\n",
       "      <td>72.64</td>\n",
       "    </tr>\n",
       "    <tr>\n",
       "      <th>2011-09-15</th>\n",
       "      <td>392.96</td>\n",
       "      <td>26.99</td>\n",
       "      <td>74.01</td>\n",
       "    </tr>\n",
       "    <tr>\n",
       "      <th>2011-09-16</th>\n",
       "      <td>400.50</td>\n",
       "      <td>27.12</td>\n",
       "      <td>74.55</td>\n",
       "    </tr>\n",
       "    <tr>\n",
       "      <th>2011-09-19</th>\n",
       "      <td>411.63</td>\n",
       "      <td>27.21</td>\n",
       "      <td>73.70</td>\n",
       "    </tr>\n",
       "    <tr>\n",
       "      <th>2011-09-20</th>\n",
       "      <td>413.45</td>\n",
       "      <td>26.98</td>\n",
       "      <td>74.01</td>\n",
       "    </tr>\n",
       "    <tr>\n",
       "      <th>2011-09-21</th>\n",
       "      <td>412.14</td>\n",
       "      <td>25.99</td>\n",
       "      <td>71.97</td>\n",
       "    </tr>\n",
       "    <tr>\n",
       "      <th>2011-09-22</th>\n",
       "      <td>401.82</td>\n",
       "      <td>25.06</td>\n",
       "      <td>69.24</td>\n",
       "    </tr>\n",
       "    <tr>\n",
       "      <th>2011-09-23</th>\n",
       "      <td>404.30</td>\n",
       "      <td>25.06</td>\n",
       "      <td>69.31</td>\n",
       "    </tr>\n",
       "    <tr>\n",
       "      <th>2011-09-26</th>\n",
       "      <td>403.17</td>\n",
       "      <td>25.44</td>\n",
       "      <td>71.72</td>\n",
       "    </tr>\n",
       "    <tr>\n",
       "      <th>2011-09-27</th>\n",
       "      <td>399.26</td>\n",
       "      <td>25.67</td>\n",
       "      <td>72.91</td>\n",
       "    </tr>\n",
       "    <tr>\n",
       "      <th>2011-09-28</th>\n",
       "      <td>397.01</td>\n",
       "      <td>25.58</td>\n",
       "      <td>72.07</td>\n",
       "    </tr>\n",
       "    <tr>\n",
       "      <th>2011-09-29</th>\n",
       "      <td>390.57</td>\n",
       "      <td>25.45</td>\n",
       "      <td>73.88</td>\n",
       "    </tr>\n",
       "    <tr>\n",
       "      <th>2011-09-30</th>\n",
       "      <td>381.32</td>\n",
       "      <td>24.89</td>\n",
       "      <td>72.63</td>\n",
       "    </tr>\n",
       "    <tr>\n",
       "      <th>2011-10-03</th>\n",
       "      <td>374.60</td>\n",
       "      <td>24.53</td>\n",
       "      <td>71.15</td>\n",
       "    </tr>\n",
       "    <tr>\n",
       "      <th>2011-10-04</th>\n",
       "      <td>372.50</td>\n",
       "      <td>25.34</td>\n",
       "      <td>72.83</td>\n",
       "    </tr>\n",
       "    <tr>\n",
       "      <th>2011-10-05</th>\n",
       "      <td>378.25</td>\n",
       "      <td>25.89</td>\n",
       "      <td>73.95</td>\n",
       "    </tr>\n",
       "    <tr>\n",
       "      <th>2011-10-06</th>\n",
       "      <td>377.37</td>\n",
       "      <td>26.34</td>\n",
       "      <td>73.89</td>\n",
       "    </tr>\n",
       "    <tr>\n",
       "      <th>2011-10-07</th>\n",
       "      <td>369.80</td>\n",
       "      <td>26.25</td>\n",
       "      <td>73.56</td>\n",
       "    </tr>\n",
       "    <tr>\n",
       "      <th>2011-10-10</th>\n",
       "      <td>388.81</td>\n",
       "      <td>26.94</td>\n",
       "      <td>76.28</td>\n",
       "    </tr>\n",
       "    <tr>\n",
       "      <th>2011-10-11</th>\n",
       "      <td>400.29</td>\n",
       "      <td>27.00</td>\n",
       "      <td>76.27</td>\n",
       "    </tr>\n",
       "    <tr>\n",
       "      <th>2011-10-12</th>\n",
       "      <td>402.19</td>\n",
       "      <td>26.96</td>\n",
       "      <td>77.16</td>\n",
       "    </tr>\n",
       "    <tr>\n",
       "      <th>2011-10-13</th>\n",
       "      <td>408.43</td>\n",
       "      <td>27.18</td>\n",
       "      <td>76.37</td>\n",
       "    </tr>\n",
       "    <tr>\n",
       "      <th>2011-10-14</th>\n",
       "      <td>422.00</td>\n",
       "      <td>27.27</td>\n",
       "      <td>78.11</td>\n",
       "    </tr>\n",
       "  </tbody>\n",
       "</table>\n",
       "<p>2292 rows × 3 columns</p>\n",
       "</div>"
      ],
      "text/plain": [
       "              AAPL   MSFT    XOM\n",
       "2003-01-02    7.40  21.11  29.22\n",
       "2003-01-03    7.45  21.14  29.24\n",
       "2003-01-06    7.45  21.52  29.96\n",
       "2003-01-07    7.43  21.93  28.95\n",
       "2003-01-08    7.28  21.31  28.83\n",
       "2003-01-09    7.34  21.93  29.44\n",
       "2003-01-10    7.36  21.97  29.03\n",
       "2003-01-13    7.32  22.16  28.91\n",
       "2003-01-14    7.30  22.39  29.17\n",
       "2003-01-15    7.22  22.11  28.77\n",
       "2003-01-16    7.31  21.75  28.90\n",
       "2003-01-17    7.05  20.22  28.60\n",
       "2003-01-20    7.05  20.22  28.60\n",
       "2003-01-21    7.01  20.17  27.94\n",
       "2003-01-22    6.94  20.04  27.58\n",
       "2003-01-23    7.09  20.54  27.52\n",
       "2003-01-24    6.90  19.59  26.93\n",
       "2003-01-27    7.07  19.32  26.21\n",
       "2003-01-28    7.29  19.18  26.90\n",
       "2003-01-29    7.47  19.61  27.88\n",
       "2003-01-30    7.16  18.95  27.37\n",
       "2003-01-31    7.18  18.65  28.13\n",
       "2003-02-03    7.33  19.08  28.52\n",
       "2003-02-04    7.30  18.59  28.52\n",
       "2003-02-05    7.22  18.45  28.11\n",
       "2003-02-06    7.22  18.63  27.87\n",
       "2003-02-07    7.07  18.30  27.66\n",
       "2003-02-10    7.18  18.62  27.87\n",
       "2003-02-11    7.18  18.25  27.67\n",
       "2003-02-12    7.20  18.25  27.12\n",
       "...            ...    ...    ...\n",
       "2011-09-05  374.05  25.80  72.14\n",
       "2011-09-06  379.74  25.51  71.15\n",
       "2011-09-07  383.93  26.00  73.65\n",
       "2011-09-08  384.14  26.22  72.82\n",
       "2011-09-09  377.48  25.74  71.01\n",
       "2011-09-12  379.94  25.89  71.84\n",
       "2011-09-13  384.62  26.04  71.65\n",
       "2011-09-14  389.30  26.50  72.64\n",
       "2011-09-15  392.96  26.99  74.01\n",
       "2011-09-16  400.50  27.12  74.55\n",
       "2011-09-19  411.63  27.21  73.70\n",
       "2011-09-20  413.45  26.98  74.01\n",
       "2011-09-21  412.14  25.99  71.97\n",
       "2011-09-22  401.82  25.06  69.24\n",
       "2011-09-23  404.30  25.06  69.31\n",
       "2011-09-26  403.17  25.44  71.72\n",
       "2011-09-27  399.26  25.67  72.91\n",
       "2011-09-28  397.01  25.58  72.07\n",
       "2011-09-29  390.57  25.45  73.88\n",
       "2011-09-30  381.32  24.89  72.63\n",
       "2011-10-03  374.60  24.53  71.15\n",
       "2011-10-04  372.50  25.34  72.83\n",
       "2011-10-05  378.25  25.89  73.95\n",
       "2011-10-06  377.37  26.34  73.89\n",
       "2011-10-07  369.80  26.25  73.56\n",
       "2011-10-10  388.81  26.94  76.28\n",
       "2011-10-11  400.29  27.00  76.27\n",
       "2011-10-12  402.19  26.96  77.16\n",
       "2011-10-13  408.43  27.18  76.37\n",
       "2011-10-14  422.00  27.27  78.11\n",
       "\n",
       "[2292 rows x 3 columns]"
      ]
     },
     "execution_count": 128,
     "metadata": {},
     "output_type": "execute_result"
    }
   ],
   "source": [
    "close_px"
   ]
  },
  {
   "cell_type": "code",
   "execution_count": 129,
   "metadata": {},
   "outputs": [
    {
     "data": {
      "text/plain": [
       "<matplotlib.axes._subplots.AxesSubplot at 0xa00d320>"
      ]
     },
     "execution_count": 129,
     "metadata": {},
     "output_type": "execute_result"
    },
    {
     "data": {
      "image/png": "[encoded data removed]",
      "text/plain": [
       "<Figure size 432x288 with 1 Axes>"
      ]
     },
     "metadata": {
      "needs_background": "light"
     },
     "output_type": "display_data"
    }
   ],
   "source": [
    "close_px.AAPL.plot()"
   ]
  },
  {
   "cell_type": "code",
   "execution_count": 130,
   "metadata": {},
   "outputs": [
    {
     "data": {
      "text/plain": [
       "<matplotlib.axes._subplots.AxesSubplot at 0xa7397b8>"
      ]
     },
     "execution_count": 130,
     "metadata": {},
     "output_type": "execute_result"
    },
    {
     "data": {
      "image/png": "[encoded data removed]",
      "text/plain": [
       "<Figure size 432x288 with 1 Axes>"
      ]
     },
     "metadata": {
      "needs_background": "light"
     },
     "output_type": "display_data"
    }
   ],
   "source": [
    "close_px.AAPL.rolling(250).mean().plot()"
   ]
  },
  {
   "cell_type": "code",
   "execution_count": 131,
   "metadata": {},
   "outputs": [],
   "source": [
    "appl_std250 = close_px.AAPL.rolling(250, min_periods=10).std()"
   ]
  },
  {
   "cell_type": "code",
   "execution_count": 132,
   "metadata": {},
   "outputs": [
    {
     "data": {
      "text/plain": [
       "2003-01-09         NaN\n",
       "2003-01-10         NaN\n",
       "2003-01-13         NaN\n",
       "2003-01-14         NaN\n",
       "2003-01-15    0.077496\n",
       "2003-01-16    0.074760\n",
       "2003-01-17    0.112368\n",
       "Freq: B, Name: AAPL, dtype: float64"
      ]
     },
     "execution_count": 132,
     "metadata": {},
     "output_type": "execute_result"
    }
   ],
   "source": [
    "appl_std250[5:12]"
   ]
  },
  {
   "cell_type": "code",
   "execution_count": 133,
   "metadata": {},
   "outputs": [
    {
     "data": {
      "text/plain": [
       "<matplotlib.axes._subplots.AxesSubplot at 0xa7395f8>"
      ]
     },
     "execution_count": 133,
     "metadata": {},
     "output_type": "execute_result"
    },
    {
     "data": {
      "image/png": "[encoded data removed]",
      "text/plain": [
       "<Figure size 432x288 with 1 Axes>"
      ]
     },
     "metadata": {
      "needs_background": "light"
     },
     "output_type": "display_data"
    }
   ],
   "source": [
    "appl_std250.plot()"
   ]
  },
  {
   "cell_type": "code",
   "execution_count": 134,
   "metadata": {},
   "outputs": [],
   "source": [
    "expanding_mean = appl_std250.expanding().mean()"
   ]
  },
  {
   "cell_type": "code",
   "execution_count": 135,
   "metadata": {
    "scrolled": true
   },
   "outputs": [
    {
     "data": {
      "text/plain": [
       "<matplotlib.axes._subplots.AxesSubplot at 0xab18da0>"
      ]
     },
     "execution_count": 135,
     "metadata": {},
     "output_type": "execute_result"
    },
    {
     "data": {
      "image/png": "[encoded data removed]",
      "text/plain": [
       "<Figure size 432x288 with 1 Axes>"
      ]
     },
     "metadata": {
      "needs_background": "light"
     },
     "output_type": "display_data"
    }
   ],
   "source": [
    "close_px.rolling(60).mean().plot(logy=True)"
   ]
  },
  {
   "cell_type": "code",
   "execution_count": 136,
   "metadata": {
    "scrolled": true
   },
   "outputs": [
    {
     "data": {
      "text/html": [
       "<div>\n",
       "<style scoped>\n",
       "    .dataframe tbody tr th:only-of-type {\n",
       "        vertical-align: middle;\n",
       "    }\n",
       "\n",
       "    .dataframe tbody tr th {\n",
       "        vertical-align: top;\n",
       "    }\n",
       "\n",
       "    .dataframe thead th {\n",
       "        text-align: right;\n",
       "    }\n",
       "</style>\n",
       "<table border=\"1\" class=\"dataframe\">\n",
       "  <thead>\n",
       "    <tr style=\"text-align: right;\">\n",
       "      <th></th>\n",
       "      <th>AAPL</th>\n",
       "      <th>MSFT</th>\n",
       "      <th>XOM</th>\n",
       "    </tr>\n",
       "  </thead>\n",
       "  <tbody>\n",
       "    <tr>\n",
       "      <th>2003-01-02</th>\n",
       "      <td>7.400000</td>\n",
       "      <td>21.110000</td>\n",
       "      <td>29.220000</td>\n",
       "    </tr>\n",
       "    <tr>\n",
       "      <th>2003-01-03</th>\n",
       "      <td>7.425000</td>\n",
       "      <td>21.125000</td>\n",
       "      <td>29.230000</td>\n",
       "    </tr>\n",
       "    <tr>\n",
       "      <th>2003-01-06</th>\n",
       "      <td>7.433333</td>\n",
       "      <td>21.256667</td>\n",
       "      <td>29.473333</td>\n",
       "    </tr>\n",
       "    <tr>\n",
       "      <th>2003-01-07</th>\n",
       "      <td>7.432500</td>\n",
       "      <td>21.425000</td>\n",
       "      <td>29.342500</td>\n",
       "    </tr>\n",
       "    <tr>\n",
       "      <th>2003-01-08</th>\n",
       "      <td>7.402000</td>\n",
       "      <td>21.402000</td>\n",
       "      <td>29.240000</td>\n",
       "    </tr>\n",
       "    <tr>\n",
       "      <th>2003-01-09</th>\n",
       "      <td>7.391667</td>\n",
       "      <td>21.490000</td>\n",
       "      <td>29.273333</td>\n",
       "    </tr>\n",
       "    <tr>\n",
       "      <th>2003-01-10</th>\n",
       "      <td>7.387143</td>\n",
       "      <td>21.558571</td>\n",
       "      <td>29.238571</td>\n",
       "    </tr>\n",
       "    <tr>\n",
       "      <th>2003-01-13</th>\n",
       "      <td>7.378750</td>\n",
       "      <td>21.633750</td>\n",
       "      <td>29.197500</td>\n",
       "    </tr>\n",
       "    <tr>\n",
       "      <th>2003-01-14</th>\n",
       "      <td>7.370000</td>\n",
       "      <td>21.717778</td>\n",
       "      <td>29.194444</td>\n",
       "    </tr>\n",
       "    <tr>\n",
       "      <th>2003-01-15</th>\n",
       "      <td>7.355000</td>\n",
       "      <td>21.757000</td>\n",
       "      <td>29.152000</td>\n",
       "    </tr>\n",
       "    <tr>\n",
       "      <th>2003-01-16</th>\n",
       "      <td>7.350909</td>\n",
       "      <td>21.756364</td>\n",
       "      <td>29.129091</td>\n",
       "    </tr>\n",
       "    <tr>\n",
       "      <th>2003-01-17</th>\n",
       "      <td>7.325833</td>\n",
       "      <td>21.628333</td>\n",
       "      <td>29.085000</td>\n",
       "    </tr>\n",
       "    <tr>\n",
       "      <th>2003-01-20</th>\n",
       "      <td>7.304615</td>\n",
       "      <td>21.520000</td>\n",
       "      <td>29.047692</td>\n",
       "    </tr>\n",
       "    <tr>\n",
       "      <th>2003-01-21</th>\n",
       "      <td>7.283571</td>\n",
       "      <td>21.423571</td>\n",
       "      <td>28.968571</td>\n",
       "    </tr>\n",
       "    <tr>\n",
       "      <th>2003-01-22</th>\n",
       "      <td>7.250714</td>\n",
       "      <td>21.347143</td>\n",
       "      <td>28.851429</td>\n",
       "    </tr>\n",
       "    <tr>\n",
       "      <th>2003-01-23</th>\n",
       "      <td>7.225000</td>\n",
       "      <td>21.304286</td>\n",
       "      <td>28.728571</td>\n",
       "    </tr>\n",
       "    <tr>\n",
       "      <th>2003-01-24</th>\n",
       "      <td>7.203333</td>\n",
       "      <td>21.190000</td>\n",
       "      <td>28.608667</td>\n",
       "    </tr>\n",
       "    <tr>\n",
       "      <th>2003-01-27</th>\n",
       "      <td>7.160000</td>\n",
       "      <td>20.980000</td>\n",
       "      <td>28.316429</td>\n",
       "    </tr>\n",
       "    <tr>\n",
       "      <th>2003-01-28</th>\n",
       "      <td>7.160714</td>\n",
       "      <td>20.827857</td>\n",
       "      <td>28.178571</td>\n",
       "    </tr>\n",
       "    <tr>\n",
       "      <th>2003-01-29</th>\n",
       "      <td>7.170000</td>\n",
       "      <td>20.662143</td>\n",
       "      <td>28.067143</td>\n",
       "    </tr>\n",
       "    <tr>\n",
       "      <th>2003-01-30</th>\n",
       "      <td>7.155714</td>\n",
       "      <td>20.446429</td>\n",
       "      <td>27.948571</td>\n",
       "    </tr>\n",
       "    <tr>\n",
       "      <th>2003-01-31</th>\n",
       "      <td>7.157333</td>\n",
       "      <td>20.326667</td>\n",
       "      <td>27.960667</td>\n",
       "    </tr>\n",
       "    <tr>\n",
       "      <th>2003-02-03</th>\n",
       "      <td>7.147857</td>\n",
       "      <td>19.959286</td>\n",
       "      <td>27.846429</td>\n",
       "    </tr>\n",
       "    <tr>\n",
       "      <th>2003-02-04</th>\n",
       "      <td>7.153571</td>\n",
       "      <td>19.707857</td>\n",
       "      <td>27.828571</td>\n",
       "    </tr>\n",
       "    <tr>\n",
       "      <th>2003-02-05</th>\n",
       "      <td>7.147143</td>\n",
       "      <td>19.472143</td>\n",
       "      <td>27.772143</td>\n",
       "    </tr>\n",
       "    <tr>\n",
       "      <th>2003-02-06</th>\n",
       "      <td>7.159286</td>\n",
       "      <td>19.358571</td>\n",
       "      <td>27.720000</td>\n",
       "    </tr>\n",
       "    <tr>\n",
       "      <th>2003-02-07</th>\n",
       "      <td>7.153333</td>\n",
       "      <td>19.288000</td>\n",
       "      <td>27.716000</td>\n",
       "    </tr>\n",
       "    <tr>\n",
       "      <th>2003-02-10</th>\n",
       "      <td>7.172857</td>\n",
       "      <td>19.110714</td>\n",
       "      <td>27.647857</td>\n",
       "    </tr>\n",
       "    <tr>\n",
       "      <th>2003-02-11</th>\n",
       "      <td>7.190000</td>\n",
       "      <td>18.982857</td>\n",
       "      <td>27.654286</td>\n",
       "    </tr>\n",
       "    <tr>\n",
       "      <th>2003-02-12</th>\n",
       "      <td>7.197857</td>\n",
       "      <td>18.819286</td>\n",
       "      <td>27.625714</td>\n",
       "    </tr>\n",
       "    <tr>\n",
       "      <th>...</th>\n",
       "      <td>...</td>\n",
       "      <td>...</td>\n",
       "      <td>...</td>\n",
       "    </tr>\n",
       "    <tr>\n",
       "      <th>2011-09-05</th>\n",
       "      <td>375.711429</td>\n",
       "      <td>25.276429</td>\n",
       "      <td>72.607857</td>\n",
       "    </tr>\n",
       "    <tr>\n",
       "      <th>2011-09-06</th>\n",
       "      <td>375.661429</td>\n",
       "      <td>25.295000</td>\n",
       "      <td>72.392857</td>\n",
       "    </tr>\n",
       "    <tr>\n",
       "      <th>2011-09-07</th>\n",
       "      <td>376.938571</td>\n",
       "      <td>25.390000</td>\n",
       "      <td>72.586429</td>\n",
       "    </tr>\n",
       "    <tr>\n",
       "      <th>2011-09-08</th>\n",
       "      <td>378.946429</td>\n",
       "      <td>25.545000</td>\n",
       "      <td>72.802143</td>\n",
       "    </tr>\n",
       "    <tr>\n",
       "      <th>2011-09-09</th>\n",
       "      <td>378.848667</td>\n",
       "      <td>25.558000</td>\n",
       "      <td>72.682667</td>\n",
       "    </tr>\n",
       "    <tr>\n",
       "      <th>2011-09-12</th>\n",
       "      <td>380.902143</td>\n",
       "      <td>25.754286</td>\n",
       "      <td>72.731429</td>\n",
       "    </tr>\n",
       "    <tr>\n",
       "      <th>2011-09-13</th>\n",
       "      <td>381.505000</td>\n",
       "      <td>25.835714</td>\n",
       "      <td>72.596429</td>\n",
       "    </tr>\n",
       "    <tr>\n",
       "      <th>2011-09-14</th>\n",
       "      <td>382.617857</td>\n",
       "      <td>25.973571</td>\n",
       "      <td>72.658571</td>\n",
       "    </tr>\n",
       "    <tr>\n",
       "      <th>2011-09-15</th>\n",
       "      <td>383.287857</td>\n",
       "      <td>26.097857</td>\n",
       "      <td>72.756429</td>\n",
       "    </tr>\n",
       "    <tr>\n",
       "      <th>2011-09-16</th>\n",
       "      <td>384.435333</td>\n",
       "      <td>26.166000</td>\n",
       "      <td>72.876000</td>\n",
       "    </tr>\n",
       "    <tr>\n",
       "      <th>2011-09-19</th>\n",
       "      <td>385.585714</td>\n",
       "      <td>26.259286</td>\n",
       "      <td>72.772143</td>\n",
       "    </tr>\n",
       "    <tr>\n",
       "      <th>2011-09-20</th>\n",
       "      <td>387.630000</td>\n",
       "      <td>26.286429</td>\n",
       "      <td>72.771429</td>\n",
       "    </tr>\n",
       "    <tr>\n",
       "      <th>2011-09-21</th>\n",
       "      <td>389.852143</td>\n",
       "      <td>26.270714</td>\n",
       "      <td>72.662857</td>\n",
       "    </tr>\n",
       "    <tr>\n",
       "      <th>2011-09-22</th>\n",
       "      <td>391.835714</td>\n",
       "      <td>26.217857</td>\n",
       "      <td>72.455714</td>\n",
       "    </tr>\n",
       "    <tr>\n",
       "      <th>2011-09-23</th>\n",
       "      <td>392.666667</td>\n",
       "      <td>26.140667</td>\n",
       "      <td>72.246000</td>\n",
       "    </tr>\n",
       "    <tr>\n",
       "      <th>2011-09-26</th>\n",
       "      <td>395.670000</td>\n",
       "      <td>26.160000</td>\n",
       "      <td>72.294286</td>\n",
       "    </tr>\n",
       "    <tr>\n",
       "      <th>2011-09-27</th>\n",
       "      <td>396.765000</td>\n",
       "      <td>26.136429</td>\n",
       "      <td>72.241429</td>\n",
       "    </tr>\n",
       "    <tr>\n",
       "      <th>2011-09-28</th>\n",
       "      <td>397.684286</td>\n",
       "      <td>26.090714</td>\n",
       "      <td>72.187857</td>\n",
       "    </tr>\n",
       "    <tr>\n",
       "      <th>2011-09-29</th>\n",
       "      <td>398.619286</td>\n",
       "      <td>26.070000</td>\n",
       "      <td>72.392857</td>\n",
       "    </tr>\n",
       "    <tr>\n",
       "      <th>2011-09-30</th>\n",
       "      <td>397.466000</td>\n",
       "      <td>25.991333</td>\n",
       "      <td>72.408667</td>\n",
       "    </tr>\n",
       "    <tr>\n",
       "      <th>2011-10-03</th>\n",
       "      <td>398.002143</td>\n",
       "      <td>25.890714</td>\n",
       "      <td>72.413571</td>\n",
       "    </tr>\n",
       "    <tr>\n",
       "      <th>2011-10-04</th>\n",
       "      <td>396.802143</td>\n",
       "      <td>25.807857</td>\n",
       "      <td>72.427143</td>\n",
       "    </tr>\n",
       "    <tr>\n",
       "      <th>2011-10-05</th>\n",
       "      <td>395.751429</td>\n",
       "      <td>25.729286</td>\n",
       "      <td>72.422857</td>\n",
       "    </tr>\n",
       "    <tr>\n",
       "      <th>2011-10-06</th>\n",
       "      <td>394.099286</td>\n",
       "      <td>25.673571</td>\n",
       "      <td>72.375714</td>\n",
       "    </tr>\n",
       "    <tr>\n",
       "      <th>2011-10-07</th>\n",
       "      <td>392.479333</td>\n",
       "      <td>25.712000</td>\n",
       "      <td>72.454667</td>\n",
       "    </tr>\n",
       "    <tr>\n",
       "      <th>2011-10-10</th>\n",
       "      <td>389.351429</td>\n",
       "      <td>25.602143</td>\n",
       "      <td>72.527857</td>\n",
       "    </tr>\n",
       "    <tr>\n",
       "      <th>2011-10-11</th>\n",
       "      <td>388.505000</td>\n",
       "      <td>25.674286</td>\n",
       "      <td>72.835000</td>\n",
       "    </tr>\n",
       "    <tr>\n",
       "      <th>2011-10-12</th>\n",
       "      <td>388.531429</td>\n",
       "      <td>25.810000</td>\n",
       "      <td>73.400714</td>\n",
       "    </tr>\n",
       "    <tr>\n",
       "      <th>2011-10-13</th>\n",
       "      <td>388.826429</td>\n",
       "      <td>25.961429</td>\n",
       "      <td>73.905000</td>\n",
       "    </tr>\n",
       "    <tr>\n",
       "      <th>2011-10-14</th>\n",
       "      <td>391.038000</td>\n",
       "      <td>26.048667</td>\n",
       "      <td>74.185333</td>\n",
       "    </tr>\n",
       "  </tbody>\n",
       "</table>\n",
       "<p>2292 rows × 3 columns</p>\n",
       "</div>"
      ],
      "text/plain": [
       "                  AAPL       MSFT        XOM\n",
       "2003-01-02    7.400000  21.110000  29.220000\n",
       "2003-01-03    7.425000  21.125000  29.230000\n",
       "2003-01-06    7.433333  21.256667  29.473333\n",
       "2003-01-07    7.432500  21.425000  29.342500\n",
       "2003-01-08    7.402000  21.402000  29.240000\n",
       "2003-01-09    7.391667  21.490000  29.273333\n",
       "2003-01-10    7.387143  21.558571  29.238571\n",
       "2003-01-13    7.378750  21.633750  29.197500\n",
       "2003-01-14    7.370000  21.717778  29.194444\n",
       "2003-01-15    7.355000  21.757000  29.152000\n",
       "2003-01-16    7.350909  21.756364  29.129091\n",
       "2003-01-17    7.325833  21.628333  29.085000\n",
       "2003-01-20    7.304615  21.520000  29.047692\n",
       "2003-01-21    7.283571  21.423571  28.968571\n",
       "2003-01-22    7.250714  21.347143  28.851429\n",
       "2003-01-23    7.225000  21.304286  28.728571\n",
       "2003-01-24    7.203333  21.190000  28.608667\n",
       "2003-01-27    7.160000  20.980000  28.316429\n",
       "2003-01-28    7.160714  20.827857  28.178571\n",
       "2003-01-29    7.170000  20.662143  28.067143\n",
       "2003-01-30    7.155714  20.446429  27.948571\n",
       "2003-01-31    7.157333  20.326667  27.960667\n",
       "2003-02-03    7.147857  19.959286  27.846429\n",
       "2003-02-04    7.153571  19.707857  27.828571\n",
       "2003-02-05    7.147143  19.472143  27.772143\n",
       "2003-02-06    7.159286  19.358571  27.720000\n",
       "2003-02-07    7.153333  19.288000  27.716000\n",
       "2003-02-10    7.172857  19.110714  27.647857\n",
       "2003-02-11    7.190000  18.982857  27.654286\n",
       "2003-02-12    7.197857  18.819286  27.625714\n",
       "...                ...        ...        ...\n",
       "2011-09-05  375.711429  25.276429  72.607857\n",
       "2011-09-06  375.661429  25.295000  72.392857\n",
       "2011-09-07  376.938571  25.390000  72.586429\n",
       "2011-09-08  378.946429  25.545000  72.802143\n",
       "2011-09-09  378.848667  25.558000  72.682667\n",
       "2011-09-12  380.902143  25.754286  72.731429\n",
       "2011-09-13  381.505000  25.835714  72.596429\n",
       "2011-09-14  382.617857  25.973571  72.658571\n",
       "2011-09-15  383.287857  26.097857  72.756429\n",
       "2011-09-16  384.435333  26.166000  72.876000\n",
       "2011-09-19  385.585714  26.259286  72.772143\n",
       "2011-09-20  387.630000  26.286429  72.771429\n",
       "2011-09-21  389.852143  26.270714  72.662857\n",
       "2011-09-22  391.835714  26.217857  72.455714\n",
       "2011-09-23  392.666667  26.140667  72.246000\n",
       "2011-09-26  395.670000  26.160000  72.294286\n",
       "2011-09-27  396.765000  26.136429  72.241429\n",
       "2011-09-28  397.684286  26.090714  72.187857\n",
       "2011-09-29  398.619286  26.070000  72.392857\n",
       "2011-09-30  397.466000  25.991333  72.408667\n",
       "2011-10-03  398.002143  25.890714  72.413571\n",
       "2011-10-04  396.802143  25.807857  72.427143\n",
       "2011-10-05  395.751429  25.729286  72.422857\n",
       "2011-10-06  394.099286  25.673571  72.375714\n",
       "2011-10-07  392.479333  25.712000  72.454667\n",
       "2011-10-10  389.351429  25.602143  72.527857\n",
       "2011-10-11  388.505000  25.674286  72.835000\n",
       "2011-10-12  388.531429  25.810000  73.400714\n",
       "2011-10-13  388.826429  25.961429  73.905000\n",
       "2011-10-14  391.038000  26.048667  74.185333\n",
       "\n",
       "[2292 rows x 3 columns]"
      ]
     },
     "execution_count": 136,
     "metadata": {},
     "output_type": "execute_result"
    }
   ],
   "source": [
    "close_px.rolling('20D').mean()"
   ]
  },
  {
   "cell_type": "markdown",
   "metadata": {},
   "source": [
    "### 11.7.1指数加权函数"
   ]
  },
  {
   "cell_type": "code",
   "execution_count": 137,
   "metadata": {},
   "outputs": [],
   "source": [
    "appl_px = close_px.AAPL['2006': '2007']"
   ]
  },
  {
   "cell_type": "code",
   "execution_count": 138,
   "metadata": {},
   "outputs": [],
   "source": [
    "ma60 = appl_px.rolling(30, min_periods=20).mean()"
   ]
  },
  {
   "cell_type": "code",
   "execution_count": 140,
   "metadata": {
    "scrolled": true
   },
   "outputs": [],
   "source": [
    "ewma60 = appl_px.ewm(span=30).mean()"
   ]
  },
  {
   "cell_type": "code",
   "execution_count": 146,
   "metadata": {},
   "outputs": [
    {
     "data": {
      "application/javascript": [
       "/* Put everything inside the global mpl namespace */\n",
       "window.mpl = {};\n",
       "\n",
       "\n",
       "mpl.get_websocket_type = function() {\n",
       "    if (typeof(WebSocket) !== 'undefined') {\n",
       "        return WebSocket;\n",
       "    } else if (typeof(MozWebSocket) !== 'undefined') {\n",
       "        return MozWebSocket;\n",
       "    } else {\n",
       "        alert('Your browser does not have WebSocket support.' +\n",
       "              'Please try Chrome, Safari or Firefox ≥ 6. ' +\n",
       "              'Firefox 4 and 5 are also supported but you ' +\n",
       "              'have to enable WebSockets in about:config.');\n",
       "    };\n",
       "}\n",
       "\n",
       "mpl.figure = function(figure_id, websocket, ondownload, parent_element) {\n",
       "    this.id = figure_id;\n",
       "\n",
       "    this.ws = websocket;\n",
       "\n",
       "    this.supports_binary = (this.ws.binaryType != undefined);\n",
       "\n",
       "    if (!this.supports_binary) {\n",
       "        var warnings = document.getElementById(\"mpl-warnings\");\n",
       "        if (warnings) {\n",
       "            warnings.style.display = 'block';\n",
       "            warnings.textContent = (\n",
       "                \"This browser does not support binary websocket messages. \" +\n",
       "                    \"Performance may be slow.\");\n",
       "        }\n",
       "    }\n",
       "\n",
       "    this.imageObj = new Image();\n",
       "\n",
       "    this.context = undefined;\n",
       "    this.message = undefined;\n",
       "    this.canvas = undefined;\n",
       "    this.rubberband_canvas = undefined;\n",
       "    this.rubberband_context = undefined;\n",
       "    this.format_dropdown = undefined;\n",
       "\n",
       "    this.image_mode = 'full';\n",
       "\n",
       "    this.root = $('<div/>');\n",
       "    this._root_extra_style(this.root)\n",
       "    this.root.attr('style', 'display: inline-block');\n",
       "\n",
       "    $(parent_element).append(this.root);\n",
       "\n",
       "    this._init_header(this);\n",
       "    this._init_canvas(this);\n",
       "    this._init_toolbar(this);\n",
       "\n",
       "    var fig = this;\n",
       "\n",
       "    this.waiting = false;\n",
       "\n",
       "    this.ws.onopen =  function () {\n",
       "            fig.send_message(\"supports_binary\", {value: fig.supports_binary});\n",
       "            fig.send_message(\"send_image_mode\", {});\n",
       "            if (mpl.ratio != 1) {\n",
       "                fig.send_message(\"set_dpi_ratio\", {'dpi_ratio': mpl.ratio});\n",
       "            }\n",
       "            fig.send_message(\"refresh\", {});\n",
       "        }\n",
       "\n",
       "    this.imageObj.onload = function() {\n",
       "            if (fig.image_mode == 'full') {\n",
       "                // Full images could contain transparency (where diff images\n",
       "                // almost always do), so we need to clear the canvas so that\n",
       "                // there is no ghosting.\n",
       "                fig.context.clearRect(0, 0, fig.canvas.width, fig.canvas.height);\n",
       "            }\n",
       "            fig.context.drawImage(fig.imageObj, 0, 0);\n",
       "        };\n",
       "\n",
       "    this.imageObj.onunload = function() {\n",
       "        fig.ws.close();\n",
       "    }\n",
       "\n",
       "    this.ws.onmessage = this._make_on_message_function(this);\n",
       "\n",
       "    this.ondownload = ondownload;\n",
       "}\n",
       "\n",
       "mpl.figure.prototype._init_header = function() {\n",
       "    var titlebar = $(\n",
       "        '<div class=\"ui-dialog-titlebar ui-widget-header ui-corner-all ' +\n",
       "        'ui-helper-clearfix\"/>');\n",
       "    var titletext = $(\n",
       "        '<div class=\"ui-dialog-title\" style=\"width: 100%; ' +\n",
       "        'text-align: center; padding: 3px;\"/>');\n",
       "    titlebar.append(titletext)\n",
       "    this.root.append(titlebar);\n",
       "    this.header = titletext[0];\n",
       "}\n",
       "\n",
       "\n",
       "\n",
       "mpl.figure.prototype._canvas_extra_style = function(canvas_div) {\n",
       "\n",
       "}\n",
       "\n",
       "\n",
       "mpl.figure.prototype._root_extra_style = function(canvas_div) {\n",
       "\n",
       "}\n",
       "\n",
       "mpl.figure.prototype._init_canvas = function() {\n",
       "    var fig = this;\n",
       "\n",
       "    var canvas_div = $('<div/>');\n",
       "\n",
       "    canvas_div.attr('style', 'position: relative; clear: both; outline: 0');\n",
       "\n",
       "    function canvas_keyboard_event(event) {\n",
       "        return fig.key_event(event, event['data']);\n",
       "    }\n",
       "\n",
       "    canvas_div.keydown('key_press', canvas_keyboard_event);\n",
       "    canvas_div.keyup('key_release', canvas_keyboard_event);\n",
       "    this.canvas_div = canvas_div\n",
       "    this._canvas_extra_style(canvas_div)\n",
       "    this.root.append(canvas_div);\n",
       "\n",
       "    var canvas = $('<canvas/>');\n",
       "    canvas.addClass('mpl-canvas');\n",
       "    canvas.attr('style', \"left: 0; top: 0; z-index: 0; outline: 0\")\n",
       "\n",
       "    this.canvas = canvas[0];\n",
       "    this.context = canvas[0].getContext(\"2d\");\n",
       "\n",
       "    var backingStore = this.context.backingStorePixelRatio ||\n",
       "\tthis.context.webkitBackingStorePixelRatio ||\n",
       "\tthis.context.mozBackingStorePixelRatio ||\n",
       "\tthis.context.msBackingStorePixelRatio ||\n",
       "\tthis.context.oBackingStorePixelRatio ||\n",
       "\tthis.context.backingStorePixelRatio || 1;\n",
       "\n",
       "    mpl.ratio = (window.devicePixelRatio || 1) / backingStore;\n",
       "\n",
       "    var rubberband = $('<canvas/>');\n",
       "    rubberband.attr('style', \"position: absolute; left: 0; top: 0; z-index: 1;\")\n",
       "\n",
       "    var pass_mouse_events = true;\n",
       "\n",
       "    canvas_div.resizable({\n",
       "        start: function(event, ui) {\n",
       "            pass_mouse_events = false;\n",
       "        },\n",
       "        resize: function(event, ui) {\n",
       "            fig.request_resize(ui.size.width, ui.size.height);\n",
       "        },\n",
       "        stop: function(event, ui) {\n",
       "            pass_mouse_events = true;\n",
       "            fig.request_resize(ui.size.width, ui.size.height);\n",
       "        },\n",
       "    });\n",
       "\n",
       "    function mouse_event_fn(event) {\n",
       "        if (pass_mouse_events)\n",
       "            return fig.mouse_event(event, event['data']);\n",
       "    }\n",
       "\n",
       "    rubberband.mousedown('button_press', mouse_event_fn);\n",
       "    rubberband.mouseup('button_release', mouse_event_fn);\n",
       "    // Throttle sequential mouse events to 1 every 20ms.\n",
       "    rubberband.mousemove('motion_notify', mouse_event_fn);\n",
       "\n",
       "    rubberband.mouseenter('figure_enter', mouse_event_fn);\n",
       "    rubberband.mouseleave('figure_leave', mouse_event_fn);\n",
       "\n",
       "    canvas_div.on(\"wheel\", function (event) {\n",
       "        event = event.originalEvent;\n",
       "        event['data'] = 'scroll'\n",
       "        if (event.deltaY < 0) {\n",
       "            event.step = 1;\n",
       "        } else {\n",
       "            event.step = -1;\n",
       "        }\n",
       "        mouse_event_fn(event);\n",
       "    });\n",
       "\n",
       "    canvas_div.append(canvas);\n",
       "    canvas_div.append(rubberband);\n",
       "\n",
       "    this.rubberband = rubberband;\n",
       "    this.rubberband_canvas = rubberband[0];\n",
       "    this.rubberband_context = rubberband[0].getContext(\"2d\");\n",
       "    this.rubberband_context.strokeStyle = \"#000000\";\n",
       "\n",
       "    this._resize_canvas = function(width, height) {\n",
       "        // Keep the size of the canvas, canvas container, and rubber band\n",
       "        // canvas in synch.\n",
       "        canvas_div.css('width', width)\n",
       "        canvas_div.css('height', height)\n",
       "\n",
       "        canvas.attr('width', width * mpl.ratio);\n",
       "        canvas.attr('height', height * mpl.ratio);\n",
       "        canvas.attr('style', 'width: ' + width + 'px; height: ' + height + 'px;');\n",
       "\n",
       "        rubberband.attr('width', width);\n",
       "        rubberband.attr('height', height);\n",
       "    }\n",
       "\n",
       "    // Set the figure to an initial 600x600px, this will subsequently be updated\n",
       "    // upon first draw.\n",
       "    this._resize_canvas(600, 600);\n",
       "\n",
       "    // Disable right mouse context menu.\n",
       "    $(this.rubberband_canvas).bind(\"contextmenu\",function(e){\n",
       "        return false;\n",
       "    });\n",
       "\n",
       "    function set_focus () {\n",
       "        canvas.focus();\n",
       "        canvas_div.focus();\n",
       "    }\n",
       "\n",
       "    window.setTimeout(set_focus, 100);\n",
       "}\n",
       "\n",
       "mpl.figure.prototype._init_toolbar = function() {\n",
       "    var fig = this;\n",
       "\n",
       "    var nav_element = $('<div/>')\n",
       "    nav_element.attr('style', 'width: 100%');\n",
       "    this.root.append(nav_element);\n",
       "\n",
       "    // Define a callback function for later on.\n",
       "    function toolbar_event(event) {\n",
       "        return fig.toolbar_button_onclick(event['data']);\n",
       "    }\n",
       "    function toolbar_mouse_event(event) {\n",
       "        return fig.toolbar_button_onmouseover(event['data']);\n",
       "    }\n",
       "\n",
       "    for(var toolbar_ind in mpl.toolbar_items) {\n",
       "        var name = mpl.toolbar_items[toolbar_ind][0];\n",
       "        var tooltip = mpl.toolbar_items[toolbar_ind][1];\n",
       "        var image = mpl.toolbar_items[toolbar_ind][2];\n",
       "        var method_name = mpl.toolbar_items[toolbar_ind][3];\n",
       "\n",
       "        if (!name) {\n",
       "            // put a spacer in here.\n",
       "            continue;\n",
       "        }\n",
       "        var button = $('<button/>');\n",
       "        button.addClass('ui-button ui-widget ui-state-default ui-corner-all ' +\n",
       "                        'ui-button-icon-only');\n",
       "        button.attr('role', 'button');\n",
       "        button.attr('aria-disabled', 'false');\n",
       "        button.click(method_name, toolbar_event);\n",
       "        button.mouseover(tooltip, toolbar_mouse_event);\n",
       "\n",
       "        var icon_img = $('<span/>');\n",
       "        icon_img.addClass('ui-button-icon-primary ui-icon');\n",
       "        icon_img.addClass(image);\n",
       "        icon_img.addClass('ui-corner-all');\n",
       "\n",
       "        var tooltip_span = $('<span/>');\n",
       "        tooltip_span.addClass('ui-button-text');\n",
       "        tooltip_span.html(tooltip);\n",
       "\n",
       "        button.append(icon_img);\n",
       "        button.append(tooltip_span);\n",
       "\n",
       "        nav_element.append(button);\n",
       "    }\n",
       "\n",
       "    var fmt_picker_span = $('<span/>');\n",
       "\n",
       "    var fmt_picker = $('<select/>');\n",
       "    fmt_picker.addClass('mpl-toolbar-option ui-widget ui-widget-content');\n",
       "    fmt_picker_span.append(fmt_picker);\n",
       "    nav_element.append(fmt_picker_span);\n",
       "    this.format_dropdown = fmt_picker[0];\n",
       "\n",
       "    for (var ind in mpl.extensions) {\n",
       "        var fmt = mpl.extensions[ind];\n",
       "        var option = $(\n",
       "            '<option/>', {selected: fmt === mpl.default_extension}).html(fmt);\n",
       "        fmt_picker.append(option)\n",
       "    }\n",
       "\n",
       "    // Add hover states to the ui-buttons\n",
       "    $( \".ui-button\" ).hover(\n",
       "        function() { $(this).addClass(\"ui-state-hover\");},\n",
       "        function() { $(this).removeClass(\"ui-state-hover\");}\n",
       "    );\n",
       "\n",
       "    var status_bar = $('<span class=\"mpl-message\"/>');\n",
       "    nav_element.append(status_bar);\n",
       "    this.message = status_bar[0];\n",
       "}\n",
       "\n",
       "mpl.figure.prototype.request_resize = function(x_pixels, y_pixels) {\n",
       "    // Request matplotlib to resize the figure. Matplotlib will then trigger a resize in the client,\n",
       "    // which will in turn request a refresh of the image.\n",
       "    this.send_message('resize', {'width': x_pixels, 'height': y_pixels});\n",
       "}\n",
       "\n",
       "mpl.figure.prototype.send_message = function(type, properties) {\n",
       "    properties['type'] = type;\n",
       "    properties['figure_id'] = this.id;\n",
       "    this.ws.send(JSON.stringify(properties));\n",
       "}\n",
       "\n",
       "mpl.figure.prototype.send_draw_message = function() {\n",
       "    if (!this.waiting) {\n",
       "        this.waiting = true;\n",
       "        this.ws.send(JSON.stringify({type: \"draw\", figure_id: this.id}));\n",
       "    }\n",
       "}\n",
       "\n",
       "\n",
       "mpl.figure.prototype.handle_save = function(fig, msg) {\n",
       "    var format_dropdown = fig.format_dropdown;\n",
       "    var format = format_dropdown.options[format_dropdown.selectedIndex].value;\n",
       "    fig.ondownload(fig, format);\n",
       "}\n",
       "\n",
       "\n",
       "mpl.figure.prototype.handle_resize = function(fig, msg) {\n",
       "    var size = msg['size'];\n",
       "    if (size[0] != fig.canvas.width || size[1] != fig.canvas.height) {\n",
       "        fig._resize_canvas(size[0], size[1]);\n",
       "        fig.send_message(\"refresh\", {});\n",
       "    };\n",
       "}\n",
       "\n",
       "mpl.figure.prototype.handle_rubberband = function(fig, msg) {\n",
       "    var x0 = msg['x0'] / mpl.ratio;\n",
       "    var y0 = (fig.canvas.height - msg['y0']) / mpl.ratio;\n",
       "    var x1 = msg['x1'] / mpl.ratio;\n",
       "    var y1 = (fig.canvas.height - msg['y1']) / mpl.ratio;\n",
       "    x0 = Math.floor(x0) + 0.5;\n",
       "    y0 = Math.floor(y0) + 0.5;\n",
       "    x1 = Math.floor(x1) + 0.5;\n",
       "    y1 = Math.floor(y1) + 0.5;\n",
       "    var min_x = Math.min(x0, x1);\n",
       "    var min_y = Math.min(y0, y1);\n",
       "    var width = Math.abs(x1 - x0);\n",
       "    var height = Math.abs(y1 - y0);\n",
       "\n",
       "    fig.rubberband_context.clearRect(\n",
       "        0, 0, fig.canvas.width, fig.canvas.height);\n",
       "\n",
       "    fig.rubberband_context.strokeRect(min_x, min_y, width, height);\n",
       "}\n",
       "\n",
       "mpl.figure.prototype.handle_figure_label = function(fig, msg) {\n",
       "    // Updates the figure title.\n",
       "    fig.header.textContent = msg['label'];\n",
       "}\n",
       "\n",
       "mpl.figure.prototype.handle_cursor = function(fig, msg) {\n",
       "    var cursor = msg['cursor'];\n",
       "    switch(cursor)\n",
       "    {\n",
       "    case 0:\n",
       "        cursor = 'pointer';\n",
       "        break;\n",
       "    case 1:\n",
       "        cursor = 'default';\n",
       "        break;\n",
       "    case 2:\n",
       "        cursor = 'crosshair';\n",
       "        break;\n",
       "    case 3:\n",
       "        cursor = 'move';\n",
       "        break;\n",
       "    }\n",
       "    fig.rubberband_canvas.style.cursor = cursor;\n",
       "}\n",
       "\n",
       "mpl.figure.prototype.handle_message = function(fig, msg) {\n",
       "    fig.message.textContent = msg['message'];\n",
       "}\n",
       "\n",
       "mpl.figure.prototype.handle_draw = function(fig, msg) {\n",
       "    // Request the server to send over a new figure.\n",
       "    fig.send_draw_message();\n",
       "}\n",
       "\n",
       "mpl.figure.prototype.handle_image_mode = function(fig, msg) {\n",
       "    fig.image_mode = msg['mode'];\n",
       "}\n",
       "\n",
       "mpl.figure.prototype.updated_canvas_event = function() {\n",
       "    // Called whenever the canvas gets updated.\n",
       "    this.send_message(\"ack\", {});\n",
       "}\n",
       "\n",
       "// A function to construct a web socket function for onmessage handling.\n",
       "// Called in the figure constructor.\n",
       "mpl.figure.prototype._make_on_message_function = function(fig) {\n",
       "    return function socket_on_message(evt) {\n",
       "        if (evt.data instanceof Blob) {\n",
       "            /* FIXME: We get \"Resource interpreted as Image but\n",
       "             * transferred with MIME type text/plain:\" errors on\n",
       "             * Chrome.  But how to set the MIME type?  It doesn't seem\n",
       "             * to be part of the websocket stream */\n",
       "            evt.data.type = \"image/png\";\n",
       "\n",
       "            /* Free the memory for the previous frames */\n",
       "            if (fig.imageObj.src) {\n",
       "                (window.URL || window.webkitURL).revokeObjectURL(\n",
       "                    fig.imageObj.src);\n",
       "            }\n",
       "\n",
       "            fig.imageObj.src = (window.URL || window.webkitURL).createObjectURL(\n",
       "                evt.data);\n",
       "            fig.updated_canvas_event();\n",
       "            fig.waiting = false;\n",
       "            return;\n",
       "        }\n",
       "        else if (typeof evt.data === 'string' && evt.data.slice(0, 21) == \"data:image/png;base64\") {\n",
       "            fig.imageObj.src = evt.data;\n",
       "            fig.updated_canvas_event();\n",
       "            fig.waiting = false;\n",
       "            return;\n",
       "        }\n",
       "\n",
       "        var msg = JSON.parse(evt.data);\n",
       "        var msg_type = msg['type'];\n",
       "\n",
       "        // Call the  \"handle_{type}\" callback, which takes\n",
       "        // the figure and JSON message as its only arguments.\n",
       "        try {\n",
       "            var callback = fig[\"handle_\" + msg_type];\n",
       "        } catch (e) {\n",
       "            console.log(\"No handler for the '\" + msg_type + \"' message type: \", msg);\n",
       "            return;\n",
       "        }\n",
       "\n",
       "        if (callback) {\n",
       "            try {\n",
       "                // console.log(\"Handling '\" + msg_type + \"' message: \", msg);\n",
       "                callback(fig, msg);\n",
       "            } catch (e) {\n",
       "                console.log(\"Exception inside the 'handler_\" + msg_type + \"' callback:\", e, e.stack, msg);\n",
       "            }\n",
       "        }\n",
       "    };\n",
       "}\n",
       "\n",
       "// from http://stackoverflow.com/questions/1114465/getting-mouse-location-in-canvas\n",
       "mpl.findpos = function(e) {\n",
       "    //this section is from http://www.quirksmode.org/js/events_properties.html\n",
       "    var targ;\n",
       "    if (!e)\n",
       "        e = window.event;\n",
       "    if (e.target)\n",
       "        targ = e.target;\n",
       "    else if (e.srcElement)\n",
       "        targ = e.srcElement;\n",
       "    if (targ.nodeType == 3) // defeat Safari bug\n",
       "        targ = targ.parentNode;\n",
       "\n",
       "    // jQuery normalizes the pageX and pageY\n",
       "    // pageX,Y are the mouse positions relative to the document\n",
       "    // offset() returns the position of the element relative to the document\n",
       "    var x = e.pageX - $(targ).offset().left;\n",
       "    var y = e.pageY - $(targ).offset().top;\n",
       "\n",
       "    return {\"x\": x, \"y\": y};\n",
       "};\n",
       "\n",
       "/*\n",
       " * return a copy of an object with only non-object keys\n",
       " * we need this to avoid circular references\n",
       " * http://stackoverflow.com/a/24161582/3208463\n",
       " */\n",
       "function simpleKeys (original) {\n",
       "  return Object.keys(original).reduce(function (obj, key) {\n",
       "    if (typeof original[key] !== 'object')\n",
       "        obj[key] = original[key]\n",
       "    return obj;\n",
       "  }, {});\n",
       "}\n",
       "\n",
       "mpl.figure.prototype.mouse_event = function(event, name) {\n",
       "    var canvas_pos = mpl.findpos(event)\n",
       "\n",
       "    if (name === 'button_press')\n",
       "    {\n",
       "        this.canvas.focus();\n",
       "        this.canvas_div.focus();\n",
       "    }\n",
       "\n",
       "    var x = canvas_pos.x * mpl.ratio;\n",
       "    var y = canvas_pos.y * mpl.ratio;\n",
       "\n",
       "    this.send_message(name, {x: x, y: y, button: event.button,\n",
       "                             step: event.step,\n",
       "                             guiEvent: simpleKeys(event)});\n",
       "\n",
       "    /* This prevents the web browser from automatically changing to\n",
       "     * the text insertion cursor when the button is pressed.  We want\n",
       "     * to control all of the cursor setting manually through the\n",
       "     * 'cursor' event from matplotlib */\n",
       "    event.preventDefault();\n",
       "    return false;\n",
       "}\n",
       "\n",
       "mpl.figure.prototype._key_event_extra = function(event, name) {\n",
       "    // Handle any extra behaviour associated with a key event\n",
       "}\n",
       "\n",
       "mpl.figure.prototype.key_event = function(event, name) {\n",
       "\n",
       "    // Prevent repeat events\n",
       "    if (name == 'key_press')\n",
       "    {\n",
       "        if (event.which === this._key)\n",
       "            return;\n",
       "        else\n",
       "            this._key = event.which;\n",
       "    }\n",
       "    if (name == 'key_release')\n",
       "        this._key = null;\n",
       "\n",
       "    var value = '';\n",
       "    if (event.ctrlKey && event.which != 17)\n",
       "        value += \"ctrl+\";\n",
       "    if (event.altKey && event.which != 18)\n",
       "        value += \"alt+\";\n",
       "    if (event.shiftKey && event.which != 16)\n",
       "        value += \"shift+\";\n",
       "\n",
       "    value += 'k';\n",
       "    value += event.which.toString();\n",
       "\n",
       "    this._key_event_extra(event, name);\n",
       "\n",
       "    this.send_message(name, {key: value,\n",
       "                             guiEvent: simpleKeys(event)});\n",
       "    return false;\n",
       "}\n",
       "\n",
       "mpl.figure.prototype.toolbar_button_onclick = function(name) {\n",
       "    if (name == 'download') {\n",
       "        this.handle_save(this, null);\n",
       "    } else {\n",
       "        this.send_message(\"toolbar_button\", {name: name});\n",
       "    }\n",
       "};\n",
       "\n",
       "mpl.figure.prototype.toolbar_button_onmouseover = function(tooltip) {\n",
       "    this.message.textContent = tooltip;\n",
       "};\n",
       "mpl.toolbar_items = [[\"Home\", \"Reset original view\", \"fa fa-home icon-home\", \"home\"], [\"Back\", \"Back to previous view\", \"fa fa-arrow-left icon-arrow-left\", \"back\"], [\"Forward\", \"Forward to next view\", \"fa fa-arrow-right icon-arrow-right\", \"forward\"], [\"\", \"\", \"\", \"\"], [\"Pan\", \"Pan axes with left mouse, zoom with right\", \"fa fa-arrows icon-move\", \"pan\"], [\"Zoom\", \"Zoom to rectangle\", \"fa fa-square-o icon-check-empty\", \"zoom\"], [\"\", \"\", \"\", \"\"], [\"Download\", \"Download plot\", \"fa fa-floppy-o icon-save\", \"download\"]];\n",
       "\n",
       "mpl.extensions = [\"eps\", \"jpeg\", \"pdf\", \"png\", \"ps\", \"raw\", \"svg\", \"tif\"];\n",
       "\n",
       "mpl.default_extension = \"png\";var comm_websocket_adapter = function(comm) {\n",
       "    // Create a \"websocket\"-like object which calls the given IPython comm\n",
       "    // object with the appropriate methods. Currently this is a non binary\n",
       "    // socket, so there is still some room for performance tuning.\n",
       "    var ws = {};\n",
       "\n",
       "    ws.close = function() {\n",
       "        comm.close()\n",
       "    };\n",
       "    ws.send = function(m) {\n",
       "        //console.log('sending', m);\n",
       "        comm.send(m);\n",
       "    };\n",
       "    // Register the callback with on_msg.\n",
       "    comm.on_msg(function(msg) {\n",
       "        //console.log('receiving', msg['content']['data'], msg);\n",
       "        // Pass the mpl event to the overridden (by mpl) onmessage function.\n",
       "        ws.onmessage(msg['content']['data'])\n",
       "    });\n",
       "    return ws;\n",
       "}\n",
       "\n",
       "mpl.mpl_figure_comm = function(comm, msg) {\n",
       "    // This is the function which gets called when the mpl process\n",
       "    // starts-up an IPython Comm through the \"matplotlib\" channel.\n",
       "\n",
       "    var id = msg.content.data.id;\n",
       "    // Get hold of the div created by the display call when the Comm\n",
       "    // socket was opened in Python.\n",
       "    var element = $(\"#\" + id);\n",
       "    var ws_proxy = comm_websocket_adapter(comm)\n",
       "\n",
       "    function ondownload(figure, format) {\n",
       "        window.open(figure.imageObj.src);\n",
       "    }\n",
       "\n",
       "    var fig = new mpl.figure(id, ws_proxy,\n",
       "                           ondownload,\n",
       "                           element.get(0));\n",
       "\n",
       "    // Call onopen now - mpl needs it, as it is assuming we've passed it a real\n",
       "    // web socket which is closed, not our websocket->open comm proxy.\n",
       "    ws_proxy.onopen();\n",
       "\n",
       "    fig.parent_element = element.get(0);\n",
       "    fig.cell_info = mpl.find_output_cell(\"<div id='\" + id + \"'></div>\");\n",
       "    if (!fig.cell_info) {\n",
       "        console.error(\"Failed to find cell for figure\", id, fig);\n",
       "        return;\n",
       "    }\n",
       "\n",
       "    var output_index = fig.cell_info[2]\n",
       "    var cell = fig.cell_info[0];\n",
       "\n",
       "};\n",
       "\n",
       "mpl.figure.prototype.handle_close = function(fig, msg) {\n",
       "    var width = fig.canvas.width/mpl.ratio\n",
       "    fig.root.unbind('remove')\n",
       "\n",
       "    // Update the output cell to use the data from the current canvas.\n",
       "    fig.push_to_output();\n",
       "    var dataURL = fig.canvas.toDataURL();\n",
       "    // Re-enable the keyboard manager in IPython - without this line, in FF,\n",
       "    // the notebook keyboard shortcuts fail.\n",
       "    IPython.keyboard_manager.enable()\n",
       "    $(fig.parent_element).html('<img src=\"' + dataURL + '\" width=\"' + width + '\">');\n",
       "    fig.close_ws(fig, msg);\n",
       "}\n",
       "\n",
       "mpl.figure.prototype.close_ws = function(fig, msg){\n",
       "    fig.send_message('closing', msg);\n",
       "    // fig.ws.close()\n",
       "}\n",
       "\n",
       "mpl.figure.prototype.push_to_output = function(remove_interactive) {\n",
       "    // Turn the data on the canvas into data in the output cell.\n",
       "    var width = this.canvas.width/mpl.ratio\n",
       "    var dataURL = this.canvas.toDataURL();\n",
       "    this.cell_info[1]['text/html'] = '<img src=\"' + dataURL + '\" width=\"' + width + '\">';\n",
       "}\n",
       "\n",
       "mpl.figure.prototype.updated_canvas_event = function() {\n",
       "    // Tell IPython that the notebook contents must change.\n",
       "    IPython.notebook.set_dirty(true);\n",
       "    this.send_message(\"ack\", {});\n",
       "    var fig = this;\n",
       "    // Wait a second, then push the new image to the DOM so\n",
       "    // that it is saved nicely (might be nice to debounce this).\n",
       "    setTimeout(function () { fig.push_to_output() }, 1000);\n",
       "}\n",
       "\n",
       "mpl.figure.prototype._init_toolbar = function() {\n",
       "    var fig = this;\n",
       "\n",
       "    var nav_element = $('<div/>')\n",
       "    nav_element.attr('style', 'width: 100%');\n",
       "    this.root.append(nav_element);\n",
       "\n",
       "    // Define a callback function for later on.\n",
       "    function toolbar_event(event) {\n",
       "        return fig.toolbar_button_onclick(event['data']);\n",
       "    }\n",
       "    function toolbar_mouse_event(event) {\n",
       "        return fig.toolbar_button_onmouseover(event['data']);\n",
       "    }\n",
       "\n",
       "    for(var toolbar_ind in mpl.toolbar_items){\n",
       "        var name = mpl.toolbar_items[toolbar_ind][0];\n",
       "        var tooltip = mpl.toolbar_items[toolbar_ind][1];\n",
       "        var image = mpl.toolbar_items[toolbar_ind][2];\n",
       "        var method_name = mpl.toolbar_items[toolbar_ind][3];\n",
       "\n",
       "        if (!name) { continue; };\n",
       "\n",
       "        var button = $('<button class=\"btn btn-default\" href=\"#\" title=\"' + name + '\"><i class=\"fa ' + image + ' fa-lg\"></i></button>');\n",
       "        button.click(method_name, toolbar_event);\n",
       "        button.mouseover(tooltip, toolbar_mouse_event);\n",
       "        nav_element.append(button);\n",
       "    }\n",
       "\n",
       "    // Add the status bar.\n",
       "    var status_bar = $('<span class=\"mpl-message\" style=\"text-align:right; float: right;\"/>');\n",
       "    nav_element.append(status_bar);\n",
       "    this.message = status_bar[0];\n",
       "\n",
       "    // Add the close button to the window.\n",
       "    var buttongrp = $('<div class=\"btn-group inline pull-right\"></div>');\n",
       "    var button = $('<button class=\"btn btn-mini btn-primary\" href=\"#\" title=\"Stop Interaction\"><i class=\"fa fa-power-off icon-remove icon-large\"></i></button>');\n",
       "    button.click(function (evt) { fig.handle_close(fig, {}); } );\n",
       "    button.mouseover('Stop Interaction', toolbar_mouse_event);\n",
       "    buttongrp.append(button);\n",
       "    var titlebar = this.root.find($('.ui-dialog-titlebar'));\n",
       "    titlebar.prepend(buttongrp);\n",
       "}\n",
       "\n",
       "mpl.figure.prototype._root_extra_style = function(el){\n",
       "    var fig = this\n",
       "    el.on(\"remove\", function(){\n",
       "\tfig.close_ws(fig, {});\n",
       "    });\n",
       "}\n",
       "\n",
       "mpl.figure.prototype._canvas_extra_style = function(el){\n",
       "    // this is important to make the div 'focusable\n",
       "    el.attr('tabindex', 0)\n",
       "    // reach out to IPython and tell the keyboard manager to turn it's self\n",
       "    // off when our div gets focus\n",
       "\n",
       "    // location in version 3\n",
       "    if (IPython.notebook.keyboard_manager) {\n",
       "        IPython.notebook.keyboard_manager.register_events(el);\n",
       "    }\n",
       "    else {\n",
       "        // location in version 2\n",
       "        IPython.keyboard_manager.register_events(el);\n",
       "    }\n",
       "\n",
       "}\n",
       "\n",
       "mpl.figure.prototype._key_event_extra = function(event, name) {\n",
       "    var manager = IPython.notebook.keyboard_manager;\n",
       "    if (!manager)\n",
       "        manager = IPython.keyboard_manager;\n",
       "\n",
       "    // Check for shift+enter\n",
       "    if (event.shiftKey && event.which == 13) {\n",
       "        this.canvas_div.blur();\n",
       "        event.shiftKey = false;\n",
       "        // Send a \"J\" for go to next cell\n",
       "        event.which = 74;\n",
       "        event.keyCode = 74;\n",
       "        manager.command_mode();\n",
       "        manager.handle_keydown(event);\n",
       "    }\n",
       "}\n",
       "\n",
       "mpl.figure.prototype.handle_save = function(fig, msg) {\n",
       "    fig.ondownload(fig, null);\n",
       "}\n",
       "\n",
       "\n",
       "mpl.find_output_cell = function(html_output) {\n",
       "    // Return the cell and output element which can be found *uniquely* in the notebook.\n",
       "    // Note - this is a bit hacky, but it is done because the \"notebook_saving.Notebook\"\n",
       "    // IPython event is triggered only after the cells have been serialised, which for\n",
       "    // our purposes (turning an active figure into a static one), is too late.\n",
       "    var cells = IPython.notebook.get_cells();\n",
       "    var ncells = cells.length;\n",
       "    for (var i=0; i<ncells; i++) {\n",
       "        var cell = cells[i];\n",
       "        if (cell.cell_type === 'code'){\n",
       "            for (var j=0; j<cell.output_area.outputs.length; j++) {\n",
       "                var data = cell.output_area.outputs[j];\n",
       "                if (data.data) {\n",
       "                    // IPython >= 3 moved mimebundle to data attribute of output\n",
       "                    data = data.data;\n",
       "                }\n",
       "                if (data['text/html'] == html_output) {\n",
       "                    return [cell, data, j];\n",
       "                }\n",
       "            }\n",
       "        }\n",
       "    }\n",
       "}\n",
       "\n",
       "// Register the function which deals with the matplotlib target/channel.\n",
       "// The kernel may be null if the page has been refreshed.\n",
       "if (IPython.notebook.kernel != null) {\n",
       "    IPython.notebook.kernel.comm_manager.register_target('matplotlib', mpl.mpl_figure_comm);\n",
       "}\n"
      ],
      "text/plain": [
       "<IPython.core.display.Javascript object>"
      ]
     },
     "metadata": {},
     "output_type": "display_data"
    },
    {
     "data": {
      "text/html": [
       "<img src=\"data:image/png;base64,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\" width=\"640\">"
      ],
      "text/plain": [
       "<IPython.core.display.HTML object>"
      ]
     },
     "metadata": {},
     "output_type": "display_data"
    },
    {
     "data": {
      "text/plain": [
       "<matplotlib.axes._subplots.AxesSubplot at 0x9fd6f60>"
      ]
     },
     "execution_count": 146,
     "metadata": {},
     "output_type": "execute_result"
    }
   ],
   "source": [
    "ma60.plot(style='k--', label='Simple MA')"
   ]
  },
  {
   "cell_type": "code",
   "execution_count": 147,
   "metadata": {},
   "outputs": [
    {
     "data": {
      "text/plain": [
       "<matplotlib.axes._subplots.AxesSubplot at 0x9fd6f60>"
      ]
     },
     "execution_count": 147,
     "metadata": {},
     "output_type": "execute_result"
    }
   ],
   "source": [
    "ewma60.plot(style='k--', label='EW MA')"
   ]
  },
  {
   "cell_type": "code",
   "execution_count": 150,
   "metadata": {
    "collapsed": true
   },
   "outputs": [
    {
     "data": {
      "application/javascript": [
       "/* Put everything inside the global mpl namespace */\n",
       "window.mpl = {};\n",
       "\n",
       "\n",
       "mpl.get_websocket_type = function() {\n",
       "    if (typeof(WebSocket) !== 'undefined') {\n",
       "        return WebSocket;\n",
       "    } else if (typeof(MozWebSocket) !== 'undefined') {\n",
       "        return MozWebSocket;\n",
       "    } else {\n",
       "        alert('Your browser does not have WebSocket support.' +\n",
       "              'Please try Chrome, Safari or Firefox ≥ 6. ' +\n",
       "              'Firefox 4 and 5 are also supported but you ' +\n",
       "              'have to enable WebSockets in about:config.');\n",
       "    };\n",
       "}\n",
       "\n",
       "mpl.figure = function(figure_id, websocket, ondownload, parent_element) {\n",
       "    this.id = figure_id;\n",
       "\n",
       "    this.ws = websocket;\n",
       "\n",
       "    this.supports_binary = (this.ws.binaryType != undefined);\n",
       "\n",
       "    if (!this.supports_binary) {\n",
       "        var warnings = document.getElementById(\"mpl-warnings\");\n",
       "        if (warnings) {\n",
       "            warnings.style.display = 'block';\n",
       "            warnings.textContent = (\n",
       "                \"This browser does not support binary websocket messages. \" +\n",
       "                    \"Performance may be slow.\");\n",
       "        }\n",
       "    }\n",
       "\n",
       "    this.imageObj = new Image();\n",
       "\n",
       "    this.context = undefined;\n",
       "    this.message = undefined;\n",
       "    this.canvas = undefined;\n",
       "    this.rubberband_canvas = undefined;\n",
       "    this.rubberband_context = undefined;\n",
       "    this.format_dropdown = undefined;\n",
       "\n",
       "    this.image_mode = 'full';\n",
       "\n",
       "    this.root = $('<div/>');\n",
       "    this._root_extra_style(this.root)\n",
       "    this.root.attr('style', 'display: inline-block');\n",
       "\n",
       "    $(parent_element).append(this.root);\n",
       "\n",
       "    this._init_header(this);\n",
       "    this._init_canvas(this);\n",
       "    this._init_toolbar(this);\n",
       "\n",
       "    var fig = this;\n",
       "\n",
       "    this.waiting = false;\n",
       "\n",
       "    this.ws.onopen =  function () {\n",
       "            fig.send_message(\"supports_binary\", {value: fig.supports_binary});\n",
       "            fig.send_message(\"send_image_mode\", {});\n",
       "            if (mpl.ratio != 1) {\n",
       "                fig.send_message(\"set_dpi_ratio\", {'dpi_ratio': mpl.ratio});\n",
       "            }\n",
       "            fig.send_message(\"refresh\", {});\n",
       "        }\n",
       "\n",
       "    this.imageObj.onload = function() {\n",
       "            if (fig.image_mode == 'full') {\n",
       "                // Full images could contain transparency (where diff images\n",
       "                // almost always do), so we need to clear the canvas so that\n",
       "                // there is no ghosting.\n",
       "                fig.context.clearRect(0, 0, fig.canvas.width, fig.canvas.height);\n",
       "            }\n",
       "            fig.context.drawImage(fig.imageObj, 0, 0);\n",
       "        };\n",
       "\n",
       "    this.imageObj.onunload = function() {\n",
       "        fig.ws.close();\n",
       "    }\n",
       "\n",
       "    this.ws.onmessage = this._make_on_message_function(this);\n",
       "\n",
       "    this.ondownload = ondownload;\n",
       "}\n",
       "\n",
       "mpl.figure.prototype._init_header = function() {\n",
       "    var titlebar = $(\n",
       "        '<div class=\"ui-dialog-titlebar ui-widget-header ui-corner-all ' +\n",
       "        'ui-helper-clearfix\"/>');\n",
       "    var titletext = $(\n",
       "        '<div class=\"ui-dialog-title\" style=\"width: 100%; ' +\n",
       "        'text-align: center; padding: 3px;\"/>');\n",
       "    titlebar.append(titletext)\n",
       "    this.root.append(titlebar);\n",
       "    this.header = titletext[0];\n",
       "}\n",
       "\n",
       "\n",
       "\n",
       "mpl.figure.prototype._canvas_extra_style = function(canvas_div) {\n",
       "\n",
       "}\n",
       "\n",
       "\n",
       "mpl.figure.prototype._root_extra_style = function(canvas_div) {\n",
       "\n",
       "}\n",
       "\n",
       "mpl.figure.prototype._init_canvas = function() {\n",
       "    var fig = this;\n",
       "\n",
       "    var canvas_div = $('<div/>');\n",
       "\n",
       "    canvas_div.attr('style', 'position: relative; clear: both; outline: 0');\n",
       "\n",
       "    function canvas_keyboard_event(event) {\n",
       "        return fig.key_event(event, event['data']);\n",
       "    }\n",
       "\n",
       "    canvas_div.keydown('key_press', canvas_keyboard_event);\n",
       "    canvas_div.keyup('key_release', canvas_keyboard_event);\n",
       "    this.canvas_div = canvas_div\n",
       "    this._canvas_extra_style(canvas_div)\n",
       "    this.root.append(canvas_div);\n",
       "\n",
       "    var canvas = $('<canvas/>');\n",
       "    canvas.addClass('mpl-canvas');\n",
       "    canvas.attr('style', \"left: 0; top: 0; z-index: 0; outline: 0\")\n",
       "\n",
       "    this.canvas = canvas[0];\n",
       "    this.context = canvas[0].getContext(\"2d\");\n",
       "\n",
       "    var backingStore = this.context.backingStorePixelRatio ||\n",
       "\tthis.context.webkitBackingStorePixelRatio ||\n",
       "\tthis.context.mozBackingStorePixelRatio ||\n",
       "\tthis.context.msBackingStorePixelRatio ||\n",
       "\tthis.context.oBackingStorePixelRatio ||\n",
       "\tthis.context.backingStorePixelRatio || 1;\n",
       "\n",
       "    mpl.ratio = (window.devicePixelRatio || 1) / backingStore;\n",
       "\n",
       "    var rubberband = $('<canvas/>');\n",
       "    rubberband.attr('style', \"position: absolute; left: 0; top: 0; z-index: 1;\")\n",
       "\n",
       "    var pass_mouse_events = true;\n",
       "\n",
       "    canvas_div.resizable({\n",
       "        start: function(event, ui) {\n",
       "            pass_mouse_events = false;\n",
       "        },\n",
       "        resize: function(event, ui) {\n",
       "            fig.request_resize(ui.size.width, ui.size.height);\n",
       "        },\n",
       "        stop: function(event, ui) {\n",
       "            pass_mouse_events = true;\n",
       "            fig.request_resize(ui.size.width, ui.size.height);\n",
       "        },\n",
       "    });\n",
       "\n",
       "    function mouse_event_fn(event) {\n",
       "        if (pass_mouse_events)\n",
       "            return fig.mouse_event(event, event['data']);\n",
       "    }\n",
       "\n",
       "    rubberband.mousedown('button_press', mouse_event_fn);\n",
       "    rubberband.mouseup('button_release', mouse_event_fn);\n",
       "    // Throttle sequential mouse events to 1 every 20ms.\n",
       "    rubberband.mousemove('motion_notify', mouse_event_fn);\n",
       "\n",
       "    rubberband.mouseenter('figure_enter', mouse_event_fn);\n",
       "    rubberband.mouseleave('figure_leave', mouse_event_fn);\n",
       "\n",
       "    canvas_div.on(\"wheel\", function (event) {\n",
       "        event = event.originalEvent;\n",
       "        event['data'] = 'scroll'\n",
       "        if (event.deltaY < 0) {\n",
       "            event.step = 1;\n",
       "        } else {\n",
       "            event.step = -1;\n",
       "        }\n",
       "        mouse_event_fn(event);\n",
       "    });\n",
       "\n",
       "    canvas_div.append(canvas);\n",
       "    canvas_div.append(rubberband);\n",
       "\n",
       "    this.rubberband = rubberband;\n",
       "    this.rubberband_canvas = rubberband[0];\n",
       "    this.rubberband_context = rubberband[0].getContext(\"2d\");\n",
       "    this.rubberband_context.strokeStyle = \"#000000\";\n",
       "\n",
       "    this._resize_canvas = function(width, height) {\n",
       "        // Keep the size of the canvas, canvas container, and rubber band\n",
       "        // canvas in synch.\n",
       "        canvas_div.css('width', width)\n",
       "        canvas_div.css('height', height)\n",
       "\n",
       "        canvas.attr('width', width * mpl.ratio);\n",
       "        canvas.attr('height', height * mpl.ratio);\n",
       "        canvas.attr('style', 'width: ' + width + 'px; height: ' + height + 'px;');\n",
       "\n",
       "        rubberband.attr('width', width);\n",
       "        rubberband.attr('height', height);\n",
       "    }\n",
       "\n",
       "    // Set the figure to an initial 600x600px, this will subsequently be updated\n",
       "    // upon first draw.\n",
       "    this._resize_canvas(600, 600);\n",
       "\n",
       "    // Disable right mouse context menu.\n",
       "    $(this.rubberband_canvas).bind(\"contextmenu\",function(e){\n",
       "        return false;\n",
       "    });\n",
       "\n",
       "    function set_focus () {\n",
       "        canvas.focus();\n",
       "        canvas_div.focus();\n",
       "    }\n",
       "\n",
       "    window.setTimeout(set_focus, 100);\n",
       "}\n",
       "\n",
       "mpl.figure.prototype._init_toolbar = function() {\n",
       "    var fig = this;\n",
       "\n",
       "    var nav_element = $('<div/>')\n",
       "    nav_element.attr('style', 'width: 100%');\n",
       "    this.root.append(nav_element);\n",
       "\n",
       "    // Define a callback function for later on.\n",
       "    function toolbar_event(event) {\n",
       "        return fig.toolbar_button_onclick(event['data']);\n",
       "    }\n",
       "    function toolbar_mouse_event(event) {\n",
       "        return fig.toolbar_button_onmouseover(event['data']);\n",
       "    }\n",
       "\n",
       "    for(var toolbar_ind in mpl.toolbar_items) {\n",
       "        var name = mpl.toolbar_items[toolbar_ind][0];\n",
       "        var tooltip = mpl.toolbar_items[toolbar_ind][1];\n",
       "        var image = mpl.toolbar_items[toolbar_ind][2];\n",
       "        var method_name = mpl.toolbar_items[toolbar_ind][3];\n",
       "\n",
       "        if (!name) {\n",
       "            // put a spacer in here.\n",
       "            continue;\n",
       "        }\n",
       "        var button = $('<button/>');\n",
       "        button.addClass('ui-button ui-widget ui-state-default ui-corner-all ' +\n",
       "                        'ui-button-icon-only');\n",
       "        button.attr('role', 'button');\n",
       "        button.attr('aria-disabled', 'false');\n",
       "        button.click(method_name, toolbar_event);\n",
       "        button.mouseover(tooltip, toolbar_mouse_event);\n",
       "\n",
       "        var icon_img = $('<span/>');\n",
       "        icon_img.addClass('ui-button-icon-primary ui-icon');\n",
       "        icon_img.addClass(image);\n",
       "        icon_img.addClass('ui-corner-all');\n",
       "\n",
       "        var tooltip_span = $('<span/>');\n",
       "        tooltip_span.addClass('ui-button-text');\n",
       "        tooltip_span.html(tooltip);\n",
       "\n",
       "        button.append(icon_img);\n",
       "        button.append(tooltip_span);\n",
       "\n",
       "        nav_element.append(button);\n",
       "    }\n",
       "\n",
       "    var fmt_picker_span = $('<span/>');\n",
       "\n",
       "    var fmt_picker = $('<select/>');\n",
       "    fmt_picker.addClass('mpl-toolbar-option ui-widget ui-widget-content');\n",
       "    fmt_picker_span.append(fmt_picker);\n",
       "    nav_element.append(fmt_picker_span);\n",
       "    this.format_dropdown = fmt_picker[0];\n",
       "\n",
       "    for (var ind in mpl.extensions) {\n",
       "        var fmt = mpl.extensions[ind];\n",
       "        var option = $(\n",
       "            '<option/>', {selected: fmt === mpl.default_extension}).html(fmt);\n",
       "        fmt_picker.append(option)\n",
       "    }\n",
       "\n",
       "    // Add hover states to the ui-buttons\n",
       "    $( \".ui-button\" ).hover(\n",
       "        function() { $(this).addClass(\"ui-state-hover\");},\n",
       "        function() { $(this).removeClass(\"ui-state-hover\");}\n",
       "    );\n",
       "\n",
       "    var status_bar = $('<span class=\"mpl-message\"/>');\n",
       "    nav_element.append(status_bar);\n",
       "    this.message = status_bar[0];\n",
       "}\n",
       "\n",
       "mpl.figure.prototype.request_resize = function(x_pixels, y_pixels) {\n",
       "    // Request matplotlib to resize the figure. Matplotlib will then trigger a resize in the client,\n",
       "    // which will in turn request a refresh of the image.\n",
       "    this.send_message('resize', {'width': x_pixels, 'height': y_pixels});\n",
       "}\n",
       "\n",
       "mpl.figure.prototype.send_message = function(type, properties) {\n",
       "    properties['type'] = type;\n",
       "    properties['figure_id'] = this.id;\n",
       "    this.ws.send(JSON.stringify(properties));\n",
       "}\n",
       "\n",
       "mpl.figure.prototype.send_draw_message = function() {\n",
       "    if (!this.waiting) {\n",
       "        this.waiting = true;\n",
       "        this.ws.send(JSON.stringify({type: \"draw\", figure_id: this.id}));\n",
       "    }\n",
       "}\n",
       "\n",
       "\n",
       "mpl.figure.prototype.handle_save = function(fig, msg) {\n",
       "    var format_dropdown = fig.format_dropdown;\n",
       "    var format = format_dropdown.options[format_dropdown.selectedIndex].value;\n",
       "    fig.ondownload(fig, format);\n",
       "}\n",
       "\n",
       "\n",
       "mpl.figure.prototype.handle_resize = function(fig, msg) {\n",
       "    var size = msg['size'];\n",
       "    if (size[0] != fig.canvas.width || size[1] != fig.canvas.height) {\n",
       "        fig._resize_canvas(size[0], size[1]);\n",
       "        fig.send_message(\"refresh\", {});\n",
       "    };\n",
       "}\n",
       "\n",
       "mpl.figure.prototype.handle_rubberband = function(fig, msg) {\n",
       "    var x0 = msg['x0'] / mpl.ratio;\n",
       "    var y0 = (fig.canvas.height - msg['y0']) / mpl.ratio;\n",
       "    var x1 = msg['x1'] / mpl.ratio;\n",
       "    var y1 = (fig.canvas.height - msg['y1']) / mpl.ratio;\n",
       "    x0 = Math.floor(x0) + 0.5;\n",
       "    y0 = Math.floor(y0) + 0.5;\n",
       "    x1 = Math.floor(x1) + 0.5;\n",
       "    y1 = Math.floor(y1) + 0.5;\n",
       "    var min_x = Math.min(x0, x1);\n",
       "    var min_y = Math.min(y0, y1);\n",
       "    var width = Math.abs(x1 - x0);\n",
       "    var height = Math.abs(y1 - y0);\n",
       "\n",
       "    fig.rubberband_context.clearRect(\n",
       "        0, 0, fig.canvas.width, fig.canvas.height);\n",
       "\n",
       "    fig.rubberband_context.strokeRect(min_x, min_y, width, height);\n",
       "}\n",
       "\n",
       "mpl.figure.prototype.handle_figure_label = function(fig, msg) {\n",
       "    // Updates the figure title.\n",
       "    fig.header.textContent = msg['label'];\n",
       "}\n",
       "\n",
       "mpl.figure.prototype.handle_cursor = function(fig, msg) {\n",
       "    var cursor = msg['cursor'];\n",
       "    switch(cursor)\n",
       "    {\n",
       "    case 0:\n",
       "        cursor = 'pointer';\n",
       "        break;\n",
       "    case 1:\n",
       "        cursor = 'default';\n",
       "        break;\n",
       "    case 2:\n",
       "        cursor = 'crosshair';\n",
       "        break;\n",
       "    case 3:\n",
       "        cursor = 'move';\n",
       "        break;\n",
       "    }\n",
       "    fig.rubberband_canvas.style.cursor = cursor;\n",
       "}\n",
       "\n",
       "mpl.figure.prototype.handle_message = function(fig, msg) {\n",
       "    fig.message.textContent = msg['message'];\n",
       "}\n",
       "\n",
       "mpl.figure.prototype.handle_draw = function(fig, msg) {\n",
       "    // Request the server to send over a new figure.\n",
       "    fig.send_draw_message();\n",
       "}\n",
       "\n",
       "mpl.figure.prototype.handle_image_mode = function(fig, msg) {\n",
       "    fig.image_mode = msg['mode'];\n",
       "}\n",
       "\n",
       "mpl.figure.prototype.updated_canvas_event = function() {\n",
       "    // Called whenever the canvas gets updated.\n",
       "    this.send_message(\"ack\", {});\n",
       "}\n",
       "\n",
       "// A function to construct a web socket function for onmessage handling.\n",
       "// Called in the figure constructor.\n",
       "mpl.figure.prototype._make_on_message_function = function(fig) {\n",
       "    return function socket_on_message(evt) {\n",
       "        if (evt.data instanceof Blob) {\n",
       "            /* FIXME: We get \"Resource interpreted as Image but\n",
       "             * transferred with MIME type text/plain:\" errors on\n",
       "             * Chrome.  But how to set the MIME type?  It doesn't seem\n",
       "             * to be part of the websocket stream */\n",
       "            evt.data.type = \"image/png\";\n",
       "\n",
       "            /* Free the memory for the previous frames */\n",
       "            if (fig.imageObj.src) {\n",
       "                (window.URL || window.webkitURL).revokeObjectURL(\n",
       "                    fig.imageObj.src);\n",
       "            }\n",
       "\n",
       "            fig.imageObj.src = (window.URL || window.webkitURL).createObjectURL(\n",
       "                evt.data);\n",
       "            fig.updated_canvas_event();\n",
       "            fig.waiting = false;\n",
       "            return;\n",
       "        }\n",
       "        else if (typeof evt.data === 'string' && evt.data.slice(0, 21) == \"data:image/png;base64\") {\n",
       "            fig.imageObj.src = evt.data;\n",
       "            fig.updated_canvas_event();\n",
       "            fig.waiting = false;\n",
       "            return;\n",
       "        }\n",
       "\n",
       "        var msg = JSON.parse(evt.data);\n",
       "        var msg_type = msg['type'];\n",
       "\n",
       "        // Call the  \"handle_{type}\" callback, which takes\n",
       "        // the figure and JSON message as its only arguments.\n",
       "        try {\n",
       "            var callback = fig[\"handle_\" + msg_type];\n",
       "        } catch (e) {\n",
       "            console.log(\"No handler for the '\" + msg_type + \"' message type: \", msg);\n",
       "            return;\n",
       "        }\n",
       "\n",
       "        if (callback) {\n",
       "            try {\n",
       "                // console.log(\"Handling '\" + msg_type + \"' message: \", msg);\n",
       "                callback(fig, msg);\n",
       "            } catch (e) {\n",
       "                console.log(\"Exception inside the 'handler_\" + msg_type + \"' callback:\", e, e.stack, msg);\n",
       "            }\n",
       "        }\n",
       "    };\n",
       "}\n",
       "\n",
       "// from http://stackoverflow.com/questions/1114465/getting-mouse-location-in-canvas\n",
       "mpl.findpos = function(e) {\n",
       "    //this section is from http://www.quirksmode.org/js/events_properties.html\n",
       "    var targ;\n",
       "    if (!e)\n",
       "        e = window.event;\n",
       "    if (e.target)\n",
       "        targ = e.target;\n",
       "    else if (e.srcElement)\n",
       "        targ = e.srcElement;\n",
       "    if (targ.nodeType == 3) // defeat Safari bug\n",
       "        targ = targ.parentNode;\n",
       "\n",
       "    // jQuery normalizes the pageX and pageY\n",
       "    // pageX,Y are the mouse positions relative to the document\n",
       "    // offset() returns the position of the element relative to the document\n",
       "    var x = e.pageX - $(targ).offset().left;\n",
       "    var y = e.pageY - $(targ).offset().top;\n",
       "\n",
       "    return {\"x\": x, \"y\": y};\n",
       "};\n",
       "\n",
       "/*\n",
       " * return a copy of an object with only non-object keys\n",
       " * we need this to avoid circular references\n",
       " * http://stackoverflow.com/a/24161582/3208463\n",
       " */\n",
       "function simpleKeys (original) {\n",
       "  return Object.keys(original).reduce(function (obj, key) {\n",
       "    if (typeof original[key] !== 'object')\n",
       "        obj[key] = original[key]\n",
       "    return obj;\n",
       "  }, {});\n",
       "}\n",
       "\n",
       "mpl.figure.prototype.mouse_event = function(event, name) {\n",
       "    var canvas_pos = mpl.findpos(event)\n",
       "\n",
       "    if (name === 'button_press')\n",
       "    {\n",
       "        this.canvas.focus();\n",
       "        this.canvas_div.focus();\n",
       "    }\n",
       "\n",
       "    var x = canvas_pos.x * mpl.ratio;\n",
       "    var y = canvas_pos.y * mpl.ratio;\n",
       "\n",
       "    this.send_message(name, {x: x, y: y, button: event.button,\n",
       "                             step: event.step,\n",
       "                             guiEvent: simpleKeys(event)});\n",
       "\n",
       "    /* This prevents the web browser from automatically changing to\n",
       "     * the text insertion cursor when the button is pressed.  We want\n",
       "     * to control all of the cursor setting manually through the\n",
       "     * 'cursor' event from matplotlib */\n",
       "    event.preventDefault();\n",
       "    return false;\n",
       "}\n",
       "\n",
       "mpl.figure.prototype._key_event_extra = function(event, name) {\n",
       "    // Handle any extra behaviour associated with a key event\n",
       "}\n",
       "\n",
       "mpl.figure.prototype.key_event = function(event, name) {\n",
       "\n",
       "    // Prevent repeat events\n",
       "    if (name == 'key_press')\n",
       "    {\n",
       "        if (event.which === this._key)\n",
       "            return;\n",
       "        else\n",
       "            this._key = event.which;\n",
       "    }\n",
       "    if (name == 'key_release')\n",
       "        this._key = null;\n",
       "\n",
       "    var value = '';\n",
       "    if (event.ctrlKey && event.which != 17)\n",
       "        value += \"ctrl+\";\n",
       "    if (event.altKey && event.which != 18)\n",
       "        value += \"alt+\";\n",
       "    if (event.shiftKey && event.which != 16)\n",
       "        value += \"shift+\";\n",
       "\n",
       "    value += 'k';\n",
       "    value += event.which.toString();\n",
       "\n",
       "    this._key_event_extra(event, name);\n",
       "\n",
       "    this.send_message(name, {key: value,\n",
       "                             guiEvent: simpleKeys(event)});\n",
       "    return false;\n",
       "}\n",
       "\n",
       "mpl.figure.prototype.toolbar_button_onclick = function(name) {\n",
       "    if (name == 'download') {\n",
       "        this.handle_save(this, null);\n",
       "    } else {\n",
       "        this.send_message(\"toolbar_button\", {name: name});\n",
       "    }\n",
       "};\n",
       "\n",
       "mpl.figure.prototype.toolbar_button_onmouseover = function(tooltip) {\n",
       "    this.message.textContent = tooltip;\n",
       "};\n",
       "mpl.toolbar_items = [[\"Home\", \"Reset original view\", \"fa fa-home icon-home\", \"home\"], [\"Back\", \"Back to previous view\", \"fa fa-arrow-left icon-arrow-left\", \"back\"], [\"Forward\", \"Forward to next view\", \"fa fa-arrow-right icon-arrow-right\", \"forward\"], [\"\", \"\", \"\", \"\"], [\"Pan\", \"Pan axes with left mouse, zoom with right\", \"fa fa-arrows icon-move\", \"pan\"], [\"Zoom\", \"Zoom to rectangle\", \"fa fa-square-o icon-check-empty\", \"zoom\"], [\"\", \"\", \"\", \"\"], [\"Download\", \"Download plot\", \"fa fa-floppy-o icon-save\", \"download\"]];\n",
       "\n",
       "mpl.extensions = [\"eps\", \"jpeg\", \"pdf\", \"png\", \"ps\", \"raw\", \"svg\", \"tif\"];\n",
       "\n",
       "mpl.default_extension = \"png\";var comm_websocket_adapter = function(comm) {\n",
       "    // Create a \"websocket\"-like object which calls the given IPython comm\n",
       "    // object with the appropriate methods. Currently this is a non binary\n",
       "    // socket, so there is still some room for performance tuning.\n",
       "    var ws = {};\n",
       "\n",
       "    ws.close = function() {\n",
       "        comm.close()\n",
       "    };\n",
       "    ws.send = function(m) {\n",
       "        //console.log('sending', m);\n",
       "        comm.send(m);\n",
       "    };\n",
       "    // Register the callback with on_msg.\n",
       "    comm.on_msg(function(msg) {\n",
       "        //console.log('receiving', msg['content']['data'], msg);\n",
       "        // Pass the mpl event to the overridden (by mpl) onmessage function.\n",
       "        ws.onmessage(msg['content']['data'])\n",
       "    });\n",
       "    return ws;\n",
       "}\n",
       "\n",
       "mpl.mpl_figure_comm = function(comm, msg) {\n",
       "    // This is the function which gets called when the mpl process\n",
       "    // starts-up an IPython Comm through the \"matplotlib\" channel.\n",
       "\n",
       "    var id = msg.content.data.id;\n",
       "    // Get hold of the div created by the display call when the Comm\n",
       "    // socket was opened in Python.\n",
       "    var element = $(\"#\" + id);\n",
       "    var ws_proxy = comm_websocket_adapter(comm)\n",
       "\n",
       "    function ondownload(figure, format) {\n",
       "        window.open(figure.imageObj.src);\n",
       "    }\n",
       "\n",
       "    var fig = new mpl.figure(id, ws_proxy,\n",
       "                           ondownload,\n",
       "                           element.get(0));\n",
       "\n",
       "    // Call onopen now - mpl needs it, as it is assuming we've passed it a real\n",
       "    // web socket which is closed, not our websocket->open comm proxy.\n",
       "    ws_proxy.onopen();\n",
       "\n",
       "    fig.parent_element = element.get(0);\n",
       "    fig.cell_info = mpl.find_output_cell(\"<div id='\" + id + \"'></div>\");\n",
       "    if (!fig.cell_info) {\n",
       "        console.error(\"Failed to find cell for figure\", id, fig);\n",
       "        return;\n",
       "    }\n",
       "\n",
       "    var output_index = fig.cell_info[2]\n",
       "    var cell = fig.cell_info[0];\n",
       "\n",
       "};\n",
       "\n",
       "mpl.figure.prototype.handle_close = function(fig, msg) {\n",
       "    var width = fig.canvas.width/mpl.ratio\n",
       "    fig.root.unbind('remove')\n",
       "\n",
       "    // Update the output cell to use the data from the current canvas.\n",
       "    fig.push_to_output();\n",
       "    var dataURL = fig.canvas.toDataURL();\n",
       "    // Re-enable the keyboard manager in IPython - without this line, in FF,\n",
       "    // the notebook keyboard shortcuts fail.\n",
       "    IPython.keyboard_manager.enable()\n",
       "    $(fig.parent_element).html('<img src=\"' + dataURL + '\" width=\"' + width + '\">');\n",
       "    fig.close_ws(fig, msg);\n",
       "}\n",
       "\n",
       "mpl.figure.prototype.close_ws = function(fig, msg){\n",
       "    fig.send_message('closing', msg);\n",
       "    // fig.ws.close()\n",
       "}\n",
       "\n",
       "mpl.figure.prototype.push_to_output = function(remove_interactive) {\n",
       "    // Turn the data on the canvas into data in the output cell.\n",
       "    var width = this.canvas.width/mpl.ratio\n",
       "    var dataURL = this.canvas.toDataURL();\n",
       "    this.cell_info[1]['text/html'] = '<img src=\"' + dataURL + '\" width=\"' + width + '\">';\n",
       "}\n",
       "\n",
       "mpl.figure.prototype.updated_canvas_event = function() {\n",
       "    // Tell IPython that the notebook contents must change.\n",
       "    IPython.notebook.set_dirty(true);\n",
       "    this.send_message(\"ack\", {});\n",
       "    var fig = this;\n",
       "    // Wait a second, then push the new image to the DOM so\n",
       "    // that it is saved nicely (might be nice to debounce this).\n",
       "    setTimeout(function () { fig.push_to_output() }, 1000);\n",
       "}\n",
       "\n",
       "mpl.figure.prototype._init_toolbar = function() {\n",
       "    var fig = this;\n",
       "\n",
       "    var nav_element = $('<div/>')\n",
       "    nav_element.attr('style', 'width: 100%');\n",
       "    this.root.append(nav_element);\n",
       "\n",
       "    // Define a callback function for later on.\n",
       "    function toolbar_event(event) {\n",
       "        return fig.toolbar_button_onclick(event['data']);\n",
       "    }\n",
       "    function toolbar_mouse_event(event) {\n",
       "        return fig.toolbar_button_onmouseover(event['data']);\n",
       "    }\n",
       "\n",
       "    for(var toolbar_ind in mpl.toolbar_items){\n",
       "        var name = mpl.toolbar_items[toolbar_ind][0];\n",
       "        var tooltip = mpl.toolbar_items[toolbar_ind][1];\n",
       "        var image = mpl.toolbar_items[toolbar_ind][2];\n",
       "        var method_name = mpl.toolbar_items[toolbar_ind][3];\n",
       "\n",
       "        if (!name) { continue; };\n",
       "\n",
       "        var button = $('<button class=\"btn btn-default\" href=\"#\" title=\"' + name + '\"><i class=\"fa ' + image + ' fa-lg\"></i></button>');\n",
       "        button.click(method_name, toolbar_event);\n",
       "        button.mouseover(tooltip, toolbar_mouse_event);\n",
       "        nav_element.append(button);\n",
       "    }\n",
       "\n",
       "    // Add the status bar.\n",
       "    var status_bar = $('<span class=\"mpl-message\" style=\"text-align:right; float: right;\"/>');\n",
       "    nav_element.append(status_bar);\n",
       "    this.message = status_bar[0];\n",
       "\n",
       "    // Add the close button to the window.\n",
       "    var buttongrp = $('<div class=\"btn-group inline pull-right\"></div>');\n",
       "    var button = $('<button class=\"btn btn-mini btn-primary\" href=\"#\" title=\"Stop Interaction\"><i class=\"fa fa-power-off icon-remove icon-large\"></i></button>');\n",
       "    button.click(function (evt) { fig.handle_close(fig, {}); } );\n",
       "    button.mouseover('Stop Interaction', toolbar_mouse_event);\n",
       "    buttongrp.append(button);\n",
       "    var titlebar = this.root.find($('.ui-dialog-titlebar'));\n",
       "    titlebar.prepend(buttongrp);\n",
       "}\n",
       "\n",
       "mpl.figure.prototype._root_extra_style = function(el){\n",
       "    var fig = this\n",
       "    el.on(\"remove\", function(){\n",
       "\tfig.close_ws(fig, {});\n",
       "    });\n",
       "}\n",
       "\n",
       "mpl.figure.prototype._canvas_extra_style = function(el){\n",
       "    // this is important to make the div 'focusable\n",
       "    el.attr('tabindex', 0)\n",
       "    // reach out to IPython and tell the keyboard manager to turn it's self\n",
       "    // off when our div gets focus\n",
       "\n",
       "    // location in version 3\n",
       "    if (IPython.notebook.keyboard_manager) {\n",
       "        IPython.notebook.keyboard_manager.register_events(el);\n",
       "    }\n",
       "    else {\n",
       "        // location in version 2\n",
       "        IPython.keyboard_manager.register_events(el);\n",
       "    }\n",
       "\n",
       "}\n",
       "\n",
       "mpl.figure.prototype._key_event_extra = function(event, name) {\n",
       "    var manager = IPython.notebook.keyboard_manager;\n",
       "    if (!manager)\n",
       "        manager = IPython.keyboard_manager;\n",
       "\n",
       "    // Check for shift+enter\n",
       "    if (event.shiftKey && event.which == 13) {\n",
       "        this.canvas_div.blur();\n",
       "        event.shiftKey = false;\n",
       "        // Send a \"J\" for go to next cell\n",
       "        event.which = 74;\n",
       "        event.keyCode = 74;\n",
       "        manager.command_mode();\n",
       "        manager.handle_keydown(event);\n",
       "    }\n",
       "}\n",
       "\n",
       "mpl.figure.prototype.handle_save = function(fig, msg) {\n",
       "    fig.ondownload(fig, null);\n",
       "}\n",
       "\n",
       "\n",
       "mpl.find_output_cell = function(html_output) {\n",
       "    // Return the cell and output element which can be found *uniquely* in the notebook.\n",
       "    // Note - this is a bit hacky, but it is done because the \"notebook_saving.Notebook\"\n",
       "    // IPython event is triggered only after the cells have been serialised, which for\n",
       "    // our purposes (turning an active figure into a static one), is too late.\n",
       "    var cells = IPython.notebook.get_cells();\n",
       "    var ncells = cells.length;\n",
       "    for (var i=0; i<ncells; i++) {\n",
       "        var cell = cells[i];\n",
       "        if (cell.cell_type === 'code'){\n",
       "            for (var j=0; j<cell.output_area.outputs.length; j++) {\n",
       "                var data = cell.output_area.outputs[j];\n",
       "                if (data.data) {\n",
       "                    // IPython >= 3 moved mimebundle to data attribute of output\n",
       "                    data = data.data;\n",
       "                }\n",
       "                if (data['text/html'] == html_output) {\n",
       "                    return [cell, data, j];\n",
       "                }\n",
       "            }\n",
       "        }\n",
       "    }\n",
       "}\n",
       "\n",
       "// Register the function which deals with the matplotlib target/channel.\n",
       "// The kernel may be null if the page has been refreshed.\n",
       "if (IPython.notebook.kernel != null) {\n",
       "    IPython.notebook.kernel.comm_manager.register_target('matplotlib', mpl.mpl_figure_comm);\n",
       "}\n"
      ],
      "text/plain": [
       "<IPython.core.display.Javascript object>"
      ]
     },
     "metadata": {},
     "output_type": "display_data"
    },
    {
     "data": {
      "text/html": [
       "<img src=\"data:image/png;base64,iVBORw0KGgoAAAANSUhEUgAAAoAAAAHgCAYAAAA10dzkAAAgAElEQVR4Xu3de4yddZkH8Ae6sNhoBQSCQi9ItrGXYGgNpdSWmviHeElbNaKQlltQLmqDJqLIpY1ApVVaouk9pqUKNFXwkkg0mFCxJTExqcYWCghUQrvZza50IW7bBbr5vcmZQK8z83T6Oz3n8yYk6/Y8Z875vN+Z5zvnNsft3bt3bzgIECBAgAABAgS6RuA4BbBrzrU7SoAAAQIECBBoBBRAQSBAgAABAgQIdJmAAthlJ9zdJUCAAAECBAgogDJAgAABAgQIEOgyAQWwy064u0uAAAECBAgQUABlgAABAgQIECDQZQIKYJedcHeXAAECBAgQIKAAygABAgQIECBAoMsEFMAuO+HuLgECBAgQIEBAAZQBAgQIECBAgECXCSiAXXbC3V0CBAgQIECAgAIoAwQIECBAgACBLhNQALvshLu7BAgQIECAAAEFUAYIECBAgAABAl0moAB22Ql3dwkQIECAAAECCqAMECBAgAABAgS6TEAB7LIT7u4SIECAAAECBBRAGSBAgAABAgQIdJmAAthlJ9zdJUCAAAECBAgogDJAgAABAgQIEOgyAQWwy064u0uAAAECBAgQUABlgAABAgQIECDQZQIKYJedcHeXAAECBAgQIKAAygABAgQIECBAoMsEFMAuO+HuLgECBAgQIEBAAZQBAgQIECBAgECXCSiAXXbC3V0CBAgQIECAgAIoAwQIECBAgACBLhNQALvshLu7BAgQIECAAAEFUAYIECBAgAABAl0moAB22Ql3dwkQIECAAAECCqAMECBAgAABAgS6TEAB7LIT7u4SIECAAAECBBRAGSBAgAABAgQIdJmAAthlJ9zdJUCAAAECBAgogDJAgAABAgQIEOgyAQWwy064u0uAAAECBAgQUABlgAABAgQIECDQZQIKYJedcHeXAAECBAgQIKAAygABAgQIECBAoMsEFMAuO+HuLgECBAgQIEBAAZQBAgQIECBAgECXCSiAXXbC3V0CBAgQIECAgAIoAwQIECBAgACBLhNQALvshLu7BAgQIECAAAEFUAYIECBAgAABAl0moAB22Ql3dwkQIECAAAECCqAMECBAgAABAgS6TEAB7LIT7u4SIECAAAECBBRAGSBAgAABAgQIdJmAAthlJ9zdJUCAAAECBAgogDJAgAABAgQIEOgygY4pgL///e9jwYIF8ac//Sl27NgRjzzySEyfPv2Qp3P9+vXxta99LTZv3hzve9/74hvf+EZcd911XRYBd5cAAQIECBDoNoGOKYCPPvpobNiwIcaNGxef+cxnDlsAX3jhhRg7dmxce+218aUvfamZveGGG+LBBx9s5h0ECBAgQIAAgU4V6JgC+NYTdNxxxx22AN58883xy1/+Mp566qme0fLo35///Od48sknO/V8u18ECBAgQIAAgejaAjhlypQ4//zz47777uuJQXna+HOf+1z885//jBNOOEE8CBAgQIAAAQIdKdC1BXDkyJFx5ZVXxi233NJzYjdu3BiTJk2K7du3x3vf+979Tvju3buj/Nc63nzzzfjv//7veM973hPlUUcHAQIECBAg0P4Ce/fujVdffbV5/f/xxx/f/jd4AG5hVxfAq666Kr71rW/1sJbXAX74wx9u3kRy5pln7sc9Z86cmDt37gCcBldJgAABAgQIHG2Bl156Kc4+++yj/WXb4ut1bQHsz1PA+z4CuHPnzhg2bFiUAA0ZMqQtTqgbQYAAAQIECBxa4H/+539i6NCh8corr8S73/3uruTq2gJY3gTyq1/9KrZs2dJz4q+//vrYtGlTr98EUgJUglOKoALYld8/7jQBAgQIHIMC9nd0zptAXnvttXjuueeaGJY3d9x7773xkY98JE499dTmUbryVO/LL78c999/f3OZ1sfAlI+AKR8FU975W94F3JePgRGgY/C73k0mQIAAga4XsL87qAA+/vjjTeHb97jiiiti1apVzRs+XnzxxSiXax3lg6Bvuummng+CLo8K9uWDoAWo63+GACBAgACBY1DA/u6gAlgjfwJUQ93XJECAAAECOQH7WwFMJUiAUnyGCRAgQIBAvwTKx7i8/vrr8cYbbxxwftCgQfEv//IvB/2INvtbAexX8FpDApTiM0yAAAECBPossGfPnubj2sofbTjUMXjw4OYzfU888cT9LmZ/K4B9Dt5bBwQoxWeYAAECBAj0SaD8AYZnn302yiN8p59+elPu9v1DDOXRwVIS//M//7N5hPDf/u3f9vuwZ/tbAexT8Pa9sACl+AwTIECAAIE+Cezatav5FI/hw4dHeYTvUEd5hHDbtm1xzjnnxEknnfS2i9rfCmCfgqcAprgMEyBAgACBlECrAB6o1O17xYe6rAKoAKaCKEApPsMECBAgQKBPAgpgn7gOeeGO/EsgR47n0NekAB4taV+HAAECBAhEKIBHLgUKYMJSAUzgGSVAgAABAn0UUAD7CHaIiyuACUsFMIFnlAABAgQI9FFAAewjmAJ45MDeek0K4MC4ulYCBAgQIHAggVYBHDFiRLzjHe84JNL//u//Nn8C1ruAD8zkEcDE95gCmMAzSoAAAQIE+ihQPtfvmWeeiTPOOCPe8573HHL6v/7rv+I//uM/YuTIkc3nBnoA5+1cCmAfwydACTCjBAgQIEAgKVD+Csgrr7zSlMDyWYAH+iDo8hmApfydfPLJzV8D2ffwAI6PgUnFUIBSfIYJECBAgECfBcpf+vj3f//3pgQe6ijl78wzzzzg3wO2vxXAPgfPI4ApMsMECBAgQOCICJSng//v//7vgNd1wgkn7Pe0r/39dipPASdi6DeIBJ5RAgQIECBQScD+9ghgKnoClOIzTIAAAQIEqgjY3wpgKngClOIzTIAAAQIEqgjY3wpgKngClOIzTIAAAQIEqgjY3wpgKngClOIzTIAAAQIEqgjY3wpgKngClOIzTIAAAQIEqgjY3wpgKngClOIzTIAAAQIEqgjY3wpgKngClOIzTIAAAQIEqgjY3wpgKngClOIzTIAAAQIEqgjY3wpgKngClOIzTIAAAQIEqgjY3wpgKngClOIzTIAAAQIEqgjY3wpgKngClOIzTIAAAQIEqgjY3wpgKngClOIzTIAAAQIEqgjY3wpgKngClOIzTIAAAQIEqgjY3wpgKngClOIzTIAAAQIEqgjY3wpgKngClOIzTIAAAQIEqgjY3wpgKngClOIzTIAAAQIEqgjY3wpgKngClOIzTIAAAQIEqgjY3wpgKngClOIzTIAAAQIEqgjY3wpgKngClOIzTIAAAQIEqgjY3wpgKngClOIzTIAAAQIEqgjY3wpgKngClOIzTIAAAQIEqgjY3wpgKngClOIzTIAAAQIEqgjY3wpgKngClOIzTIAAAQIEqgjY3wpgKngClOIzTIAAAQIEqgjY3wpgKngClOIzTIAAAQIEqgjY3wpgKngClOIzTIAAAQIEqgjY3wpgKngClOIzTIAAAQIEqgjY3wpgKngClOIzTIAAAQIEqgjY3wpgKngClOIzTIAAAQIEqgjY3wpgKngClOIzTIAAAQIEqgjY3wpgKngClOIzTIAAAQIEqgjY3wpgKngClOIzTIAAAQIEqgjY3wpgKngClOIzTIAAAQIEqgjY3wpgKngClOIzTIAAAQIEqgjY3wpgKngClOIzTIAAAQIEqgjY3wpgKngClOIzTIAAAQIEqgjY3wpgKngClOIzTIAAAQIEqgjY3wpgKngClOIzTIAAAQIEqgjY3wpgKngClOIzTIAAAQIEqgjY3wpgKngClOIzTIAAAQIEqgjY3wpgKngClOIzTIAAAQIEqgjY3wpgKngClOIzTIAAAQIEqgjY3wpgKngClOIzTIAAAQIEqgjY3wpgKngClOIzTIAAAQIEqgjY3wpgKngClOIzTIAAAQIEqgjY3wpgKngClOIzTIAAAQIEqgjY3wpgKngClOIzTIAAAQIEqgjY3wpgKngClOIzTIAAAQIEqgjY3x1WABcvXhwLFiyIHTt2xJgxY2LRokUxefLkg4ar/PuSJUvi73//e5x22mnx2c9+NubNmxcnnXRSrwIpQL1iciECBAgQINBWAvZ3BxXAtWvXxsyZM6OUwEmTJsWyZcti5cqVsWXLlhg2bNh+wfvJT34S11xzTfzoRz+Kiy66KJ555pm48sor49JLL42FCxf2KqgC1CsmFyJAgAABAm0lYH93UAGcMGFCjBs3rnlEr3WMGjUqpk+f3jyqt+/x5S9/OZ566qn43e9+1/NPX//61+OPf/xjPPHEE70KqgD1ismFCBAgQIBAWwnY3x1SAPfs2RODBw+OdevWxYwZM3pCNnv27Ni0aVOsX79+v+A99NBDcd1118Vvf/vbuOCCC+L555+PT3ziE3HFFVfEN7/5zV4FVYB6xeRCBAgQIECgrQTs7w4pgNu3b4+zzjorNmzY0Dyd2zruvvvuWL16dWzduvWAwfvBD34Q5VG/vXv3xuuvvx7XX3998xTywY7du3dH+a91lAANHTo0du7cGUOGDGmrcLsxBAgQIECAwIEFFMAOK4AbN26MiRMn9pztu+66K9asWRNPP/30fgl4/PHH4/Of/3zceeedUZ4+fu6556I8YnjttdfGbbfddsDEzJkzJ+bOnbvfvymAfsQQIECAAIFjR0AB7JAC2J+ngMu7gy+88MLmXcOt48c//nF88YtfjNdeey2OP/74/ZLsEcBj55vbLSVAgAABAgcTUAA7pACWE1wexRs/fvzbnsIdPXp0TJs27YBvAimX/ehHPxr33HNPTz4efPDBuPrqq5sCOGjQoMN+5wjQYYlcgAABAgQItJ2A/d1BBbD1MTBLly5tngZevnx5rFixIjZv3hzDhw+PWbNmNa8TbL0juDyde++99zaXaz0FXF4DWIphua7eHALUGyWXIUCAAAEC7SVgf3dQASzRKm/gmD9/fvNB0GPHjm0+z2/KlClN6qZOnRojRoyIVatWNf+7vOmj9RrBl19+OU4//fT41Kc+1fz/Tj755F4lVYB6xeRCBAgQIECgrQTs7w4rgEc7XQJ0tMV9PQIECBAgkBewvxXAVIoEKMVnmAABAgQIVBGwvxXAVPAEKMVnmAABAgQIVBGwvxXAVPAEKMVnmAABAgQIVBGwvxXAVPAEKMVnmAABAgQIVBGwvxXAVPAEKMVnmAABAgQIVBGwvxXAVPAEKMVnmAABAgQIVBGwvxXAVPAEKMVnmAABAgQIVBGwvxXAVPAEKMVnmAABAgQIVBGwvxXAVPAEKMVnmAABAgQIVBGwvxXAVPAEKMVnmAABAgQIVBGwvxXAVPAEKMVnmAABAgQIVBGwvxXAVPAEKMVnmAABAgQIVBGwvxXAVPAEKMVnmAABAgQIVBGwvxXAVPAEKMVnmAABAgQIVBGwvxXAVPAEKMVnmAABAgQIVBGwvxXAVPAEKMVnmAABAgQIVBGwvxXAVPAEKMVnmAABAgQIVBGwvxXAVPAEKMVnmAABAgQIVBGwvxXAVPAEKMVnmAABAgQIVBGwvxXAVPAEKMVnmAABAgQIVBGwvxXAVPAEKMVnmAABAgQIVBGwvxXAVPAEKMVnmAABAgQIVBGwvxXAVPAEKMVnmAABAgQIVBGwvxXAVPAEKMVnmAABAgQIVBGwvxXAVPAEKMVnmAABAgQIVBGwvxXAVPAEKMVnmAABAgQIVBGwvxXAVPAEKMVnmAABAgQIVBGwvxXAVPAEKMVnmAABAgQIVBGwvxXAVPAEKMVnmAABAgQIVBGwvxXAVPAEKMVnmAABAgQIVBGwvxXAVPAEKMVnmAABAgQIVBGwvxXAVPAEKMVnmAABAgQIVBGwvxXAVPAEKMVnmAABAgQIVBGwvxXAVPAEKMVnmAABAgQIVBGwvxXAVPAEKMVnmAABAgQIVBGwvxXAVPAEKMVnmAABAgQIVBGwvxXAVPAEKMVnmAABAgQIVBGwvxXAVPAEKMVnmAABAgQIVBGwvxXAVPAEKMVnmAABAgQIVBGwvxXAVPAEKMVnmAABAgQIVBGwvxXAVPAEKMVnmAABAgQIVBGwvxXAVPAEKMVnmAABAgQIVBGwvxXAVPAEKMVnmAABAgQIVBGwvxXAVPAEKMVnmAABAgQIVBGwvxXAVPAEKMVnmAABAgQIVBGwvxXAVPAEKMVnmAABAgQIVBGwvxXAVPAEKMVnmAABAgQIVBGwvxXAVPAEKMVnmAABAgQIVBGwvxXAVPAEKMVnmAABAgQIVBGwvxXAVPAEKMVnmAABAgQIVBGwvxXAVPAEKMVnmAABAgQIVBGwvxXAVPAEKMVnmAABAgQIVBGwvxXAVPAEKMVnmAABAgQIVBGwvxXAVPAEKMVnmAABAgQIVBGwvxXAVPAEKMVnmAABAgQIVBGwvxXAVPAEKMVnmAABAgQIVBGwvxXAVPAEKMVnmAABAgQIVBGwvxXAVPAEKMVnmAABAgQIVBGwvxXAVPAEKMVnmAABAgQIVBGwvxXAVPAEKMVnmAABAgQIVBGwvxXAVPAEKMVnmAABAgQIVBGwvxXAVPAEKMVnmAABAgQIVBGwvxXAVPAEKMVnmAABAgQIVBGwvzusAC5evDgWLFgQO3bsiDFjxsSiRYti8uTJBw3XK6+8Et/+9rfj4Ycfjn/84x9xzjnnxPe///34+Mc/3qtAClCvmFyIAAECBAi0lYD93UEFcO3atTFz5swoJXDSpEmxbNmyWLlyZWzZsiWGDRu2X/D27NnTXO6MM86IW265Jc4+++x46aWX4l3veld88IMf7FVQBahXTC5EgAABAgTaSsD+7qACOGHChBg3blwsWbKkJ2SjRo2K6dOnx7x58/YL3tKlS5tHC59++uk44YQT+hVMAeoXmyECBAgQIFBVwP7ukAJYHs0bPHhwrFu3LmbMmNETqtmzZ8emTZti/fr1+wWtPM176qmnNnO/+MUv4vTTT4/LLrssbr755hg0aNABg7l79+4o/7WOEqChQ4fGzp07Y8iQIVXD7IsTIECAAAECvRNQADukAG7fvj3OOuus2LBhQ1x00UU9Z//uu++O1atXx9atW/dLxAc+8IF48cUX4/LLL48bbrghnn322bjxxhujlMbbb7/9gAmaM2dOzJ07d79/UwB79w3nUgQIECBAoB0EFMAOK4AbN26MiRMn9mTrrrvuijVr1jRP8+57jBw5Mnbt2hUvvPBCzyN+9957b8+bSA4UUI8AtsO3rdtAgAABAgRyAgpghxTA/jwFfPHFFzev/Xvsscd6UvToo4827wAuRe/EE088bLoE6LBELkCAAAECBNpOwP7ukAJYklXeBDJ+/PjmXcCtY/To0TFt2rQDvgmkvPP3gQceiOeffz6OP/74ZuS+++6Le+65J8pTyr05BKg3Si5DgAABAgTaS8D+7qAC2PoYmPLu3vI08PLly2PFihWxefPmGD58eMyaNat5nWDrHcHlI19KQbzyyivjK1/5SvMawKuvvjq++tWvNp8N2JtDgHqj5DIECBAgQKC9BOzvDiqAJVrl0b/58+c3HwQ9duzYWLhwYUyZMqVJ3dSpU2PEiBGxatWqnhQ++eSTcdNNNzXvFC7l8Jprrjnku4D3ja8Atdc3tFtDgAABAgR6I2B/d1gB7M1JP5KXEaAjqem6CBAgQIDA0RGwvxXAVNIEKMVnmAABAgQIVBGwvxXAVPAEKMVnmAABAgQIVBGwvxXAVPAEKMVnmAABAgQIVBGwvxXAVPAEKMVnmAABAgQIVBGwvxXAVPAEKMVnmAABAgQIVBGwvxXAVPAEKMVnmAABAgQIVBGwvxXAVPAEKMVnmAABAgQIVBGwvxXAVPAEKMVnmAABAgQIVBGwvxXAVPAEKMVnmAABAgQIVBGwvxXAVPAEKMVnmAABAgQIVBGwvxXAVPAEKMVnmAABAgQIVBGwvxXAVPAEKMVnmAABAgQIVBGwvxXAVPAEKMVnmAABAgQIVBGwvxXAVPAEKMVnmAABAgQIVBGwvxXAVPAEKMVnmAABAgQIVBGwvxXAVPAEKMVnmAABAgQIVBGwvxXAVPAEKMVnmAABAgQIVBGwvxXAVPAEKMVnmAABAgQIVBGwvxXAVPAEKMVnmAABAgQIVBGwvxXAVPAEKMVnmAABAgQIVBGwvxXAVPAEKMVnmAABAgQIVBGwvxXAVPAEKMVnmAABAgQIVBGwvxXAVPAEKMVnmAABAgQIVBGwvxXAVPAEKMVnmAABAgQIVBGwvxXAVPAEKMVnmAABAgQIVBGwvxXAVPAEKMVnmAABAgQIVBGwvxXAVPAEKMVnmAABAgQIVBGwvxXAVPAEKMVnmAABAgQIVBGwvxXAVPAEKMVnmAABAgQIVBGwvxXAVPAEKMVnmAABAgQIVBGwvxXAVPAEKMVnmAABAgQIVBGwvxXAVPAEKMVnmAABAgQIVBGwvxXAVPAEKMVnmAABAgQIVBGwvxXAVPAEKMVnmAABAgQIVBGwvxXAVPAEKMVnmAABAgQIVBGwvxXAVPAEKMVnmAABAgQIVBGwvxXAVPAEKMVnmAABAgQIVBGwvxXAVPAEKMVnmAABAgQIVBGwvxXAVPAEKMVnmAABAgQIVBGwvxXAVPAEKMVnmAABAgQIVBGwvxXAVPAEKMVnmAABAgQIVBGwvxXAVPAEKMVnmAABAgQIVBGwvxXAVPAEKMVnmAABAgQIVBGwvxXAVPAEKMVnmAABAgQIVBGwvxXAVPAEKMVnmAABAgQIVBGwvxXAVPAEKMVnmAABAgQIVBGwvxXAVPAEKMVnmAABAgQIVBGwvxXAVPAEKMVnmAABAgQIVBGwvxXAVPAEKMVnmAABAgQIVBGwvxXAVPAEKMVnmAABAgQIVBGwvxXAVPAEKMVnmAABAgQIVBGwvxXAVPAEKMVnmAABAgQIVBGwvxXAVPAEKMVnmAABAgQIVBGwvxXAVPAEKMVnmAABAgQIVBGwvxXAVPAEKMVnmAABAgQIVBGwvxXAVPAEKMVnmAABAgQIVBGwvxXAVPAEKMVnmAABAgQIVBGwvxXAVPAEKMVnmAABAgQIVBGwvxXAVPAEKMVnmAABAgQIVBGwvxXAVPAEKMVnmAABAgQIVBGwvxXAVPAEKMVnmAABAgQIVBGwvxXAVPAEKMVnmAABAgQIVBGwvxXAVPAEKMVnmAABAgQIVBGwvzusAC5evDgWLFgQO3bsiDFjxsSiRYti8uTJhw3XQw89FF/4whdi2rRp8fOf//ywl29dQIB6TeWCBAgQIECgbQTs7w4qgGvXro2ZM2dGKYGTJk2KZcuWxcqVK2PLli0xbNiwg4Zu27ZtzeXf//73x6mnnqoAts23pxtCgAABAgQGRkAB7KACOGHChBg3blwsWbKkJy2jRo2K6dOnx7x58w6YoDfeeCMuvvjiuOqqq+KJJ56IV155RQEcmO8110qAAAECBNpGQAHskAK4Z8+eGDx4cKxbty5mzJjRE7DZs2fHpk2bYv369QcM3R133BF/+ctf4pFHHokrr7zysAVw9+7dUf5761PAQ4cOjZ07d8aQIUPaJthuCAECBAgQIHBwAQWwQwrg9u3b46yzzooNGzbERRdd1HPG77777li9enVs3bp1vxSUy1566aVNQTzttNN6VQDnzJkTc+fO3e+6FEA/ZggQIECAwLEjoAB2WAHcuHFjTJw4sSeBd911V6xZsyaefvrpt6Xy1VdfjfPOO695veAll1zS/JtHAI+db1y3lAABAgQIZAQUwA4pgH19Crg86nf++efHoEGDevLz5ptvNv/38ccf3zxieO655x42WwJ0WCIXIECAAAECbSdgf3dIASzJKm8CGT9+fPOoXusYPXp089Eu+74JZNeuXfHcc8+9LZC33nprlEcG77vvvhg5cmSceOKJhw2sAB2WyAUIECBAgEDbCdjfHVQAWx8Ds3Tp0uZp4OXLl8eKFSti8+bNMXz48Jg1a1bzOsGDvSO4N08B75tgAWq772k3iAABAgQIHFbA/u6gAljOdnn0b/78+c0HQY8dOzYWLlwYU6ZMaYIwderUGDFiRKxateqAwVAAD/v94gIECBAgQKAjBBTADiuARzuVAnS0xX09AgQIECCQF7C/FcBUigQoxWeYAAECBAhUEbC/FcBU8AQoxWeYAAECBAhUEbC/FcBU8AQoxWeYAAECBAhUEbC/FcBU8AQoxWeYAAECBAhUEbC/FcBU8AQoxWeYAAECBAhUEbC/FcBU8AQoxWeYAAECBAhUEbC/FcBU8AQoxWeYAAECBAhUEbC/FcBU8AQoxWeYAAECBAhUEbC/FcBU8AQoxWeYAAECBAhUEbC/FcBU8AQoxWeYAAECBAhUEbC/FcBU8AQoxWeYAAECBAhUEbC/FcBU8AQoxWeYAAECBAhUEbC/FcBU8AQoxWeYAAECBAhUEbC/FcBU8AQoxWeYAAECBAhUEbC/FcBU8AQoxWeYAAECBAhUEbC/FcBU8AQoxWeYAAECBAhUEbC/FcBU8AQoxWeYAAECBAhUEbC/FcBU8AQoxWeYAAECBAhUEbC/FcBU8AQoxWeYAAECBAhUEbC/FcBU8AQoxWeYAAECBAhUEbC/FcBU8AQoxWeYAAECBAhUEbC/FcBU8AQoxWeYAAECBAhUEbC/FcBU8AQoxWeYAAECBAhUEbC/FcBU8AQoxWeYAAECBAhUEbC/FcBU8AQoxWeYAAECBAhUEbC/FcBU8AQoxWeYAAECBAhUEbC/FcBU8AQoxWeYAAECBAhUEbC/FcBU8AQoxWeYAAECBAhUEbC/FcBU8AQoxWeYAAECBAhUEbC/FcBU8AQoxWeYAAECBAhUEbC/FcBU8AQoxWeYAAECBAhUEbC/FcBU8AQoxWeYAAECBAhUEbC/FcBU8AQoxWeYAAECBAhUEbC/FcBU8AQoxWeYAAECBAhUEbC/FcBU8AQoxWeYAAECBAhUEbC/FcBU8AQoxWeYAAECBAXcimMAABaBSURBVAhUEbC/FcBU8AQoxWeYAAECBAhUEbC/FcBU8AQoxWeYAAECBAhUEbC/FcBU8AQoxWeYAAECBAhUEbC/FcBU8AQoxWeYAAECBAhUEbC/FcBU8AQoxWeYAAECBAhUEbC/FcBU8AQoxWeYAAECBAhUEbC/FcBU8AQoxWeYAAECBAhUEbC/FcBU8AQoxWeYAAECBAhUEbC/FcBU8AQoxWeYAAECBAhUEbC/FcBU8AQoxWeYAAECBAhUEbC/FcBU8AQoxWeYAAECBAhUEbC/FcBU8AQoxWeYAAECBAhUEbC/FcBU8AQoxWeYAAECBAhUEbC/FcBU8AQoxWeYAAECBAhUEbC/FcBU8AQoxWeYAAECBAhUEbC/FcBU8AQoxWeYAAECBAhUEbC/FcBU8AQoxWeYAAECBAhUEbC/FcBU8AQoxWeYAAECBAhUEbC/FcBU8AQoxWeYAAECBAhUEbC/FcBU8AQoxWeYAAECBAhUEbC/FcBU8AQoxWeYAAECBAhUEbC/FcBU8AQoxWeYAAECBAhUEbC/FcBU8AQoxWeYAAECBAhUEbC/FcBU8AQoxWeYAAECBAhUEbC/FcBU8AQoxWeYAAECBAhUEbC/FcBU8AQoxWeYAAECBAhUEbC/FcBU8AQoxWeYAAECBAhUEbC/O6wALl68OBYsWBA7duyIMWPGxKJFi2Ly5MkHDNeKFSvi/vvvj7/+9a/Nv48fPz7uvvvuuOCCC3odRgHqNZULEiBAgACBthGwvzuoAK5duzZmzpwZpQROmjQpli1bFitXrowtW7bEsGHD9gvd5Zdf3lzuoosuipNOOinmz58fDz/8cGzevDnOOuusXoVUgHrF5EIECBAgQKCtBOzvDiqAEyZMiHHjxsWSJUt6QjZq1KiYPn16zJs377DBe+ONN+KUU06JH/7whzFr1qzDXr5cQIB6xeRCBAgQIECgrQTs7w4pgHv27InBgwfHunXrYsaMGT0hmz17dmzatCnWr19/2OC9+uqrccYZZzTX8clPfvKAl9+9e3eU/1pHCdDQoUNj586dMWTIkMN+DRcgQIAAAQIE6gsogB1SALdv3948bbthw4bmKd3WUV7Tt3r16ti6deth03bjjTfGb37zm+Y1geUp4QMdc+bMiblz5+73TwrgYXldgAABAgQItI2AAthhBXDjxo0xceLEnoDdddddsWbNmnj66acPGbry+r/vfve78fjjj8d555130Mt6BLBtvnfdEAIECBAg0G8BBbBDCmDmKeDvfe97ceedd8Zjjz0WH/rQh/oUJgHqE5cLEyBAgACBthCwvzukAJY0lTeBlI9yKe8Cbh2jR4+OadOmHfRNIOUjY0r5K0/9XnjhhX0OpQD1mcwAAQIECBCoLmB/d1ABbH0MzNKlS5ungZcvXx7ls/7Kx7oMHz68eWdveZ1g6x3B5Wnf2267LR544IHm42Baxzvf+c4o//XmEKDeKLkMAQIECBBoLwH7u4MKYIlWefSvFLvyQdBjx46NhQsXxpQpU5rUTZ06NUaMGBGrVq1q/nf5v7dt27ZfIu+4444ob/bozSFAvVFyGQIECBAg0F4C9neHFcCjHS8BOtrivh4BAgQIEMgL2N8KYCpFApTiM0yAAAECBKoI2N8KYCp4ApTiM0yAAAECBKoI2N8KYCp4ApTiM0yAAAECBKoI2N8KYCp4ApTiM0yAAAECBKoI2N8KYCp4ApTiM0yAAAECBKoI2N8KYCp4ApTiM0yAAAECBKoI2N8KYCp4ApTiM0yAAAECBKoI2N8KYCp4ApTiM0yAAAECBKoI2N8KYCp4ApTiM0yAAAECBKoI2N8KYCp4ApTiM0yAAAECBKoI2N8KYCp4ApTiM0yAAAECBKoI2N8KYCp4ApTiM0yAAAECBKoI2N8KYCp4ApTiM0yAAAECBKoI2N8KYCp4ApTiM0yAAAECBKoI2N8KYCp4ApTiM0yAAAECBKoI2N8KYCp4ApTiM0yAAAECBKoI2N8KYCp4ApTiM0yAAAECBKoI2N8KYCp4ApTiM0yAAAECBKoI2N8KYCp4ApTiM0yAAAECBKoI2N8KYCp4ApTiM0yAAAECBKoI2N8KYCp4ApTiM0yAAAECBKoI2N8KYCp4ApTiM0yAAAECBKoI2N8KYCp4ApTiM0yAAAECBKoI2N8KYCp4ApTiM0yAAAECBKoI2N8KYCp4ApTiM0yAAAECBKoI2N8KYCp4ApTiM0yAAAECBKoI2N8KYCp4ApTiM0yAAAECBKoI2N8KYCp4ApTiM0yAAAECBKoI2N8KYCp4ApTiM0yAAAECBKoI2N8KYCp4ApTiM0yAAAECBKoI2N8KYCp4ApTiM0yAAAECBKoI2N8KYCp4ApTiM0yAAAECBKoI2N8KYCp4ApTiM0yAAAECBKoI2N8KYCp4ApTiM0yAAAECBKoI2N8KYCp4ApTiM0yAAAECBKoI2N8KYCp4ApTiM0yAAAECBKoI2N8KYCp4ApTiM0yAAAECBKoI2N8KYCp4ApTiM0yAAAECBKoI2N8KYCp4ApTiM0yAAAECBKoI2N8KYCp4ApTiM0yAAAECBKoI2N8KYCp4ApTiM0yAAAECBKoI2N8KYCp4ApTiM0yAAAECBKoI2N8KYCp4ApTiM0yAAAECBKoI2N8KYCp4ApTiM0yAAAECBKoI2N8KYCp4ApTiM0yAAAECBKoI2N8KYCp4ApTiM0yAAAECBKoI2N8KYCp4ApTiM0yAAAECBKoI2N8KYCp4ApTiM0yAAAECBKoI2N8KYCp4ApTiM0yAAAECBKoI2N8KYCp4ApTiM0yAAAECBKoI2N8KYCp4ApTiM0yAAAECBKoI2N8KYCp4ApTiM0yAAAECBKoI2N8KYCp4ApTiM0yAAAECBKoI2N8KYCp4ApTiM0yAAAECBKoI2N8KYCp4ApTiM0yAAAECBKoI2N8KYCp4ApTiM0yAAAECBKoI2N8KYCp4ApTiM0yAAAECBKoI2N8KYCp4ApTiM0yAAAECBKoI2N8KYCp4ApTiM0yAAAECBKoI2N8KYCp4ApTiM0yAAAECBKoI2N8KYCp4ApTiM0yAAAECBKoI2N8KYCp4ApTiM0yAAAECBKoI2N8KYCp4ApTiM0yAAAECBKoI2N8dVgAXL14cCxYsiB07dsSYMWNi0aJFMXny5IOG62c/+1ncdttt8be//S3OPffcuOuuu2LGjBm9DqMA9ZrKBQkQIECAQNsI2N8dVADXrl0bM2fOjFICJ02aFMuWLYuVK1fGli1bYtiwYfuF7sknn2zK4Xe+852m9D3yyCNx++23xx/+8IeYMGFCr0IqQL1iciECBAgQINBWAvZ3BxXAUtrGjRsXS5Ys6QnZqFGjYvr06TFv3rz9gnfppZdGCcCjjz7a828f+9jH4pRTTokHH3ywV0EVoF4xuRABAgQIEGgrAfu7Qwrgnj17YvDgwbFu3bq3PYU7e/bs2LRpU6xfv36/4JVHBW+66abmv9axcOHC5mnjbdu2HTCou3fvjvJf69i5c2fz6OJLL70UQ4YMaatwuzEECBAgQIDAgQVKARw6dGi88sor8e53v7srmY7bu3fv3mP9nm/fvj3OOuus2LBhQ1x00UU9d+fuu++O1atXx9atW/e7iyeeeGKsWrUqLrvssp5/e+CBB+Kqq656W8l76+CcOXNi7ty5xzqX20+AAAECBAhENO8BeP/739+VFh1VADdu3BgTJ07sOZHlTR1r1qyJp59++oAFsJTDL3zhCz3/9pOf/CSuueaa2LVrV68eASy/OQwfPjz+/ve/d+1vEO3yXdP6bc6jsfXPiHNR/xy89RY4H+1zPpyL9jkXrWfw/vGPf8TJJ5/cPjfsKN6SjiiAR+sp4H3Pi9cQHMWkHuZLORfORfsItNct8b3RPufDuXAu2kegQ14DWEDLm0DGjx/fvAu4dYwePTqmTZt20DeBvPrqq/HrX/+65/KXXHJJ85uAN4G0U0R7d1v8YO2d09G4lHNxNJR7/zWcj95bDfQlnYuBFu799TsXHVQAWx8Ds3Tp0uZp4OXLl8eKFSti8+bNzdO0s2bNal4n2HpHcHm6eMqUKc1n/5WS+Itf/CJuvfVWHwPT+++ftrqkb+b2OR3ORfuci3JLnI/2OR/OhXPRPgIdVAALann0b/78+c0HQY8dOzbKu3pLySvH1KlTY8SIEc0bP1rHT3/606b0Pf/88z0fBP3pT3+61+envCO4FMpvfetb8a//+q+9nnPBIy/gXBx50/5eo3PRX7mBmXM+Bsa1P9fqXPRHbWBmnIsOK4ADExPXSoAAAQIECBDoLIGOeBNIZ50S94YAAQIECBAgMLACCuDA+rp2AgQIECBAgEDbCSiAbXdK3CACBAgQIECAwMAKKIAD6+vaCRAgQIAAAQJtJ6AAHuaUlHcWL1iwoHln8ZgxY5q/FTx58uSDTv3sZz+L2267rfnzMueee27zMTMzZsxouxN/LN6gvpyL8hFA999/f/z1r39t7mr5jMjypwEvuOCCY/Gut91t7su5eOuNf+ihh5q/vlM+eunnP/95292vY/EG9fVclL9g9O1vfzsefvjhKH8F4Zxzzonvf//78fGPf/xYvPttd5v7ej7KTlmyZEnzF6VOO+20+OxnP9t8usRJJ53UdvftWLpBv//975vd/ac//anZ34888khMnz79kHdh/fr18bWvfa35+Lj3ve998Y1vfCOuu+66Y+lu9+m2KoCH4Gp9tmD5hp40aVIsW7YsVq5cGVu2bIlhw4btN/nkk0825fA73/lOU/pK4G6//fY+fbZgn85eF124r+fi8ssvb85Z+dvQ5Qdp+XigsvDKN3b5PEhH/wX6ei5aX2nbtm3NOSl/d/PUU09VAPt/Cnom+3ouyl9NKufgjDPOiFtuuSXOPvvsKH8+8V3veld88IMfPAK3qLuvoq/no/XnR3/0ox81P6ueeeaZuPLKK+PSSy9tPsbM0X+BRx99NDZs2BDjxo2Lz3zmM4ctgC+88ELz8XHXXnttfOlLX2pmb7jhhuYPQ5T5TjwUwEOc1fLXRUp4ym9nrWPUqFHNbxGtD5R+63j5pi0f9FmC1zo+9rGPxSmnnNLrvy7SiSE7Evepr+di36/5xhtvNOfhhz/8YfOh4I7+C/TnXBT/iy++OK666qp44oknojwK5RHA/p+D1mRfz0X5oPzyqEj5++gnnHBC/ga4hrcJ9PV8fPnLX46nnnoqfve73/Vcz9e//vX44x//2HyfOI6MwHHHHXfYAnjzzTfHL3/5y+Z8tI7y6N+f//znKA/udOKhAB7krNb6+8KdGLLsferPudj3a5Y/+1ce9Vi3bl188pOfzN6krp3v77m444474i9/+UvzQ7g8wqEA5iPUn3NRnuYtj74OHjy4+etHp59+elx22WVRlt+gQYPyN6qLr6E/56O8JKKUjN/+9rfNy1PKHyX4xCc+EVdccUV885vf7GLNI3vXe1MAyx+NOP/88+O+++7r+eLl59XnPve5+Oc//9mRvzApgAfJ2fbt25unCsvDwOWh+dZRXke2evXq2Lp1636TJ554YvOXRsoP1NbxwAMPNI96lE8dd/RPoD/nYt+vdOONN8ZvfvOb5jWBXlvTv/NQpvpzLsr3UHl0fNOmTc1rnBTA/vu/dbI/5+IDH/hAvPjii1FeIlGe3nr22WejfG/Mnj27ebmKo/8C/Tkf5av94Ac/iPKo3969e+P111+P66+//m1/077/t8hkS6A3BXDkyJHNz6by0ojWUf5kbHnJRDm3733vezsOVAE8TAEsASh/W7h1lDd1rFmzpnkKZd+jFMBSDsuL3FtH6zUeu3bt6rjwHK071PrB2pdz8dbbVl7/993vfjcef/zxOO+8847Wze7Ir9PXc1EeeS3m5XW0l1xySWOiAB6ZaPT1XJSvWpZc+VlUXu/UesTv3nvv7Xmj25G5Zd15Lf05H+Vn0uc///m48847ozx9/NxzzzVlvLwOrbyZ0HFkBHpbAMuDNeVPu7aO8svrhz/84eZNJGeeeeaRuTFtdC0K4EFORn8ezi9vDLnpppua/1pHeSFveZdXeQG8o38C/TkXra/0ve99r/nh+thjj8WHPvSh/t0AUz0CfT0X5VG/8rTKW59efPPNN5vrO/7445tH0su75R19F+jruShfobwOs7z2r3w/tI7ymuXy1HB5lqL8Euvon0B/zkd50+CFF17YFPDW8eMf/zi++MUvxmuvvdZ8jzjyAr0pgJ4Czjt31DWU38jKx4eURy9ax+jRo5uPsDjYm0DKIx6//vWvey5fHvU4+eSTvQkkmYy+novy5coP1VL+ylO/5Yes48gI9OVclEebyqMabz1uvfXWKN8n5bU25REppaP/56Uv56J8lfL0VnlZSnmtWatclPNwzz33NE9zOXICfT0fZb989KMfbfxbR3nX6dVXX90UQK/LzJ2P1nRvCmB5HeyvfvWr5lM+Wkd5Or78EutNIEfmPBxT19J6S39551x5Gnj58uVRPl+ufJTI8OHDm3eTltcJtspgeYqy/BZRniYuJbG8yLosuz/84Q/Nw/uO/gv09VyUp33LUyhl2ZXXcLSOd77znVH+c/RfoK/nYt+v5Cng/tvvO9nXc1E+8qX8ElvOwVe+8pXmNYClbHz1q19tPhvQkRPo6/mYM2dOlKfgy25pPQVcSkcphuW6HP0XKAW69ctneRaiOH/kIx9p3gRVnq0rT/W+/PLLzefFlqP1MTDlI2DKU/Cl9JU36PgYmP6fg2N+sjz6V8pEeQ1A+Yyg8pRuKXnlmDp1aowYMaJ540fr+OlPf9qUvvIbduuDoD/96U8f8w7tcAf6ci7KeTnQ0+7l3ajlh64jJ9CXc6EA5qwPN93Xc1EWW3mZSnlko/wCe80113gX8OGQ+/DvfTkf5U0frdeVlzJS3pX9qU99qvn/lWeOHP0XKK+vLIVv36O8w7rs7PJLUHlDVLlc6ygfBF2+N1ofBF0eFfRB0P0/ByYJECBAgAABAgTaTMCbQNrshLg5BAgQIECAAIGBFlAAB1rY9RMgQIAAAQIE2kxAAWyzE+LmECBAgAABAgQGWkABHGhh10+AAAECBAgQaDMBBbDNToibQ4AAAQIECBAYaAEFcKCFXT8BAgQIECBAoM0EFMA2OyFuDgECBAgQIEBgoAUUwIEWdv0ECBAgQIAAgTYTUADb7IS4OQQIECBAgACBgRZQAAda2PUTIECAAAECBNpMQAFssxPi5hAgQIAAAQIEBlpAARxoYddPgAABAgQIEGgzAQWwzU6Im0OAAAECBAgQGGgBBXCghV0/AQIECBAgQKDNBBTANjshbg4BAgQIECBAYKAFFMCBFnb9BAgQIECAAIE2E1AA2+yEuDkECBAgQIAAgYEWUAAHWtj1EyBAgAABAgTaTEABbLMT4uYQIECAAAECBAZaQAEcaGHXT4AAAQIECBBoMwEFsM1OiJtDgAABAgQIEBhoAQVwoIVdPwECBAgQIECgzQQUwDY7IW4OAQIECBAgQGCgBRTAgRZ2/QQIECBAgACBNhNQANvshLg5BAgQIECAAIGBFlAAB1rY9RMgQIAAAQIE2kxAAWyzE+LmECBAgAABAgQGWkABHGhh10+AAAECBAgQaDMBBbDNToibQ4AAAQIECBAYaAEFcKCFXT8BAgQIECBAoM0EFMA2OyFuDgECBAgQIEBgoAX+H7q6nG6W7Y9oAAAAAElFTkSuQmCC\" width=\"640\">"
      ],
      "text/plain": [
       "<IPython.core.display.HTML object>"
      ]
     },
     "metadata": {},
     "output_type": "display_data"
    },
    {
     "name": "stderr",
     "output_type": "stream",
     "text": [
      "No handles with labels found to put in legend.\n"
     ]
    },
    {
     "data": {
      "text/plain": [
       "<matplotlib.legend.Legend at 0x77eec50>"
      ]
     },
     "execution_count": 150,
     "metadata": {},
     "output_type": "execute_result"
    }
   ],
   "source": [
    "plot.legend()"
   ]
  },
  {
   "cell_type": "markdown",
   "metadata": {},
   "source": [
    "### 11.7.2二元移动窗口函数"
   ]
  },
  {
   "cell_type": "code",
   "execution_count": null,
   "metadata": {},
   "outputs": [],
   "source": []
  }
 ],
 "metadata": {
  "kernelspec": {
   "display_name": "Python 3",
   "language": "python",
   "name": "python3"
  },
  "language_info": {
   "codemirror_mode": {
    "name": "ipython",
    "version": 3
   },
   "file_extension": ".py",
   "mimetype": "text/x-python",
   "name": "python",
   "nbconvert_exporter": "python",
   "pygments_lexer": "ipython3",
   "version": "3.7.3"
  }
 },
 "nbformat": 4,
 "nbformat_minor": 2
}
